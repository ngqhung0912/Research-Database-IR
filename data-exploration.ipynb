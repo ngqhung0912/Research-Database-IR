{
 "cells": [
  {
   "cell_type": "code",
   "execution_count": 48,
   "outputs": [],
   "source": [
    "import pandas as pd\n",
    "import matplotlib.pyplot as plt\n",
    "import numpy as np\n",
    "import seaborn as sns\n",
    "from collections import Counter\n",
    "from sklearn.tree import DecisionTreeRegressor, plot_tree\n",
    "from sklearn.ensemble import RandomForestRegressor, GradientBoostingRegressor, GradientBoostingClassifier\n",
    "from sklearn.compose import ColumnTransformer\n",
    "from sklearn.pipeline import Pipeline\n",
    "from sklearn.impute import SimpleImputer\n",
    "from sklearn.preprocessing import StandardScaler, OneHotEncoder, MinMaxScaler\n",
    "from sklearn.model_selection import train_test_split\n",
    "from sklearn.feature_selection import SelectPercentile, chi2\n",
    "from sklearn.linear_model import LinearRegression, RidgeCV, ElasticNet, Ridge, Lasso\n",
    "from helper import *\n",
    "import shap\n"
   ],
   "metadata": {
    "collapsed": false,
    "ExecuteTime": {
     "end_time": "2023-06-27T08:26:58.500458Z",
     "start_time": "2023-06-27T08:26:58.340095Z"
    }
   }
  },
  {
   "cell_type": "code",
   "execution_count": 49,
   "outputs": [],
   "source": [
    "def one_on_one_plot(var_1: str, var_2: str, df: pd.DataFrame, rate: float = 1.5):\n",
    "    data_pairplot = pd.concat([df[var_2], df[var_1]], axis=1)\n",
    "    plt.subplots(figsize=(8, 6))\n",
    "    fig = sns.boxplot(x=var_1, y=var_2, data=data_pairplot)\n",
    "    y_min = data_pairplot[var_2].min()\n",
    "    if y_min == 0: y_min = -1\n",
    "    fig.axis(ymin= y_min / rate, ymax=rate * data_pairplot[var_2].max())\n",
    "\n",
    "def encode_ordinal(df: pd.DataFrame, col_name: str, feature_dict=None ):\n",
    "    if feature_dict is None:\n",
    "        feature_dict = {'Ex': 5, 'Gd': 4, 'TA': 3, 'Fa': 2, 'Po': 1, \"NA\": 0}\n",
    "    return df[col_name].replace(feature_dict).astype(\"int64\")\n",
    "\n",
    "def one_hot_encode(df: pd.DataFrame, col_name: str, prefix=None):\n",
    "    \"\"\"\n",
    "    One-hot encode nominal categorical variable.\n",
    "    \"\"\"\n",
    "    return df.join(pd.get_dummies(df[col_name], drop_first=True, prefix=col_name)) if not prefix \\\n",
    "        else  df.join(pd.get_dummies(df[col_name], drop_first=True, prefix=prefix))"
   ],
   "metadata": {
    "collapsed": false,
    "ExecuteTime": {
     "end_time": "2023-06-27T08:26:58.510478Z",
     "start_time": "2023-06-27T08:26:58.346859Z"
    }
   }
  },
  {
   "cell_type": "code",
   "execution_count": 50,
   "outputs": [],
   "source": [
    "# \"\"\"\n",
    "# Read the data\n",
    "# \"\"\"\n",
    "# data = pd.read_csv(\"data/train.csv\").drop([\"Id\"], axis=1)\n",
    "# data_test = pd.read_csv(\"data/test.csv\")\n",
    "# data_sub = pd.read_csv(\"data/submission.csv\")\n",
    "#\n",
    "# data_extend = pd.concat([data_test, data_sub], axis=1).drop([\"Id\"], axis=1)\n",
    "# data  = pd.concat([data, data_extend])\n",
    "#\n",
    "# \"\"\"\n",
    "# drop unused features\n",
    "# \"\"\"\n",
    "# data = data.drop([\"MiscFeature\", 'Utilities', 'MiscVal', 'GarageArea'],axis=1)\n",
    "# \"\"\"\n",
    "# summarize all bathrooms data into one.\n",
    "# \"\"\"\n",
    "# data['Bathrooms'] = data[\"BsmtFullBath\"] + 0.5 * data[\"BsmtHalfBath\"] + data[\"FullBath\"] + 0.5 * data[\"HalfBath\"]\n",
    "#\n",
    "# data = data.drop([\"BsmtFullBath\", \"BsmtHalfBath\", \"FullBath\", \"HalfBath\"], axis=1)\n",
    "# data.insert(0, 'Bathrooms', data.pop('Bathrooms'))\n",
    "# data.to_csv(\"data/data_all.csv\")"
   ],
   "metadata": {
    "collapsed": false,
    "ExecuteTime": {
     "end_time": "2023-06-27T08:26:58.510750Z",
     "start_time": "2023-06-27T08:26:58.350093Z"
    }
   }
  },
  {
   "cell_type": "code",
   "execution_count": 51,
   "outputs": [],
   "source": [
    "data = pd.read_csv(\"data/data_all.csv\")\n",
    "data = data.drop([\"Unnamed: 0\"], axis=1)\n"
   ],
   "metadata": {
    "collapsed": false,
    "ExecuteTime": {
     "end_time": "2023-06-27T08:26:58.602689Z",
     "start_time": "2023-06-27T08:26:58.355646Z"
    }
   }
  },
  {
   "cell_type": "code",
   "execution_count": 52,
   "outputs": [
    {
     "name": "stdout",
     "output_type": "stream",
     "text": [
      "Bathrooms 0\n",
      "MSSubClass 0\n",
      "MSZoning 4\n",
      "LotFrontage 486\n",
      "LotArea 0\n",
      "Street 0\n",
      "Alley 2717\n",
      "LotShape 0\n",
      "LandContour 0\n",
      "LotConfig 0\n",
      "LandSlope 0\n",
      "Neighborhood 0\n",
      "Condition1 0\n",
      "Condition2 0\n",
      "BldgType 0\n",
      "HouseStyle 0\n",
      "OverallQual 0\n",
      "OverallCond 0\n",
      "YearBuilt 0\n",
      "YearRemodAdd 0\n",
      "RoofStyle 0\n",
      "RoofMatl 0\n",
      "Exterior1st 0\n",
      "Exterior2nd 0\n",
      "MasVnrType 24\n",
      "MasVnrArea 23\n",
      "ExterQual 0\n",
      "ExterCond 0\n",
      "Foundation 0\n",
      "BsmtQual 79\n",
      "BsmtCond 80\n",
      "BsmtExposure 80\n",
      "BsmtFinType1 77\n",
      "BsmtFinSF1 0\n",
      "BsmtFinType2 78\n",
      "BsmtFinSF2 0\n",
      "BsmtUnfSF 0\n",
      "TotalBsmtSF 0\n",
      "Heating 0\n",
      "HeatingQC 0\n",
      "CentralAir 0\n",
      "Electrical 1\n",
      "1stFlrSF 0\n",
      "2ndFlrSF 0\n",
      "LowQualFinSF 0\n",
      "GrLivArea 0\n",
      "BedroomAbvGr 0\n",
      "KitchenAbvGr 0\n",
      "KitchenQual 1\n",
      "TotRmsAbvGrd 0\n",
      "Functional 2\n",
      "Fireplaces 0\n",
      "FireplaceQu 1418\n",
      "GarageType 156\n",
      "GarageYrBlt 157\n",
      "GarageFinish 157\n",
      "GarageCars 0\n",
      "GarageQual 157\n",
      "GarageCond 157\n",
      "PavedDrive 0\n",
      "WoodDeckSF 0\n",
      "OpenPorchSF 0\n",
      "EnclosedPorch 0\n",
      "3SsnPorch 0\n",
      "ScreenPorch 0\n",
      "PoolArea 0\n",
      "PoolQC 2905\n",
      "Fence 2346\n",
      "MoSold 0\n",
      "YrSold 0\n",
      "SaleType 1\n",
      "SaleCondition 0\n",
      "SalePrice 0\n"
     ]
    }
   ],
   "source": [
    "data = data[data['Exterior1st'].notna()]\n",
    "data = data[data['Exterior2nd'].notna()]\n",
    "data = data[data['GarageCars'].notna()]\n",
    "\n",
    "data = data[data['Bathrooms'].notna()]\n",
    "for col in data.columns:\n",
    "    print(col,data[col].isna().sum())"
   ],
   "metadata": {
    "collapsed": false,
    "ExecuteTime": {
     "end_time": "2023-06-27T08:26:58.604630Z",
     "start_time": "2023-06-27T08:26:58.378035Z"
    }
   }
  },
  {
   "cell_type": "code",
   "execution_count": 53,
   "outputs": [
    {
     "data": {
      "text/plain": "2.0    900\n2.5    558\n1.0    442\n3.0    378\n1.5    293\n3.5    288\n4.0     31\n4.5     17\n5.0      3\n7.0      3\n6.0      2\nName: Bathrooms, dtype: int64"
     },
     "execution_count": 53,
     "metadata": {},
     "output_type": "execute_result"
    }
   ],
   "source": [
    "data['Bathrooms'].value_counts()\n",
    "# data"
   ],
   "metadata": {
    "collapsed": false,
    "ExecuteTime": {
     "end_time": "2023-06-27T08:26:58.605908Z",
     "start_time": "2023-06-27T08:26:58.391654Z"
    }
   }
  },
  {
   "cell_type": "code",
   "execution_count": 54,
   "outputs": [
    {
     "data": {
      "text/plain": "<Figure size 640x480 with 2 Axes>",
      "image/png": "[encoded data removed]"
     },
     "metadata": {},
     "output_type": "display_data"
    }
   ],
   "source": [
    "corrmat = data.corr(numeric_only=True)\n",
    "k = 10 #number of variables for heatmap\n",
    "cols = corrmat.nlargest(k, 'OverallQual')['OverallQual'].index\n",
    "cm = np.corrcoef(data[cols].values.T)\n",
    "sns.set(font_scale=1.25)\n",
    "hm = sns.heatmap(cm, cbar=True, annot=True, square=True, annot_kws={'size': 10}, yticklabels=cols.values, xticklabels=cols.values)\n",
    "plt.show()\n"
   ],
   "metadata": {
    "collapsed": false,
    "ExecuteTime": {
     "end_time": "2023-06-27T08:26:58.636148Z",
     "start_time": "2023-06-27T08:26:58.395095Z"
    }
   }
  },
  {
   "cell_type": "code",
   "execution_count": 55,
   "outputs": [
    {
     "name": "stdout",
     "output_type": "stream",
     "text": [
      "486\n"
     ]
    }
   ],
   "source": [
    "'''\n",
    "Explore LotFrontage, fill NaN column with Avg from each neighborhood.\n",
    "'''\n",
    "print(data[\"LotFrontage\"].isna().sum())\n",
    "neighborhoods = set(data['Neighborhood'])\n",
    "mean_LF_per_neighborhood = {}\n",
    "for neighborhood in neighborhoods:\n",
    "    mean_LF_per_neighborhood[neighborhood] = data.loc[data['Neighborhood'] == neighborhood, 'LotFrontage'].mean()\n",
    "data['LotFrontage'] = data['LotFrontage'].fillna(data['Neighborhood'].map(mean_LF_per_neighborhood))\n"
   ],
   "metadata": {
    "collapsed": false,
    "ExecuteTime": {
     "end_time": "2023-06-27T08:26:58.636426Z",
     "start_time": "2023-06-27T08:26:58.577569Z"
    }
   }
  },
  {
   "cell_type": "code",
   "execution_count": 56,
   "outputs": [
    {
     "data": {
      "text/plain": "Unf    1228\nRFn     811\nFin     719\nName: GarageFinish, dtype: int64"
     },
     "execution_count": 56,
     "metadata": {},
     "output_type": "execute_result"
    }
   ],
   "source": [
    "data['GarageFinish'].value_counts()"
   ],
   "metadata": {
    "collapsed": false,
    "ExecuteTime": {
     "end_time": "2023-06-27T08:26:58.636564Z",
     "start_time": "2023-06-27T08:26:58.587911Z"
    }
   }
  },
  {
   "cell_type": "markdown",
   "source": [
    "### Explore Garage:\n",
    "- FillNa of GarageYrBlt with value from YearBuilt.\n",
    "- FillNa of other with 'NA' (str), except GarageType\n",
    "- GarageType: One-hot encode.\n",
    "- Other garage features (ordinal): ordinal encode."
   ],
   "metadata": {
    "collapsed": false,
    "ExecuteTime": {
     "start_time": "2023-06-09T14:41:01.341552Z"
    }
   },
   "outputs": [
    {
     "name": "stdout",
     "output_type": "stream",
     "text": [
      "GarageCond 157\n",
      "GarageType 156\n",
      "GarageYrBlt 0\n",
      "GarageFinish 157\n",
      "GarageCars 0\n",
      "GarageQual 157\n"
     ]
    }
   ],
   "execution_count": null
  },
  {
   "cell_type": "code",
   "execution_count": 57,
   "outputs": [
    {
     "name": "stdout",
     "output_type": "stream",
     "text": [
      "GarageCond 157\n",
      "GarageType 156\n",
      "GarageYrBlt 0\n",
      "GarageFinish 157\n",
      "GarageCars 0\n",
      "GarageQual 157\n"
     ]
    }
   ],
   "source": [
    "data_garage = [ \"GarageCond\", \"GarageType\", \"GarageYrBlt\", \"GarageFinish\", \"GarageCars\" , \"GarageQual\"]\n",
    "\n",
    "data['GarageYrBlt'] = data['GarageYrBlt'].fillna(data[\"YearBuilt\"])\n",
    "\n",
    "for col in data_garage:\n",
    "    print(col, data[col].isna().sum())\n",
    "\n",
    "data['GarageCond'] = data['GarageCond'].fillna('TA')\n",
    "data['GarageCond'] = encode_ordinal(data, 'GarageCond')\n",
    "\n",
    "GarageFinish_dict = {'Fin': 3, 'RFn': 2, 'Unf': 1}\n",
    "GarageQual_dict = {'Ex': 4, 'Gd': 3, 'TA': 2, 'Fa': 1, 'Po': 0}\n",
    "\n",
    "data['GarageFinish'] = data['GarageFinish'].fillna('Unf')\n",
    "data['GarageFinish'] = encode_ordinal(data, 'GarageFinish', GarageFinish_dict)\n",
    "\n",
    "data['GarageQual'] = data['GarageQual'].fillna('TA')\n",
    "data['GarageQual'] = encode_ordinal(data, 'GarageQual')\n",
    "\n",
    "data = one_hot_encode(data, 'GarageType')\n",
    "data = data.drop(['GarageType'], axis=1)\n"
   ],
   "metadata": {
    "collapsed": false,
    "ExecuteTime": {
     "end_time": "2023-06-27T08:26:58.636947Z",
     "start_time": "2023-06-27T08:26:58.595526Z"
    }
   }
  },
  {
   "cell_type": "markdown",
   "source": [
    "### Basement features:\n",
    "- Temporary drop some basement for now, only keep Qual and Cond"
   ],
   "metadata": {
    "collapsed": false,
    "ExecuteTime": {
     "end_time": "2023-06-09T14:41:01.550470Z",
     "start_time": "2023-06-09T14:41:01.306223Z"
    }
   },
   "outputs": [],
   "execution_count": 210
  },
  {
   "cell_type": "code",
   "execution_count": 58,
   "outputs": [],
   "source": [
    "data['BsmtQual'] = data['BsmtQual'].fillna('TA')\n",
    "data['BsmtCond'] = data['BsmtCond'].fillna('TA')\n",
    "\n",
    "data['BsmtQual'] = encode_ordinal(data, 'BsmtQual')\n",
    "data['BsmtCond'] = encode_ordinal(data, 'BsmtCond')\n",
    "\n",
    "data['UnfBsmtRat'] = data['BsmtUnfSF'] / data['TotalBsmtSF']\n",
    "\n",
    "data['UnfBsmtRat'] = data['UnfBsmtRat'].fillna(data['UnfBsmtRat'].mean())\n",
    "data = data.drop(['BsmtExposure', 'BsmtFinType1', 'BsmtFinSF1', 'BsmtFinType2', 'BsmtFinSF2', 'BsmtUnfSF', 'TotalBsmtSF'], axis=1)"
   ],
   "metadata": {
    "collapsed": false,
    "ExecuteTime": {
     "end_time": "2023-06-27T08:26:58.637001Z",
     "start_time": "2023-06-27T08:26:58.615139Z"
    }
   }
  },
  {
   "cell_type": "code",
   "execution_count": 58,
   "outputs": [],
   "source": [],
   "metadata": {
    "collapsed": false,
    "ExecuteTime": {
     "end_time": "2023-06-27T08:26:58.731797Z",
     "start_time": "2023-06-27T08:26:58.623773Z"
    }
   }
  },
  {
   "cell_type": "markdown",
   "source": [
    "### Masonry veneer features:\n",
    "- Type: FillNa with NA.\n",
    "- Area: FillNa with 0"
   ],
   "metadata": {
    "collapsed": false,
    "ExecuteTime": {
     "end_time": "2023-06-09T14:41:01.552388Z",
     "start_time": "2023-06-09T14:41:01.319043Z"
    }
   },
   "outputs": [],
   "execution_count": 212
  },
  {
   "cell_type": "code",
   "execution_count": 59,
   "outputs": [],
   "source": [
    "data['MasVnrType'] = data['MasVnrType'].fillna('None')\n",
    "data['MasVnrArea'] = data['MasVnrArea'].fillna(0)\n",
    "\n",
    "data = one_hot_encode(data, 'MasVnrType')\n",
    "data = data.drop(['MasVnrType', 'MasVnrType_None'], axis=1)"
   ],
   "metadata": {
    "collapsed": false,
    "ExecuteTime": {
     "end_time": "2023-06-27T08:26:58.732312Z",
     "start_time": "2023-06-27T08:26:58.627216Z"
    }
   }
  },
  {
   "cell_type": "markdown",
   "source": [
    "### Zoning data:\n",
    "- MSZoning: Onehot\n",
    "- MsSubClass: Change to object + onehot\n",
    "- Update: drop?"
   ],
   "metadata": {
    "collapsed": false,
    "ExecuteTime": {
     "end_time": "2023-06-09T14:41:01.555003Z",
     "start_time": "2023-06-09T14:41:01.335010Z"
    }
   },
   "outputs": [],
   "execution_count": 214
  },
  {
   "cell_type": "code",
   "execution_count": 60,
   "outputs": [],
   "source": [
    "# data = one_hot_encode(data, 'MSZoning')\n",
    "data = data.drop(['MSZoning'], axis=1)\n",
    "# data['MSSubClass'] = data['MSSubClass'].astype(object)\n",
    "# data['MSSubClass'].value_counts()\n",
    "#\n",
    "# data = one_hot_encode(data, 'MSSubClass')\n",
    "data = data.drop(['MSSubClass'], axis=1)"
   ],
   "metadata": {
    "collapsed": false,
    "ExecuteTime": {
     "end_time": "2023-06-27T08:26:58.732915Z",
     "start_time": "2023-06-27T08:26:58.639762Z"
    }
   }
  },
  {
   "cell_type": "markdown",
   "source": [
    "### Functional, Kitchen:\n",
    "- Ordinal encoding."
   ],
   "metadata": {
    "collapsed": false,
    "ExecuteTime": {
     "end_time": "2023-06-09T14:41:01.565143Z",
     "start_time": "2023-06-09T14:41:01.353915Z"
    }
   },
   "outputs": [],
   "execution_count": 216
  },
  {
   "cell_type": "code",
   "execution_count": 61,
   "outputs": [],
   "source": [
    "Functional_dict = {\"Sal\": 0, \"Sev\": 1, \"Maj2\": 2, \"Maj1\": 3, \"Mod\": 4, \"Min2\": 5, \"Min1\": 6, \"Typ\":7}\n",
    "\n",
    "data = data[data['Functional'].notna()]\n",
    "data = data[data['KitchenQual'].notna()]\n",
    "data['Functional'] = encode_ordinal(data, 'Functional', feature_dict=Functional_dict)\n",
    "data['KitchenQual'] = encode_ordinal(data, 'KitchenQual')\n"
   ],
   "metadata": {
    "collapsed": false,
    "ExecuteTime": {
     "end_time": "2023-06-27T08:26:58.733004Z",
     "start_time": "2023-06-27T08:26:58.647520Z"
    }
   }
  },
  {
   "cell_type": "markdown",
   "source": [
    "### Exterior feature:\n",
    "\n",
    "- Material: One-hot encode both Exterior 1st and Exterior 2nd together.\n",
    "- Qual and cond: Ordinal Encoding."
   ],
   "metadata": {
    "collapsed": false,
    "ExecuteTime": {
     "end_time": "2023-06-09T14:41:01.567400Z",
     "start_time": "2023-06-09T14:41:01.365339Z"
    }
   },
   "outputs": [],
   "execution_count": 217
  },
  {
   "cell_type": "code",
   "execution_count": 62,
   "outputs": [],
   "source": [
    "\n",
    "\n",
    "\n",
    "data.loc[data['Exterior1st'] == data['Exterior2nd'],  'Exterior2nd'] = None\n",
    "data['Exterior2nd'] = data['Exterior2nd'].replace({'Brk Cmn': 'BrkComm', 'Wd Shng': 'WdShing' }).astype(\"str\")\n",
    "\n",
    "data = data.join(\n",
    "pd.get_dummies(data.filter(like='Exterior').stack(), prefix='Exterior')\n",
    "  .groupby(level=0).max())\n",
    "\n",
    "\n",
    "data = data.drop(['Exterior1st', 'Exterior2nd', 'Exterior_None', 'Exterior_Other'], axis=1)\n",
    "data['ExterQual'] = encode_ordinal(data, 'ExterQual')\n",
    "data['ExterCond'] = encode_ordinal(data, 'ExterCond')\n",
    "\n",
    "\n"
   ],
   "metadata": {
    "collapsed": false,
    "ExecuteTime": {
     "end_time": "2023-06-27T08:26:58.733062Z",
     "start_time": "2023-06-27T08:26:58.659993Z"
    }
   }
  },
  {
   "cell_type": "markdown",
   "source": [
    "### Electrical:\n",
    "- Fill Na with the most common (SBrKr)\n",
    "- Change mix to FuseA (average)\n",
    "- Ordinal encoding."
   ],
   "metadata": {
    "collapsed": false,
    "ExecuteTime": {
     "end_time": "2023-06-09T14:41:01.568925Z",
     "start_time": "2023-06-09T14:41:01.377805Z"
    }
   },
   "outputs": [
    {
     "name": "stdout",
     "output_type": "stream",
     "text": [
      "SBrkr    2667\n",
      "FuseA     186\n",
      "FuseF      50\n",
      "FuseP       8\n",
      "Mix         1\n",
      "Name: Electrical, dtype: int64\n"
     ]
    }
   ],
   "execution_count": 218
  },
  {
   "cell_type": "code",
   "execution_count": 63,
   "outputs": [
    {
     "name": "stdout",
     "output_type": "stream",
     "text": [
      "SBrkr    2667\n",
      "FuseA     186\n",
      "FuseF      50\n",
      "FuseP       8\n",
      "Mix         1\n",
      "Name: Electrical, dtype: int64\n"
     ]
    }
   ],
   "source": [
    "data['Electrical'] = data['Electrical'].fillna('SBrkr')\n",
    "Electrical_dict = {'SBrkr' : 3, 'FuseA': 2, 'FuseF': 1, 'FuseP' : 0, 'Mix': 2}\n",
    "print(data['Electrical'].value_counts())\n",
    "data['Electrical'] = encode_ordinal(data, 'Electrical', feature_dict=Electrical_dict)"
   ],
   "metadata": {
    "collapsed": false,
    "ExecuteTime": {
     "end_time": "2023-06-27T08:26:58.733192Z",
     "start_time": "2023-06-27T08:26:58.676630Z"
    }
   }
  },
  {
   "cell_type": "markdown",
   "source": [
    "### SaleType and SaleCondition:\n",
    "- Drop for now."
   ],
   "metadata": {
    "collapsed": false,
    "ExecuteTime": {
     "end_time": "2023-06-09T14:41:01.570326Z",
     "start_time": "2023-06-09T14:41:01.381779Z"
    }
   },
   "outputs": [],
   "execution_count": 219
  },
  {
   "cell_type": "code",
   "execution_count": 64,
   "outputs": [],
   "source": [
    "data = data.drop(['SaleType', 'SaleCondition'], axis=1)"
   ],
   "metadata": {
    "collapsed": false,
    "ExecuteTime": {
     "end_time": "2023-06-27T08:26:58.733247Z",
     "start_time": "2023-06-27T08:26:58.685919Z"
    }
   }
  },
  {
   "cell_type": "markdown",
   "source": [
    "### Heating:\n",
    "- Type: drop\n",
    "- Quality: Ordinal\n",
    "- CentralAir: Encode 0-1\n"
   ],
   "metadata": {
    "collapsed": false,
    "ExecuteTime": {
     "end_time": "2023-06-09T14:41:01.582715Z",
     "start_time": "2023-06-09T14:41:01.388675Z"
    }
   },
   "outputs": [
    {
     "name": "stdout",
     "output_type": "stream",
     "text": [
      "CentralAir\n",
      "1             2718\n",
      "0              194\n",
      "dtype: int64\n",
      "Heating\n",
      "GasA       2868\n",
      "GasW         27\n",
      "Grav          9\n",
      "Wall          5\n",
      "OthW          2\n",
      "Floor         1\n",
      "dtype: int64\n",
      "HeatingQC\n",
      "Ex           1491\n",
      "TA            855\n",
      "Gd            473\n",
      "Fa             91\n",
      "Po              2\n",
      "dtype: int64\n",
      "CentralAir    0\n",
      "dtype: int64\n",
      "Heating    0\n",
      "dtype: int64\n",
      "HeatingQC    0\n",
      "dtype: int64\n"
     ]
    }
   ],
   "execution_count": 220
  },
  {
   "cell_type": "code",
   "execution_count": 65,
   "outputs": [
    {
     "name": "stdout",
     "output_type": "stream",
     "text": [
      "CentralAir\n",
      "1             2718\n",
      "0              194\n",
      "dtype: int64\n",
      "Heating\n",
      "GasA       2868\n",
      "GasW         27\n",
      "Grav          9\n",
      "Wall          5\n",
      "OthW          2\n",
      "Floor         1\n",
      "dtype: int64\n",
      "HeatingQC\n",
      "Ex           1491\n",
      "TA            855\n",
      "Gd            473\n",
      "Fa             91\n",
      "Po              2\n",
      "dtype: int64\n",
      "CentralAir    0\n",
      "dtype: int64\n",
      "Heating    0\n",
      "dtype: int64\n",
      "HeatingQC    0\n",
      "dtype: int64\n"
     ]
    }
   ],
   "source": [
    "data['CentralAir'] = data[\"CentralAir\"].replace({'Y': 1, 'N' : 0}).astype(\"int64\")\n",
    "\n",
    "print(data[[\"CentralAir\"]].value_counts())\n",
    "print(data[[\"Heating\"]].value_counts())\n",
    "print(data[[\"HeatingQC\"]].value_counts())\n",
    "\n",
    "print(data[[\"CentralAir\"]].isna().sum())\n",
    "print(data[[\"Heating\"]].isna().sum())\n",
    "print(data[[\"HeatingQC\"]].isna().sum())\n",
    "\n",
    "data['HeatingQC'] = encode_ordinal(data, 'HeatingQC')\n",
    "data = data.drop(['Heating'], axis=1)"
   ],
   "metadata": {
    "collapsed": false,
    "ExecuteTime": {
     "end_time": "2023-06-27T08:26:58.733433Z",
     "start_time": "2023-06-27T08:26:58.691269Z"
    }
   }
  },
  {
   "cell_type": "markdown",
   "source": [
    "### Roof:\n",
    "- Style and mat: One-hot Encoding"
   ],
   "metadata": {
    "collapsed": false,
    "ExecuteTime": {
     "end_time": "2023-06-09T14:41:01.582898Z",
     "start_time": "2023-06-09T14:41:01.399672Z"
    }
   },
   "outputs": [
    {
     "name": "stdout",
     "output_type": "stream",
     "text": [
      "Gable      2304\n",
      "Hip         551\n",
      "Gambrel      22\n",
      "Flat         19\n",
      "Mansard      11\n",
      "Shed          5\n",
      "Name: RoofStyle, dtype: int64\n",
      "RoofStyle    0\n",
      "dtype: int64\n",
      "CompShg    2870\n",
      "Tar&Grv      22\n",
      "WdShake       9\n",
      "WdShngl       7\n",
      "Metal         1\n",
      "Membran       1\n",
      "Roll          1\n",
      "ClyTile       1\n",
      "Name: RoofMatl, dtype: int64\n",
      "RoofMatl    0\n",
      "dtype: int64\n"
     ]
    }
   ],
   "execution_count": 221
  },
  {
   "cell_type": "code",
   "execution_count": 66,
   "outputs": [
    {
     "name": "stdout",
     "output_type": "stream",
     "text": [
      "Gable      2304\n",
      "Hip         551\n",
      "Gambrel      22\n",
      "Flat         19\n",
      "Mansard      11\n",
      "Shed          5\n",
      "Name: RoofStyle, dtype: int64\n",
      "RoofStyle    0\n",
      "dtype: int64\n",
      "CompShg    2870\n",
      "Tar&Grv      22\n",
      "WdShake       9\n",
      "WdShngl       7\n",
      "Metal         1\n",
      "Membran       1\n",
      "Roll          1\n",
      "ClyTile       1\n",
      "Name: RoofMatl, dtype: int64\n",
      "RoofMatl    0\n",
      "dtype: int64\n"
     ]
    }
   ],
   "source": [
    "print(data['RoofStyle'].value_counts())\n",
    "print(data[[\"RoofStyle\"]].isna().sum())\n",
    "print(data['RoofMatl'].value_counts())\n",
    "print(data[[\"RoofMatl\"]].isna().sum())\n",
    "\n",
    "data = one_hot_encode(data, 'RoofStyle')\n",
    "data = data.drop(['RoofStyle'], axis=1)\n",
    "\n",
    "data = one_hot_encode(data, 'RoofMatl')\n",
    "data = data.drop(['RoofMatl'], axis=1)"
   ],
   "metadata": {
    "collapsed": false,
    "ExecuteTime": {
     "end_time": "2023-06-27T08:26:58.733587Z",
     "start_time": "2023-06-27T08:26:58.710299Z"
    }
   }
  },
  {
   "cell_type": "markdown",
   "source": [
    "### Land:\n",
    "- Slope: Ordinal encoding\n",
    "- Contour: one-hot."
   ],
   "metadata": {
    "collapsed": false,
    "ExecuteTime": {
     "end_time": "2023-06-09T14:41:01.583321Z",
     "start_time": "2023-06-09T14:41:01.411351Z"
    }
   },
   "outputs": [
    {
     "name": "stdout",
     "output_type": "stream",
     "text": [
      "Lvl    2616\n",
      "HLS     120\n",
      "Bnk     117\n",
      "Low      59\n",
      "Name: LandContour, dtype: int64\n",
      "LandContour    0\n",
      "dtype: int64\n",
      "Gtl    2772\n",
      "Mod     124\n",
      "Sev      16\n",
      "Name: LandSlope, dtype: int64\n",
      "LandSlope    0\n",
      "dtype: int64\n"
     ]
    }
   ],
   "execution_count": 222
  },
  {
   "cell_type": "code",
   "execution_count": 67,
   "outputs": [
    {
     "name": "stdout",
     "output_type": "stream",
     "text": [
      "Lvl    2616\n",
      "HLS     120\n",
      "Bnk     117\n",
      "Low      59\n",
      "Name: LandContour, dtype: int64\n",
      "LandContour    0\n",
      "dtype: int64\n",
      "Gtl    2772\n",
      "Mod     124\n",
      "Sev      16\n",
      "Name: LandSlope, dtype: int64\n",
      "LandSlope    0\n",
      "dtype: int64\n"
     ]
    }
   ],
   "source": [
    "print(data['LandContour'].value_counts())\n",
    "print(data[[\"LandContour\"]].isna().sum())\n",
    "\n",
    "data = one_hot_encode(data, 'LandContour')\n",
    "data = data.drop(['LandContour'], axis=1)\n",
    "\n",
    "print(data['LandSlope'].value_counts())\n",
    "print(data[[\"LandSlope\"]].isna().sum())\n",
    "\n",
    "\n",
    "LandSlope_dict = {'Gtl': 2, 'Mod': 1, 'Sev': 0}\n",
    "data['LandSlope'] = encode_ordinal(data, 'LandSlope', feature_dict=LandSlope_dict)\n"
   ],
   "metadata": {
    "collapsed": false,
    "ExecuteTime": {
     "end_time": "2023-06-27T08:26:58.744054Z",
     "start_time": "2023-06-27T08:26:58.722751Z"
    }
   }
  },
  {
   "cell_type": "markdown",
   "source": [
    "### Foundation:\n",
    "- One-hot encoding"
   ],
   "metadata": {
    "collapsed": false,
    "ExecuteTime": {
     "end_time": "2023-06-09T14:41:01.583924Z",
     "start_time": "2023-06-09T14:41:01.424030Z"
    }
   },
   "outputs": [
    {
     "name": "stdout",
     "output_type": "stream",
     "text": [
      "PConc     1306\n",
      "CBlock    1234\n",
      "BrkTil     309\n",
      "Slab        47\n",
      "Stone       11\n",
      "Wood         5\n",
      "Name: Foundation, dtype: int64\n",
      "Foundation    0\n",
      "dtype: int64\n"
     ]
    }
   ],
   "execution_count": 223
  },
  {
   "cell_type": "code",
   "execution_count": 68,
   "outputs": [
    {
     "name": "stdout",
     "output_type": "stream",
     "text": [
      "PConc     1306\n",
      "CBlock    1234\n",
      "BrkTil     309\n",
      "Slab        47\n",
      "Stone       11\n",
      "Wood         5\n",
      "Name: Foundation, dtype: int64\n",
      "Foundation    0\n",
      "dtype: int64\n"
     ]
    }
   ],
   "source": [
    "print(data['Foundation'].value_counts())\n",
    "print(data[[\"Foundation\"]].isna().sum())\n",
    "data = one_hot_encode(data, 'Foundation')\n",
    "data = data.drop(['Foundation'], axis=1)"
   ],
   "metadata": {
    "collapsed": false,
    "ExecuteTime": {
     "end_time": "2023-06-27T08:26:58.761043Z",
     "start_time": "2023-06-27T08:26:58.744544Z"
    }
   }
  },
  {
   "cell_type": "markdown",
   "source": [
    "### Dwelling:\n",
    "- Drop for now (BldgType and houseStyle)"
   ],
   "metadata": {
    "collapsed": false,
    "ExecuteTime": {
     "end_time": "2023-06-09T14:41:01.583964Z",
     "start_time": "2023-06-09T14:41:01.431989Z"
    }
   },
   "outputs": [],
   "execution_count": 224
  },
  {
   "cell_type": "code",
   "execution_count": 69,
   "outputs": [],
   "source": [
    "data = data.drop(['BldgType', 'HouseStyle'], axis=1)"
   ],
   "metadata": {
    "collapsed": false,
    "ExecuteTime": {
     "end_time": "2023-06-27T08:26:58.840071Z",
     "start_time": "2023-06-27T08:26:58.756108Z"
    }
   }
  },
  {
   "cell_type": "markdown",
   "source": [
    "### Paved Street and Paved Driveway:\n",
    "- Onehot Encoded."
   ],
   "metadata": {
    "collapsed": false,
    "ExecuteTime": {
     "end_time": "2023-06-09T14:41:01.584Z",
     "start_time": "2023-06-09T14:41:01.435904Z"
    }
   },
   "outputs": [],
   "execution_count": 225
  },
  {
   "cell_type": "code",
   "execution_count": 70,
   "outputs": [],
   "source": [
    "data[\"Street\"] = data[\"Street\"].replace({'Pave': 1, 'Grvl' : 0}).astype(\"int64\")\n",
    "data[\"PavedDrive\"] = data[\"PavedDrive\"].replace({'Y': 2, 'P': 1, 'N' : 0}).astype(\"int64\")"
   ],
   "metadata": {
    "collapsed": false,
    "ExecuteTime": {
     "end_time": "2023-06-27T08:26:58.849618Z",
     "start_time": "2023-06-27T08:26:58.760011Z"
    }
   }
  },
  {
   "cell_type": "markdown",
   "source": [
    "\n",
    "### Neigborhood-related:\n",
    "- Neighborhood: remove? Because how is neighborhood affect house quality? Will see later.\n",
    "- Condition 1 and 2: dropped"
   ],
   "metadata": {
    "collapsed": false,
    "ExecuteTime": {
     "end_time": "2023-06-09T14:41:01.584078Z",
     "start_time": "2023-06-09T14:41:01.440268Z"
    }
   },
   "outputs": [],
   "execution_count": 226
  },
  {
   "cell_type": "code",
   "execution_count": 71,
   "outputs": [],
   "source": [
    "# data = one_hot_encode(data, 'Neighborhood')\n",
    "data = data.drop(['Condition1', 'Condition2', 'Neighborhood'], axis=1)"
   ],
   "metadata": {
    "collapsed": false,
    "ExecuteTime": {
     "end_time": "2023-06-27T08:26:58.849806Z",
     "start_time": "2023-06-27T08:26:58.768314Z"
    }
   }
  },
  {
   "cell_type": "markdown",
   "source": [
    "### Fireplaces"
   ],
   "metadata": {
    "collapsed": false,
    "ExecuteTime": {
     "end_time": "2023-06-09T14:41:01.584115Z",
     "start_time": "2023-06-09T14:41:01.448084Z"
    }
   },
   "outputs": [],
   "execution_count": 227
  },
  {
   "cell_type": "code",
   "execution_count": 72,
   "outputs": [],
   "source": [
    "data['FireplaceQu'] = data['FireplaceQu'].fillna(\"NA\")\n",
    "data_cat_ordinal = data[[\"FireplaceQu\"]].columns\n",
    "\n",
    "FireplaceQu_dict = {'Ex': 5, 'Gd': 4, 'TA': 3, 'Fa': 2, 'Po': 1, \"NA\": 3}\n",
    "data['FireplaceQu'] = encode_ordinal(data, 'FireplaceQu', FireplaceQu_dict)\n"
   ],
   "metadata": {
    "collapsed": false,
    "ExecuteTime": {
     "end_time": "2023-06-27T08:26:58.849863Z",
     "start_time": "2023-06-27T08:26:58.772828Z"
    }
   }
  },
  {
   "cell_type": "markdown",
   "source": [
    "### Alley:\n",
    "- Too many missing -> drop"
   ],
   "metadata": {
    "collapsed": false,
    "ExecuteTime": {
     "end_time": "2023-06-09T14:41:01.584149Z",
     "start_time": "2023-06-09T14:41:01.453234Z"
    }
   },
   "outputs": [],
   "execution_count": 228
  },
  {
   "cell_type": "code",
   "execution_count": 73,
   "outputs": [],
   "source": [
    "data = data.drop(['Alley'], axis=1)"
   ],
   "metadata": {
    "collapsed": false,
    "ExecuteTime": {
     "end_time": "2023-06-27T08:26:58.850074Z",
     "start_time": "2023-06-27T08:26:58.784743Z"
    }
   }
  },
  {
   "cell_type": "markdown",
   "source": [
    "### Porch-area related features:\n",
    "- Drop for now"
   ],
   "metadata": {
    "collapsed": false,
    "ExecuteTime": {
     "end_time": "2023-06-09T14:41:01.584208Z",
     "start_time": "2023-06-09T14:41:01.457352Z"
    }
   },
   "outputs": [],
   "execution_count": 229
  },
  {
   "cell_type": "code",
   "execution_count": 74,
   "outputs": [],
   "source": [
    "data = data.drop(['WoodDeckSF', 'OpenPorchSF', 'EnclosedPorch', '3SsnPorch', 'ScreenPorch'], axis=1)"
   ],
   "metadata": {
    "collapsed": false,
    "ExecuteTime": {
     "end_time": "2023-06-27T08:26:58.850130Z",
     "start_time": "2023-06-27T08:26:58.789591Z"
    }
   }
  },
  {
   "cell_type": "markdown",
   "source": [
    "### Total area of the house"
   ],
   "metadata": {
    "collapsed": false,
    "ExecuteTime": {
     "end_time": "2023-06-09T14:41:01.585017Z",
     "start_time": "2023-06-09T14:41:01.461851Z"
    }
   },
   "outputs": [],
   "execution_count": 230
  },
  {
   "cell_type": "code",
   "execution_count": 75,
   "outputs": [],
   "source": [
    "# data['TotalSqFt'] = data['GrLivArea'] + data['TotalBsmtSF']\n",
    "data['UnfSqFtRatio'] = data['LowQualFinSF'] / data['GrLivArea']\n",
    "data = data.drop(['GrLivArea', '1stFlrSF', '2ndFlrSF', 'LowQualFinSF', 'LotArea', 'LotFrontage'], axis=1)"
   ],
   "metadata": {
    "collapsed": false,
    "ExecuteTime": {
     "end_time": "2023-06-27T08:26:58.850212Z",
     "start_time": "2023-06-27T08:26:58.795621Z"
    }
   }
  },
  {
   "cell_type": "markdown",
   "source": [
    "### Year and age:\n",
    "- Age: Year sold - renovated.\n",
    "- IsNew: If sold right after built\n",
    "- IsRennovated: If the house is rennovated or not."
   ],
   "metadata": {
    "collapsed": false,
    "ExecuteTime": {
     "end_time": "2023-06-09T14:41:01.585066Z",
     "start_time": "2023-06-09T14:41:01.466256Z"
    }
   },
   "outputs": [],
   "execution_count": 231
  },
  {
   "cell_type": "code",
   "execution_count": 76,
   "outputs": [],
   "source": [
    "data['Age'] =  data['YrSold'] - data['YearRemodAdd']\n",
    "data['IsNew'] =  data['YrSold'] == data['YearBuilt']\n",
    "data['Renovated'] = data['YearRemodAdd'] != data['YearBuilt']\n",
    "data['GarageAge'] = data['YrSold'] - data['GarageYrBlt']\n",
    "\n",
    "data = data.drop(['MoSold', 'YrSold', 'YearBuilt', 'GarageYrBlt', 'YearRemodAdd'], axis=1)\n",
    "\n",
    "data[['Renovated', 'IsNew']] = data[['Renovated', 'IsNew']].astype(int)"
   ],
   "metadata": {
    "collapsed": false,
    "ExecuteTime": {
     "end_time": "2023-06-27T08:26:58.850326Z",
     "start_time": "2023-06-27T08:26:58.799395Z"
    }
   }
  },
  {
   "cell_type": "markdown",
   "source": [
    "### Pool\n",
    "- Drop Area, keep quality."
   ],
   "metadata": {
    "collapsed": false,
    "ExecuteTime": {
     "end_time": "2023-06-09T14:41:01.585112Z",
     "start_time": "2023-06-09T14:41:01.471212Z"
    }
   },
   "outputs": [],
   "execution_count": 232
  },
  {
   "cell_type": "code",
   "execution_count": 77,
   "outputs": [],
   "source": [
    "\n",
    "data[\"PoolQC\"] = data[\"PoolQC\"].fillna(\"NA\")\n",
    "PoolQC_dict = {'Ex': 1, 'Gd': 1, 'TA': 1, 'Fa': 1, 'Po': 1, \"NA\": 0}\n",
    "data['HasPool'] = encode_ordinal(data, 'PoolQC', PoolQC_dict)\n",
    "data = data.drop(['PoolArea', 'PoolQC'], axis=1)"
   ],
   "metadata": {
    "collapsed": false,
    "ExecuteTime": {
     "end_time": "2023-06-27T08:26:58.850434Z",
     "start_time": "2023-06-27T08:26:58.809228Z"
    }
   }
  },
  {
   "cell_type": "code",
   "execution_count": 78,
   "outputs": [
    {
     "name": "stdout",
     "output_type": "stream",
     "text": [
      "OverallQual         1.000000\n",
      "SalePrice           0.811936\n",
      "ExterQual           0.732315\n",
      "BsmtQual            0.679396\n",
      "KitchenQual         0.676955\n",
      "GarageCars          0.602171\n",
      "Foundation_PConc    0.568240\n",
      "Bathrooms           0.546869\n",
      "GarageFinish        0.535270\n",
      "HeatingQC           0.471886\n",
      "MasVnrArea          0.426262\n",
      "Fireplaces          0.391582\n",
      "TotRmsAbvGrd        0.389542\n",
      "FireplaceQu         0.376320\n",
      "Exterior_VinylSd    0.366979\n",
      "Name: OverallQual, dtype: float64\n",
      "GarageAge           -0.576599\n",
      "Age                 -0.572617\n",
      "Foundation_CBlock   -0.411396\n",
      "GarageType_Detchd   -0.341765\n",
      "RoofStyle_Gable     -0.188611\n",
      "Name: OverallQual, dtype: float64\n"
     ]
    }
   ],
   "source": [
    "corrmat = data.corr(numeric_only=True)\n",
    "k = 15 #number of variables for heatmap\n",
    "\n",
    "print(corrmat.nlargest(k, 'OverallQual')['OverallQual'])\n",
    "print(corrmat.nsmallest(5, 'OverallQual')['OverallQual'])\n"
   ],
   "metadata": {
    "collapsed": false,
    "ExecuteTime": {
     "end_time": "2023-06-27T08:26:58.852337Z",
     "start_time": "2023-06-27T08:26:58.816787Z"
    }
   }
  },
  {
   "cell_type": "markdown",
   "source": [
    "### Fence:\n",
    "- Drop for now."
   ],
   "metadata": {
    "collapsed": false,
    "ExecuteTime": {
     "end_time": "2023-06-09T14:41:01.585237Z",
     "start_time": "2023-06-09T14:41:01.504504Z"
    }
   },
   "outputs": [],
   "execution_count": 234
  },
  {
   "cell_type": "code",
   "execution_count": 79,
   "outputs": [],
   "source": [
    "data = data.drop(['Fence', 'LotShape', 'LotConfig', 'TotRmsAbvGrd'], axis=1)\n"
   ],
   "metadata": {
    "collapsed": false,
    "ExecuteTime": {
     "end_time": "2023-06-27T08:26:58.852472Z",
     "start_time": "2023-06-27T08:26:58.844289Z"
    }
   }
  },
  {
   "cell_type": "markdown",
   "source": [
    "### Taking log of some SalePrice variable."
   ],
   "metadata": {
    "collapsed": false,
    "ExecuteTime": {
     "end_time": "2023-06-09T14:41:01.585288Z",
     "start_time": "2023-06-09T14:41:01.507404Z"
    }
   },
   "outputs": [],
   "execution_count": 235
  },
  {
   "cell_type": "code",
   "execution_count": 80,
   "outputs": [],
   "source": [
    "import statsmodels.api as sm\n",
    "import pylab as py\n",
    "from scipy import stats\n",
    "data['SalePrice'] = np.log(data['SalePrice'])"
   ],
   "metadata": {
    "collapsed": false,
    "ExecuteTime": {
     "end_time": "2023-06-27T08:26:58.852662Z",
     "start_time": "2023-06-27T08:26:58.846342Z"
    }
   }
  },
  {
   "cell_type": "code",
   "execution_count": 81,
   "outputs": [],
   "source": [
    "data = data.reset_index(drop=True)\n",
    "data.to_csv('data_cleaned.csv')"
   ],
   "metadata": {
    "collapsed": false,
    "ExecuteTime": {
     "end_time": "2023-06-27T08:26:58.903698Z",
     "start_time": "2023-06-27T08:26:58.852243Z"
    }
   }
  },
  {
   "cell_type": "code",
   "execution_count": null,
   "outputs": [],
   "source": [],
   "metadata": {
    "collapsed": false
   }
  }
 ],
 "metadata": {
  "kernelspec": {
   "display_name": "Python 3",
   "language": "python",
   "name": "python3"
  },
  "language_info": {
   "codemirror_mode": {
    "name": "ipython",
    "version": 2
   },
   "file_extension": ".py",
   "mimetype": "text/x-python",
   "name": "python",
   "nbconvert_exporter": "python",
   "pygments_lexer": "ipython2",
   "version": "2.7.6"
  }
 },
 "nbformat": 4,
 "nbformat_minor": 0
}
