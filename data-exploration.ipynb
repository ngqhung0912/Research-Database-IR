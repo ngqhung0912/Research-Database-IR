{
 "cells": [
  {
   "cell_type": "code",
   "execution_count": 320,
   "outputs": [],
   "source": [
    "import pandas as pd\n",
    "import matplotlib.pyplot as plt\n",
    "import numpy as np\n",
    "import seaborn as sns\n",
    "from collections import Counter\n",
    "from sklearn.tree import DecisionTreeRegressor, plot_tree\n",
    "from sklearn.ensemble import RandomForestRegressor, GradientBoostingRegressor, GradientBoostingClassifier\n",
    "from sklearn.compose import ColumnTransformer\n",
    "from sklearn.pipeline import Pipeline\n",
    "from sklearn.impute import SimpleImputer\n",
    "from sklearn.preprocessing import StandardScaler, OneHotEncoder, MinMaxScaler\n",
    "from sklearn.model_selection import train_test_split\n",
    "from sklearn.feature_selection import SelectPercentile, chi2\n",
    "from sklearn.linear_model import LinearRegression, RidgeCV, ElasticNet, Ridge, Lasso\n",
    "from helper import *\n",
    "import shap\n"
   ],
   "metadata": {
    "collapsed": false,
    "ExecuteTime": {
     "end_time": "2023-07-07T09:13:25.573478Z",
     "start_time": "2023-07-07T09:13:25.390611Z"
    }
   }
  },
  {
   "cell_type": "code",
   "execution_count": 321,
   "outputs": [],
   "source": [
    "def one_on_one_plot(var_1: str, var_2: str, df: pd.DataFrame, rate: float = 1.5):\n",
    "    data_pairplot = pd.concat([df[var_2], df[var_1]], axis=1)\n",
    "    plt.subplots(figsize=(8, 6))\n",
    "    fig = sns.boxplot(x=var_1, y=var_2, data=data_pairplot)\n",
    "    y_min = data_pairplot[var_2].min()\n",
    "    if y_min == 0: y_min = -1\n",
    "    fig.axis(ymin= y_min / rate, ymax=rate * data_pairplot[var_2].max())\n",
    "\n",
    "def encode_ordinal(df: pd.DataFrame, col_name: str, feature_dict=None ):\n",
    "    if feature_dict is None:\n",
    "        feature_dict = {'Ex': 5, 'Gd': 4, 'TA': 3, 'Fa': 2, 'Po': 1, \"NA\": 0}\n",
    "    return df[col_name].replace(feature_dict).astype(\"int64\")\n",
    "\n",
    "def one_hot_encode(df: pd.DataFrame, col_name: str, prefix=None):\n",
    "    \"\"\"\n",
    "    One-hot encode nominal categorical variable.\n",
    "    \"\"\"\n",
    "    return df.join(pd.get_dummies(df[col_name], drop_first=True, prefix=col_name)) if not prefix \\\n",
    "        else  df.join(pd.get_dummies(df[col_name], drop_first=True, prefix=prefix))"
   ],
   "metadata": {
    "collapsed": false,
    "ExecuteTime": {
     "end_time": "2023-07-07T09:13:25.574056Z",
     "start_time": "2023-07-07T09:13:25.395724Z"
    }
   }
  },
  {
   "cell_type": "code",
   "execution_count": 322,
   "outputs": [],
   "source": [
    "# \"\"\"\n",
    "# Read the data\n",
    "# \"\"\"\n",
    "# data = pd.read_csv(\"data/train.csv\").drop([\"Id\"], axis=1)\n",
    "# data_test = pd.read_csv(\"data/test.csv\")\n",
    "# data_sub = pd.read_csv(\"data/submission.csv\")\n",
    "#\n",
    "# data_extend = pd.concat([data_test, data_sub], axis=1).drop([\"Id\"], axis=1)\n",
    "# data  = pd.concat([data, data_extend])\n",
    "#\n",
    "# \"\"\"\n",
    "# drop unused features\n",
    "# \"\"\"\n",
    "# data = data.drop([\"MiscFeature\", 'Utilities', 'MiscVal'],axis=1)\n",
    "# \"\"\"\n",
    "# summarize all bathrooms data into one.\n",
    "# \"\"\"\n",
    "# data['BsmtFullBath'] = data['BsmtFullBath'].fillna(0)\n",
    "# data['BsmtHalfBath'] = data['BsmtHalfBath'].fillna(0)\n",
    "# data['Bathrooms'] = data[\"BsmtFullBath\"] + 0.5 * data[\"BsmtHalfBath\"] + data[\"FullBath\"] + 0.5 * data[\"HalfBath\"]\n",
    "#\n",
    "# data = data.drop([\"BsmtFullBath\", \"BsmtHalfBath\", \"FullBath\", \"HalfBath\"], axis=1)\n",
    "# data.insert(0, 'Bathrooms', data.pop('Bathrooms'))\n",
    "#\n",
    "# data.to_csv(\"data/data_all.csv\")"
   ],
   "metadata": {
    "collapsed": false,
    "ExecuteTime": {
     "end_time": "2023-07-07T09:13:25.575526Z",
     "start_time": "2023-07-07T09:13:25.398848Z"
    }
   }
  },
  {
   "cell_type": "code",
   "execution_count": 323,
   "outputs": [],
   "source": [
    "data = pd.read_csv(\"data/data_all.csv\")\n",
    "data = data.drop([\"Unnamed: 0\"], axis=1)"
   ],
   "metadata": {
    "collapsed": false,
    "ExecuteTime": {
     "end_time": "2023-07-07T09:13:25.665480Z",
     "start_time": "2023-07-07T09:13:25.402364Z"
    }
   }
  },
  {
   "cell_type": "code",
   "execution_count": 324,
   "outputs": [],
   "source": [
    "# numerics = ['int16', 'int32', 'int64', 'float16', 'float32', 'float64']\n",
    "# data_num_cols = data.select_dtypes(include=numerics).drop(['SalePrice', 'MSSubClass', 'LotFrontage', 'LotArea', 'YearBuilt', 'YearRemodAdd', 'BsmtFinSF1', 'BsmtFinSF2', 'BsmtUnfSF', 'TotalBsmtSF', '1stFlrSF', '2ndFlrSF', 'LowQualFinSF', 'GrLivArea', 'TotRmsAbvGrd', 'GarageYrBlt', 'WoodDeckSF', 'OpenPorchSF', 'EnclosedPorch', '3SsnPorch', 'ScreenPorch', 'PoolArea', 'MoSold', 'YrSold', 'OverallQual'], axis=1).columns\n",
    "# data_num_cols"
   ],
   "metadata": {
    "collapsed": false,
    "ExecuteTime": {
     "end_time": "2023-07-07T09:13:25.666354Z",
     "start_time": "2023-07-07T09:13:25.426121Z"
    }
   }
  },
  {
   "cell_type": "code",
   "execution_count": 325,
   "outputs": [],
   "source": [
    "data['GarageCars'] = data['GarageCars'].fillna(0)\n",
    "data['GarageArea'] = data['GarageArea'].fillna(0)\n"
   ],
   "metadata": {
    "collapsed": false,
    "ExecuteTime": {
     "end_time": "2023-07-07T09:13:25.666506Z",
     "start_time": "2023-07-07T09:13:25.428813Z"
    }
   }
  },
  {
   "cell_type": "code",
   "execution_count": 326,
   "outputs": [
    {
     "name": "stdout",
     "output_type": "stream",
     "text": [
      "Bathrooms 0\n",
      "MSSubClass 0\n",
      "MSZoning 4\n",
      "LotFrontage 486\n",
      "LotArea 0\n",
      "Street 0\n",
      "Alley 2720\n",
      "LotShape 0\n",
      "LandContour 0\n",
      "LotConfig 0\n",
      "LandSlope 0\n",
      "Neighborhood 0\n",
      "Condition1 0\n",
      "Condition2 0\n",
      "BldgType 0\n",
      "HouseStyle 0\n",
      "OverallQual 0\n",
      "OverallCond 0\n",
      "YearBuilt 0\n",
      "YearRemodAdd 0\n",
      "RoofStyle 0\n",
      "RoofMatl 0\n",
      "Exterior1st 0\n",
      "Exterior2nd 0\n",
      "MasVnrType 24\n",
      "MasVnrArea 23\n",
      "ExterQual 0\n",
      "ExterCond 0\n",
      "Foundation 0\n",
      "BsmtQual 81\n",
      "BsmtCond 82\n",
      "BsmtExposure 82\n",
      "BsmtFinType1 79\n",
      "BsmtFinSF1 1\n",
      "BsmtFinType2 80\n",
      "BsmtFinSF2 1\n",
      "BsmtUnfSF 1\n",
      "TotalBsmtSF 1\n",
      "Heating 0\n",
      "HeatingQC 0\n",
      "CentralAir 0\n",
      "Electrical 1\n",
      "1stFlrSF 0\n",
      "2ndFlrSF 0\n",
      "LowQualFinSF 0\n",
      "GrLivArea 0\n",
      "BedroomAbvGr 0\n",
      "KitchenAbvGr 0\n",
      "KitchenQual 1\n",
      "TotRmsAbvGrd 0\n",
      "Functional 2\n",
      "Fireplaces 0\n",
      "FireplaceQu 1420\n",
      "GarageType 156\n",
      "GarageYrBlt 158\n",
      "GarageFinish 158\n",
      "GarageCars 0\n",
      "GarageArea 0\n",
      "GarageQual 158\n",
      "GarageCond 158\n",
      "PavedDrive 0\n",
      "WoodDeckSF 0\n",
      "OpenPorchSF 0\n",
      "EnclosedPorch 0\n",
      "3SsnPorch 0\n",
      "ScreenPorch 0\n",
      "PoolArea 0\n",
      "PoolQC 2908\n",
      "Fence 2347\n",
      "MoSold 0\n",
      "YrSold 0\n",
      "SaleType 1\n",
      "SaleCondition 0\n",
      "SalePrice 0\n"
     ]
    }
   ],
   "source": [
    "data = data[data['Exterior1st'].notna()]\n",
    "data = data[data['Exterior2nd'].notna()]\n",
    "\n",
    "for col in data.columns:\n",
    "    print(col,data[col].isna().sum())"
   ],
   "metadata": {
    "collapsed": false,
    "ExecuteTime": {
     "end_time": "2023-07-07T09:13:25.677508Z",
     "start_time": "2023-07-07T09:13:25.434824Z"
    }
   }
  },
  {
   "cell_type": "code",
   "execution_count": 327,
   "outputs": [
    {
     "data": {
      "text/plain": "<Figure size 640x480 with 2 Axes>",
      "image/png": "[encoded data removed]"
     },
     "metadata": {},
     "output_type": "display_data"
    }
   ],
   "source": [
    "corrmat = data.corr(numeric_only=True)\n",
    "k = 10 #number of variables for heatmap\n",
    "cols = corrmat.nlargest(k, 'OverallQual')['OverallQual'].index\n",
    "cm = np.corrcoef(data[cols].values.T)\n",
    "sns.set(font_scale=1.25)\n",
    "hm = sns.heatmap(cm, cbar=True, annot=True, square=True, annot_kws={'size': 10}, yticklabels=cols.values, xticklabels=cols.values)\n",
    "plt.show()\n"
   ],
   "metadata": {
    "collapsed": false,
    "ExecuteTime": {
     "end_time": "2023-07-07T09:13:25.707706Z",
     "start_time": "2023-07-07T09:13:25.447478Z"
    }
   }
  },
  {
   "cell_type": "code",
   "execution_count": 328,
   "outputs": [
    {
     "name": "stdout",
     "output_type": "stream",
     "text": [
      "486\n"
     ]
    }
   ],
   "source": [
    "'''\n",
    "Explore LotFrontage, fill NaN column with Avg from each neighborhood.\n",
    "'''\n",
    "print(data[\"LotFrontage\"].isna().sum())\n",
    "neighborhoods = set(data['Neighborhood'])\n",
    "mean_LF_per_neighborhood = {}\n",
    "for neighborhood in neighborhoods:\n",
    "    mean_LF_per_neighborhood[neighborhood] = data.loc[data['Neighborhood'] == neighborhood, 'LotFrontage'].mean()\n",
    "data['LotFrontage'] = data['LotFrontage'].fillna(data['Neighborhood'].map(mean_LF_per_neighborhood))\n"
   ],
   "metadata": {
    "collapsed": false,
    "ExecuteTime": {
     "end_time": "2023-07-07T09:13:25.707988Z",
     "start_time": "2023-07-07T09:13:25.622849Z"
    }
   }
  },
  {
   "cell_type": "code",
   "execution_count": 329,
   "outputs": [
    {
     "data": {
      "text/plain": "Unf    1230\nRFn     811\nFin     719\nName: GarageFinish, dtype: int64"
     },
     "execution_count": 329,
     "metadata": {},
     "output_type": "execute_result"
    }
   ],
   "source": [
    "data['GarageFinish'].value_counts()"
   ],
   "metadata": {
    "collapsed": false,
    "ExecuteTime": {
     "end_time": "2023-07-07T09:13:25.708211Z",
     "start_time": "2023-07-07T09:13:25.635198Z"
    }
   }
  },
  {
   "cell_type": "markdown",
   "source": [
    "### Explore Garage:\n",
    "- FillNa of GarageYrBlt with value from YearBuilt.\n",
    "- FillNa of other with 'NA' (str), except GarageType\n",
    "- GarageType: One-hot encode.\n",
    "- Other garage features (ordinal): ordinal encode."
   ],
   "metadata": {
    "collapsed": false,
    "ExecuteTime": {
     "start_time": "2023-06-09T14:41:01.341552Z"
    }
   },
   "outputs": [
    {
     "name": "stdout",
     "output_type": "stream",
     "text": [
      "GarageCond 157\n",
      "GarageType 156\n",
      "GarageYrBlt 0\n",
      "GarageFinish 157\n",
      "GarageCars 0\n",
      "GarageQual 157\n"
     ]
    }
   ],
   "execution_count": null
  },
  {
   "cell_type": "code",
   "execution_count": 330,
   "outputs": [
    {
     "name": "stdout",
     "output_type": "stream",
     "text": [
      "GarageCond 158\n",
      "GarageType 156\n",
      "GarageYrBlt 0\n",
      "GarageFinish 158\n",
      "GarageCars 0\n",
      "GarageQual 158\n",
      "GarageArea 0\n",
      "GarageCars 0\n"
     ]
    }
   ],
   "source": [
    "data_garage = [ \"GarageCond\", \"GarageType\", \"GarageYrBlt\", \"GarageFinish\", \"GarageCars\" , \"GarageQual\", \"GarageArea\", \"GarageCars\"]\n",
    "\n",
    "data['GarageYrBlt'] = data['GarageYrBlt'].fillna(data[\"YearBuilt\"])\n",
    "\n",
    "for col in data_garage:\n",
    "    print(col, data[col].isna().sum())\n",
    "\n",
    "data['GarageCond'] = data['GarageCond'].fillna('TA')\n",
    "data['GarageCond'] = encode_ordinal(data, 'GarageCond')\n",
    "\n",
    "GarageFinish_dict = {'Fin': 3, 'RFn': 2, 'Unf': 1}\n",
    "GarageQual_dict = {'Ex': 4, 'Gd': 3, 'TA': 2, 'Fa': 1, 'Po': 0}\n",
    "\n",
    "data['GarageFinish'] = data['GarageFinish'].fillna('Unf')\n",
    "data['GarageFinish'] = encode_ordinal(data, 'GarageFinish', GarageFinish_dict)\n",
    "\n",
    "data['GarageQual'] = data['GarageQual'].fillna('TA')\n",
    "data['GarageQual'] = encode_ordinal(data, 'GarageQual')\n",
    "\n",
    "data = one_hot_encode(data, 'GarageType')\n",
    "data = data.drop(['GarageType'], axis=1)\n"
   ],
   "metadata": {
    "collapsed": false,
    "ExecuteTime": {
     "end_time": "2023-07-07T09:13:25.708388Z",
     "start_time": "2023-07-07T09:13:25.640982Z"
    }
   }
  },
  {
   "cell_type": "markdown",
   "source": [
    "### Basement features:\n",
    "- Temporary drop some basement for now, only keep Qual and Cond"
   ],
   "metadata": {
    "collapsed": false,
    "ExecuteTime": {
     "end_time": "2023-06-09T14:41:01.550470Z",
     "start_time": "2023-06-09T14:41:01.306223Z"
    }
   },
   "outputs": [],
   "execution_count": 210
  },
  {
   "cell_type": "code",
   "execution_count": 331,
   "outputs": [],
   "source": [
    "data['BsmtQual'] = data['BsmtQual'].fillna('TA')\n",
    "data['BsmtCond'] = data['BsmtCond'].fillna('TA')\n",
    "\n",
    "data['BsmtQual'] = encode_ordinal(data, 'BsmtQual')\n",
    "data['BsmtCond'] = encode_ordinal(data, 'BsmtCond')\n",
    "\n",
    "data['UnfBsmtRat'] = data['BsmtUnfSF'] / data['TotalBsmtSF']\n",
    "\n",
    "data['UnfBsmtRat'] = data['UnfBsmtRat'].fillna(data['UnfBsmtRat'].mean())\n",
    "data = data.drop(['BsmtExposure', 'BsmtFinType1', 'BsmtFinSF1', 'BsmtFinType2', 'BsmtFinSF2', 'BsmtUnfSF', 'TotalBsmtSF'], axis=1)"
   ],
   "metadata": {
    "collapsed": false,
    "ExecuteTime": {
     "end_time": "2023-07-07T09:13:25.708451Z",
     "start_time": "2023-07-07T09:13:25.657097Z"
    }
   }
  },
  {
   "cell_type": "markdown",
   "source": [
    "### Masonry veneer features:\n",
    "- Type: FillNa with NA.\n",
    "- Area: FillNa with 0"
   ],
   "metadata": {
    "collapsed": false,
    "ExecuteTime": {
     "end_time": "2023-06-09T14:41:01.552388Z",
     "start_time": "2023-06-09T14:41:01.319043Z"
    }
   },
   "outputs": [],
   "execution_count": 212
  },
  {
   "cell_type": "code",
   "execution_count": 332,
   "outputs": [],
   "source": [
    "data['MasVnrType'] = data['MasVnrType'].fillna('None')\n",
    "data['MasVnrArea'] = data['MasVnrArea'].fillna(0)\n",
    "\n",
    "data = one_hot_encode(data, 'MasVnrType')\n",
    "data = data.drop(['MasVnrType', 'MasVnrType_None'], axis=1)\n"
   ],
   "metadata": {
    "collapsed": false,
    "ExecuteTime": {
     "end_time": "2023-07-07T09:13:25.708858Z",
     "start_time": "2023-07-07T09:13:25.666951Z"
    }
   }
  },
  {
   "cell_type": "markdown",
   "source": [
    "### Zoning data:\n",
    "- MSZoning: Onehot\n",
    "- MsSubClass: Change to object + onehot\n",
    "- Update: drop?"
   ],
   "metadata": {
    "collapsed": false,
    "ExecuteTime": {
     "end_time": "2023-06-09T14:41:01.555003Z",
     "start_time": "2023-06-09T14:41:01.335010Z"
    }
   },
   "outputs": [],
   "execution_count": 214
  },
  {
   "cell_type": "code",
   "execution_count": 333,
   "outputs": [],
   "source": [
    "# data = one_hot_encode(data, 'MSZoning')\n",
    "data = data.drop(['MSZoning'], axis=1)\n",
    "# data['MSSubClass'] = data['MSSubClass'].astype(object)\n",
    "# data['MSSubClass'].value_counts()\n",
    "#\n",
    "# data = one_hot_encode(data, 'MSSubClass')\n",
    "data = data.drop(['MSSubClass'], axis=1)"
   ],
   "metadata": {
    "collapsed": false,
    "ExecuteTime": {
     "end_time": "2023-07-07T09:13:25.708912Z",
     "start_time": "2023-07-07T09:13:25.679449Z"
    }
   }
  },
  {
   "cell_type": "markdown",
   "source": [
    "### Functional, Kitchen:\n",
    "- Ordinal encoding."
   ],
   "metadata": {
    "collapsed": false,
    "ExecuteTime": {
     "end_time": "2023-06-09T14:41:01.565143Z",
     "start_time": "2023-06-09T14:41:01.353915Z"
    }
   },
   "outputs": [],
   "execution_count": 216
  },
  {
   "cell_type": "code",
   "execution_count": 334,
   "outputs": [],
   "source": [
    "Functional_dict = {\"Sal\": 0, \"Sev\": 1, \"Maj2\": 2, \"Maj1\": 3, \"Mod\": 4, \"Min2\": 5, \"Min1\": 6, \"Typ\":7}\n",
    "\n",
    "data = data[data['Functional'].notna()]\n",
    "data = data[data['KitchenQual'].notna()]\n",
    "data['Functional'] = encode_ordinal(data, 'Functional', feature_dict=Functional_dict)\n",
    "data['KitchenQual'] = encode_ordinal(data, 'KitchenQual')\n"
   ],
   "metadata": {
    "collapsed": false,
    "ExecuteTime": {
     "end_time": "2023-07-07T09:13:25.782409Z",
     "start_time": "2023-07-07T09:13:25.684736Z"
    }
   }
  },
  {
   "cell_type": "markdown",
   "source": [
    "### Exterior feature:\n",
    "\n",
    "- Material: One-hot encode both Exterior 1st and Exterior 2nd together.\n",
    "- Qual and cond: Ordinal Encoding."
   ],
   "metadata": {
    "collapsed": false,
    "ExecuteTime": {
     "end_time": "2023-06-09T14:41:01.567400Z",
     "start_time": "2023-06-09T14:41:01.365339Z"
    }
   },
   "outputs": [],
   "execution_count": 217
  },
  {
   "cell_type": "code",
   "execution_count": 335,
   "outputs": [],
   "source": [
    "\n",
    "\n",
    "\n",
    "data.loc[data['Exterior1st'] == data['Exterior2nd'],  'Exterior2nd'] = None\n",
    "data['Exterior2nd'] = data['Exterior2nd'].replace({'Brk Cmn': 'BrkComm', 'Wd Shng': 'WdShing' }).astype(\"str\")\n",
    "\n",
    "data = data.join(\n",
    "pd.get_dummies(data.filter(like='Exterior').stack(), prefix='Exterior')\n",
    "  .groupby(level=0).max())\n",
    "\n",
    "\n",
    "data = data.drop(['Exterior1st', 'Exterior2nd', 'Exterior_None', 'Exterior_Other'], axis=1)\n",
    "data['ExterQual'] = encode_ordinal(data, 'ExterQual')\n",
    "data['ExterCond'] = encode_ordinal(data, 'ExterCond')\n",
    "\n",
    "\n"
   ],
   "metadata": {
    "collapsed": false,
    "ExecuteTime": {
     "end_time": "2023-07-07T09:13:25.784171Z",
     "start_time": "2023-07-07T09:13:25.700019Z"
    }
   }
  },
  {
   "cell_type": "markdown",
   "source": [
    "### Electrical:\n",
    "- Fill Na with the most common (SBrKr)\n",
    "- Change mix to FuseA (average)\n",
    "- Ordinal encoding."
   ],
   "metadata": {
    "collapsed": false,
    "ExecuteTime": {
     "end_time": "2023-06-09T14:41:01.568925Z",
     "start_time": "2023-06-09T14:41:01.377805Z"
    }
   },
   "outputs": [
    {
     "name": "stdout",
     "output_type": "stream",
     "text": [
      "SBrkr    2667\n",
      "FuseA     186\n",
      "FuseF      50\n",
      "FuseP       8\n",
      "Mix         1\n",
      "Name: Electrical, dtype: int64\n"
     ]
    }
   ],
   "execution_count": 218
  },
  {
   "cell_type": "code",
   "execution_count": 336,
   "outputs": [
    {
     "name": "stdout",
     "output_type": "stream",
     "text": [
      "SBrkr    2669\n",
      "FuseA     187\n",
      "FuseF      50\n",
      "FuseP       8\n",
      "Mix         1\n",
      "Name: Electrical, dtype: int64\n"
     ]
    }
   ],
   "source": [
    "data['Electrical'] = data['Electrical'].fillna('SBrkr')\n",
    "Electrical_dict = {'SBrkr' : 3, 'FuseA': 2, 'FuseF': 1, 'FuseP' : 0, 'Mix': 2}\n",
    "print(data['Electrical'].value_counts())\n",
    "data['Electrical'] = encode_ordinal(data, 'Electrical', feature_dict=Electrical_dict)"
   ],
   "metadata": {
    "collapsed": false,
    "ExecuteTime": {
     "end_time": "2023-07-07T09:13:25.784515Z",
     "start_time": "2023-07-07T09:13:25.719254Z"
    }
   }
  },
  {
   "cell_type": "markdown",
   "source": [
    "### SaleType and SaleCondition:\n",
    "- Drop for now."
   ],
   "metadata": {
    "collapsed": false,
    "ExecuteTime": {
     "end_time": "2023-06-09T14:41:01.570326Z",
     "start_time": "2023-06-09T14:41:01.381779Z"
    }
   },
   "outputs": [],
   "execution_count": 219
  },
  {
   "cell_type": "code",
   "execution_count": 337,
   "outputs": [],
   "source": [
    "data = data.drop(['SaleType', 'SaleCondition'], axis=1)"
   ],
   "metadata": {
    "collapsed": false,
    "ExecuteTime": {
     "end_time": "2023-07-07T09:13:25.784582Z",
     "start_time": "2023-07-07T09:13:25.723226Z"
    }
   }
  },
  {
   "cell_type": "markdown",
   "source": [
    "### Heating:\n",
    "- Type: drop\n",
    "- Quality: Ordinal\n",
    "- CentralAir: Encode 0-1\n"
   ],
   "metadata": {
    "collapsed": false,
    "ExecuteTime": {
     "end_time": "2023-06-09T14:41:01.582715Z",
     "start_time": "2023-06-09T14:41:01.388675Z"
    }
   },
   "outputs": [
    {
     "name": "stdout",
     "output_type": "stream",
     "text": [
      "CentralAir\n",
      "1             2718\n",
      "0              194\n",
      "dtype: int64\n",
      "Heating\n",
      "GasA       2868\n",
      "GasW         27\n",
      "Grav          9\n",
      "Wall          5\n",
      "OthW          2\n",
      "Floor         1\n",
      "dtype: int64\n",
      "HeatingQC\n",
      "Ex           1491\n",
      "TA            855\n",
      "Gd            473\n",
      "Fa             91\n",
      "Po              2\n",
      "dtype: int64\n",
      "CentralAir    0\n",
      "dtype: int64\n",
      "Heating    0\n",
      "dtype: int64\n",
      "HeatingQC    0\n",
      "dtype: int64\n"
     ]
    }
   ],
   "execution_count": 220
  },
  {
   "cell_type": "code",
   "execution_count": 338,
   "outputs": [
    {
     "name": "stdout",
     "output_type": "stream",
     "text": [
      "CentralAir\n",
      "1             2721\n",
      "0              194\n",
      "dtype: int64\n",
      "Heating\n",
      "GasA       2871\n",
      "GasW         27\n",
      "Grav          9\n",
      "Wall          5\n",
      "OthW          2\n",
      "Floor         1\n",
      "dtype: int64\n",
      "HeatingQC\n",
      "Ex           1492\n",
      "TA            857\n",
      "Gd            473\n",
      "Fa             91\n",
      "Po              2\n",
      "dtype: int64\n",
      "CentralAir    0\n",
      "dtype: int64\n",
      "Heating    0\n",
      "dtype: int64\n",
      "HeatingQC    0\n",
      "dtype: int64\n"
     ]
    }
   ],
   "source": [
    "data['CentralAir'] = data[\"CentralAir\"].replace({'Y': 1, 'N' : 0}).astype(\"int64\")\n",
    "\n",
    "print(data[[\"CentralAir\"]].value_counts())\n",
    "print(data[[\"Heating\"]].value_counts())\n",
    "print(data[[\"HeatingQC\"]].value_counts())\n",
    "\n",
    "print(data[[\"CentralAir\"]].isna().sum())\n",
    "print(data[[\"Heating\"]].isna().sum())\n",
    "print(data[[\"HeatingQC\"]].isna().sum())\n",
    "\n",
    "data['HeatingQC'] = encode_ordinal(data, 'HeatingQC')\n",
    "data = data.drop(['Heating'], axis=1)"
   ],
   "metadata": {
    "collapsed": false,
    "ExecuteTime": {
     "end_time": "2023-07-07T09:13:25.784658Z",
     "start_time": "2023-07-07T09:13:25.730589Z"
    }
   }
  },
  {
   "cell_type": "markdown",
   "source": [
    "### Roof:\n",
    "- Style and mat: One-hot Encoding"
   ],
   "metadata": {
    "collapsed": false,
    "ExecuteTime": {
     "end_time": "2023-06-09T14:41:01.582898Z",
     "start_time": "2023-06-09T14:41:01.399672Z"
    }
   },
   "outputs": [
    {
     "name": "stdout",
     "output_type": "stream",
     "text": [
      "Gable      2304\n",
      "Hip         551\n",
      "Gambrel      22\n",
      "Flat         19\n",
      "Mansard      11\n",
      "Shed          5\n",
      "Name: RoofStyle, dtype: int64\n",
      "RoofStyle    0\n",
      "dtype: int64\n",
      "CompShg    2870\n",
      "Tar&Grv      22\n",
      "WdShake       9\n",
      "WdShngl       7\n",
      "Metal         1\n",
      "Membran       1\n",
      "Roll          1\n",
      "ClyTile       1\n",
      "Name: RoofMatl, dtype: int64\n",
      "RoofMatl    0\n",
      "dtype: int64\n"
     ]
    }
   ],
   "execution_count": 221
  },
  {
   "cell_type": "code",
   "execution_count": 339,
   "outputs": [
    {
     "name": "stdout",
     "output_type": "stream",
     "text": [
      "Gable      2307\n",
      "Hip         551\n",
      "Gambrel      22\n",
      "Flat         19\n",
      "Mansard      11\n",
      "Shed          5\n",
      "Name: RoofStyle, dtype: int64\n",
      "RoofStyle    0\n",
      "dtype: int64\n",
      "CompShg    2873\n",
      "Tar&Grv      22\n",
      "WdShake       9\n",
      "WdShngl       7\n",
      "Metal         1\n",
      "Membran       1\n",
      "Roll          1\n",
      "ClyTile       1\n",
      "Name: RoofMatl, dtype: int64\n",
      "RoofMatl    0\n",
      "dtype: int64\n"
     ]
    }
   ],
   "source": [
    "print(data['RoofStyle'].value_counts())\n",
    "print(data[[\"RoofStyle\"]].isna().sum())\n",
    "print(data['RoofMatl'].value_counts())\n",
    "print(data[[\"RoofMatl\"]].isna().sum())\n",
    "\n",
    "data = one_hot_encode(data, 'RoofStyle')\n",
    "data = data.drop(['RoofStyle'], axis=1)\n",
    "\n",
    "data = one_hot_encode(data, 'RoofMatl')\n",
    "data = data.drop(['RoofMatl'], axis=1)"
   ],
   "metadata": {
    "collapsed": false,
    "ExecuteTime": {
     "end_time": "2023-07-07T09:13:25.784727Z",
     "start_time": "2023-07-07T09:13:25.745741Z"
    }
   }
  },
  {
   "cell_type": "markdown",
   "source": [
    "### Land:\n",
    "- Slope: Ordinal encoding\n",
    "- Contour: one-hot."
   ],
   "metadata": {
    "collapsed": false,
    "ExecuteTime": {
     "end_time": "2023-06-09T14:41:01.583321Z",
     "start_time": "2023-06-09T14:41:01.411351Z"
    }
   },
   "outputs": [
    {
     "name": "stdout",
     "output_type": "stream",
     "text": [
      "Lvl    2616\n",
      "HLS     120\n",
      "Bnk     117\n",
      "Low      59\n",
      "Name: LandContour, dtype: int64\n",
      "LandContour    0\n",
      "dtype: int64\n",
      "Gtl    2772\n",
      "Mod     124\n",
      "Sev      16\n",
      "Name: LandSlope, dtype: int64\n",
      "LandSlope    0\n",
      "dtype: int64\n"
     ]
    }
   ],
   "execution_count": 222
  },
  {
   "cell_type": "code",
   "execution_count": 340,
   "outputs": [
    {
     "name": "stdout",
     "output_type": "stream",
     "text": [
      "Lvl    2619\n",
      "HLS     120\n",
      "Bnk     117\n",
      "Low      59\n",
      "Name: LandContour, dtype: int64\n",
      "LandContour    0\n",
      "dtype: int64\n",
      "Gtl    2775\n",
      "Mod     124\n",
      "Sev      16\n",
      "Name: LandSlope, dtype: int64\n",
      "LandSlope    0\n",
      "dtype: int64\n"
     ]
    }
   ],
   "source": [
    "print(data['LandContour'].value_counts())\n",
    "print(data[[\"LandContour\"]].isna().sum())\n",
    "\n",
    "data = one_hot_encode(data, 'LandContour')\n",
    "data = data.drop(['LandContour'], axis=1)\n",
    "\n",
    "print(data['LandSlope'].value_counts())\n",
    "print(data[[\"LandSlope\"]].isna().sum())\n",
    "\n",
    "\n",
    "LandSlope_dict = {'Gtl': 2, 'Mod': 1, 'Sev': 0}\n",
    "data['LandSlope'] = encode_ordinal(data, 'LandSlope', feature_dict=LandSlope_dict)\n"
   ],
   "metadata": {
    "collapsed": false,
    "ExecuteTime": {
     "end_time": "2023-07-07T09:13:25.784886Z",
     "start_time": "2023-07-07T09:13:25.756717Z"
    }
   }
  },
  {
   "cell_type": "markdown",
   "source": [
    "### Foundation:\n",
    "- One-hot encoding"
   ],
   "metadata": {
    "collapsed": false,
    "ExecuteTime": {
     "end_time": "2023-06-09T14:41:01.583924Z",
     "start_time": "2023-06-09T14:41:01.424030Z"
    }
   },
   "outputs": [
    {
     "name": "stdout",
     "output_type": "stream",
     "text": [
      "PConc     1306\n",
      "CBlock    1234\n",
      "BrkTil     309\n",
      "Slab        47\n",
      "Stone       11\n",
      "Wood         5\n",
      "Name: Foundation, dtype: int64\n",
      "Foundation    0\n",
      "dtype: int64\n"
     ]
    }
   ],
   "execution_count": 223
  },
  {
   "cell_type": "code",
   "execution_count": 341,
   "outputs": [
    {
     "name": "stdout",
     "output_type": "stream",
     "text": [
      "PConc     1307\n",
      "CBlock    1234\n",
      "BrkTil     310\n",
      "Slab        48\n",
      "Stone       11\n",
      "Wood         5\n",
      "Name: Foundation, dtype: int64\n",
      "Foundation    0\n",
      "dtype: int64\n"
     ]
    }
   ],
   "source": [
    "print(data['Foundation'].value_counts())\n",
    "print(data[[\"Foundation\"]].isna().sum())\n",
    "data = one_hot_encode(data, 'Foundation')\n",
    "data = data.drop(['Foundation'], axis=1)"
   ],
   "metadata": {
    "collapsed": false,
    "ExecuteTime": {
     "end_time": "2023-07-07T09:13:25.784973Z",
     "start_time": "2023-07-07T09:13:25.769395Z"
    }
   }
  },
  {
   "cell_type": "markdown",
   "source": [
    "### Dwelling:\n",
    "- Drop for now (BldgType and houseStyle)"
   ],
   "metadata": {
    "collapsed": false,
    "ExecuteTime": {
     "end_time": "2023-06-09T14:41:01.583964Z",
     "start_time": "2023-06-09T14:41:01.431989Z"
    }
   },
   "outputs": [],
   "execution_count": 224
  },
  {
   "cell_type": "code",
   "execution_count": 342,
   "outputs": [],
   "source": [
    "data = data.drop(['BldgType', 'HouseStyle'], axis=1)"
   ],
   "metadata": {
    "collapsed": false,
    "ExecuteTime": {
     "end_time": "2023-07-07T09:13:25.785013Z",
     "start_time": "2023-07-07T09:13:25.776168Z"
    }
   }
  },
  {
   "cell_type": "markdown",
   "source": [
    "### Paved Street and Paved Driveway:\n",
    "- Onehot Encoded."
   ],
   "metadata": {
    "collapsed": false,
    "ExecuteTime": {
     "end_time": "2023-06-09T14:41:01.584Z",
     "start_time": "2023-06-09T14:41:01.435904Z"
    }
   },
   "outputs": [],
   "execution_count": 225
  },
  {
   "cell_type": "code",
   "execution_count": 343,
   "outputs": [],
   "source": [
    "data[\"Street\"] = data[\"Street\"].replace({'Pave': 1, 'Grvl' : 0}).astype(\"int64\")\n",
    "data[\"PavedDrive\"] = data[\"PavedDrive\"].replace({'Y': 2, 'P': 1, 'N' : 0}).astype(\"int64\")"
   ],
   "metadata": {
    "collapsed": false,
    "ExecuteTime": {
     "end_time": "2023-07-07T09:13:25.785052Z",
     "start_time": "2023-07-07T09:13:25.778864Z"
    }
   }
  },
  {
   "cell_type": "markdown",
   "source": [
    "\n",
    "### Neigborhood-related:\n",
    "- Neighborhood: remove? Because how is neighborhood affect house quality? Will see later.\n",
    "- Condition 1 and 2: dropped"
   ],
   "metadata": {
    "collapsed": false,
    "ExecuteTime": {
     "end_time": "2023-06-09T14:41:01.584078Z",
     "start_time": "2023-06-09T14:41:01.440268Z"
    }
   },
   "outputs": [],
   "execution_count": 226
  },
  {
   "cell_type": "code",
   "execution_count": 344,
   "outputs": [],
   "source": [
    "# data = one_hot_encode(data, 'Neighborhood')\n",
    "data = data.drop(['Condition1', 'Condition2', 'Neighborhood'], axis=1)"
   ],
   "metadata": {
    "collapsed": false,
    "ExecuteTime": {
     "end_time": "2023-07-07T09:13:25.810802Z",
     "start_time": "2023-07-07T09:13:25.782538Z"
    }
   }
  },
  {
   "cell_type": "markdown",
   "source": [
    "### Fireplaces"
   ],
   "metadata": {
    "collapsed": false,
    "ExecuteTime": {
     "end_time": "2023-06-09T14:41:01.584115Z",
     "start_time": "2023-06-09T14:41:01.448084Z"
    }
   },
   "outputs": [],
   "execution_count": 227
  },
  {
   "cell_type": "code",
   "execution_count": 345,
   "outputs": [],
   "source": [
    "data['FireplaceQu'] = data['FireplaceQu'].fillna(\"NA\")\n",
    "data_cat_ordinal = data[[\"FireplaceQu\"]].columns\n",
    "\n",
    "FireplaceQu_dict = {'Ex': 5, 'Gd': 4, 'TA': 3, 'Fa': 2, 'Po': 1, \"NA\": 3}\n",
    "data['FireplaceQu'] = encode_ordinal(data, 'FireplaceQu', FireplaceQu_dict)\n"
   ],
   "metadata": {
    "collapsed": false,
    "ExecuteTime": {
     "end_time": "2023-07-07T09:13:25.819595Z",
     "start_time": "2023-07-07T09:13:25.789998Z"
    }
   }
  },
  {
   "cell_type": "markdown",
   "source": [
    "### Alley:\n",
    "- Too many missing -> drop"
   ],
   "metadata": {
    "collapsed": false,
    "ExecuteTime": {
     "end_time": "2023-06-09T14:41:01.584149Z",
     "start_time": "2023-06-09T14:41:01.453234Z"
    }
   },
   "outputs": [],
   "execution_count": 228
  },
  {
   "cell_type": "code",
   "execution_count": 346,
   "outputs": [],
   "source": [
    "data = data.drop(['Alley'], axis=1)"
   ],
   "metadata": {
    "collapsed": false,
    "ExecuteTime": {
     "end_time": "2023-07-07T09:13:25.819864Z",
     "start_time": "2023-07-07T09:13:25.796688Z"
    }
   }
  },
  {
   "cell_type": "markdown",
   "source": [
    "### Porch-area related features:\n",
    "- Drop for now"
   ],
   "metadata": {
    "collapsed": false,
    "ExecuteTime": {
     "end_time": "2023-06-09T14:41:01.584208Z",
     "start_time": "2023-06-09T14:41:01.457352Z"
    }
   },
   "outputs": [],
   "execution_count": 229
  },
  {
   "cell_type": "code",
   "execution_count": 347,
   "outputs": [],
   "source": [
    "data = data.drop(['WoodDeckSF', 'OpenPorchSF', 'EnclosedPorch', '3SsnPorch', 'ScreenPorch'], axis=1)"
   ],
   "metadata": {
    "collapsed": false,
    "ExecuteTime": {
     "end_time": "2023-07-07T09:13:25.896958Z",
     "start_time": "2023-07-07T09:13:25.810971Z"
    }
   }
  },
  {
   "cell_type": "markdown",
   "source": [
    "### Total area of the house"
   ],
   "metadata": {
    "collapsed": false,
    "ExecuteTime": {
     "end_time": "2023-06-09T14:41:01.585017Z",
     "start_time": "2023-06-09T14:41:01.461851Z"
    }
   },
   "outputs": [],
   "execution_count": 230
  },
  {
   "cell_type": "code",
   "execution_count": 348,
   "outputs": [],
   "source": [
    "# data['TotalSqFt'] = data['GrLivArea'] + data['TotalBsmtSF']\n",
    "data['UnfSqFtRatio'] = data['LowQualFinSF'] / data['GrLivArea']\n",
    "data = data.drop(['GrLivArea', '1stFlrSF', '2ndFlrSF', 'LowQualFinSF', 'LotArea', 'LotFrontage'], axis=1)"
   ],
   "metadata": {
    "collapsed": false,
    "ExecuteTime": {
     "end_time": "2023-07-07T09:13:25.904636Z",
     "start_time": "2023-07-07T09:13:25.811287Z"
    }
   }
  },
  {
   "cell_type": "markdown",
   "source": [
    "### Year and age:\n",
    "- Age: Year sold - renovated.\n",
    "- IsNew: If sold right after built\n",
    "- IsRennovated: If the house is rennovated or not."
   ],
   "metadata": {
    "collapsed": false,
    "ExecuteTime": {
     "end_time": "2023-06-09T14:41:01.585066Z",
     "start_time": "2023-06-09T14:41:01.466256Z"
    }
   },
   "outputs": [],
   "execution_count": 231
  },
  {
   "cell_type": "code",
   "execution_count": 349,
   "outputs": [],
   "source": [
    "data['Age'] =  data['YrSold'] - data['YearRemodAdd']\n",
    "data['IsNew'] =  data['YrSold'] == data['YearBuilt']\n",
    "data['Renovated'] = data['YearRemodAdd'] != data['YearBuilt']\n",
    "data['GarageAge'] = data['YrSold'] - data['GarageYrBlt']\n",
    "\n",
    "data = data.drop(['MoSold', 'YrSold', 'YearBuilt', 'GarageYrBlt', 'YearRemodAdd'], axis=1)\n",
    "\n",
    "data[['Renovated', 'IsNew']] = data[['Renovated', 'IsNew']].astype(int)"
   ],
   "metadata": {
    "collapsed": false,
    "ExecuteTime": {
     "end_time": "2023-07-07T09:13:25.904804Z",
     "start_time": "2023-07-07T09:13:25.811377Z"
    }
   }
  },
  {
   "cell_type": "markdown",
   "source": [
    "### Pool\n",
    "- Drop Area, keep quality."
   ],
   "metadata": {
    "collapsed": false,
    "ExecuteTime": {
     "end_time": "2023-06-09T14:41:01.585112Z",
     "start_time": "2023-06-09T14:41:01.471212Z"
    }
   },
   "outputs": [],
   "execution_count": 232
  },
  {
   "cell_type": "code",
   "execution_count": 350,
   "outputs": [],
   "source": [
    "data[\"PoolQC\"] = data[\"PoolQC\"].fillna(\"NA\")\n",
    "PoolQC_dict = {'Ex': 1, 'Gd': 1, 'TA': 1, 'Fa': 1, 'Po': 1, \"NA\": 0}\n",
    "data['HasPool'] = encode_ordinal(data, 'PoolQC', PoolQC_dict)\n",
    "data = data.drop(['PoolArea', 'PoolQC'], axis=1)"
   ],
   "metadata": {
    "collapsed": false,
    "ExecuteTime": {
     "end_time": "2023-07-07T09:13:25.905191Z",
     "start_time": "2023-07-07T09:13:25.812984Z"
    }
   }
  },
  {
   "cell_type": "code",
   "execution_count": 351,
   "outputs": [
    {
     "name": "stdout",
     "output_type": "stream",
     "text": [
      "OverallQual         1.000000\n",
      "SalePrice           0.811829\n",
      "ExterQual           0.732425\n",
      "BsmtQual            0.679258\n",
      "KitchenQual         0.675435\n",
      "GarageCars          0.602199\n",
      "Foundation_PConc    0.567542\n",
      "GarageArea          0.566158\n",
      "Bathrooms           0.546512\n",
      "GarageFinish        0.535696\n",
      "HeatingQC           0.472012\n",
      "MasVnrArea          0.426534\n",
      "Fireplaces          0.391060\n",
      "TotRmsAbvGrd        0.388686\n",
      "FireplaceQu         0.375920\n",
      "Name: OverallQual, dtype: float64\n",
      "GarageAge           -0.576987\n",
      "Age                 -0.572428\n",
      "Foundation_CBlock   -0.410104\n",
      "GarageType_Detchd   -0.342349\n",
      "RoofStyle_Gable     -0.189011\n",
      "Name: OverallQual, dtype: float64\n"
     ]
    }
   ],
   "source": [
    "corrmat = data.corr(numeric_only=True)\n",
    "k = 15 #number of variables for heatmap\n",
    "\n",
    "print(corrmat.nlargest(k, 'OverallQual')['OverallQual'])\n",
    "print(corrmat.nsmallest(5, 'OverallQual')['OverallQual'])\n"
   ],
   "metadata": {
    "collapsed": false,
    "ExecuteTime": {
     "end_time": "2023-07-07T09:13:25.906048Z",
     "start_time": "2023-07-07T09:13:25.817262Z"
    }
   }
  },
  {
   "cell_type": "markdown",
   "source": [
    "### Fence:\n",
    "- Drop for now."
   ],
   "metadata": {
    "collapsed": false,
    "ExecuteTime": {
     "end_time": "2023-06-09T14:41:01.585237Z",
     "start_time": "2023-06-09T14:41:01.504504Z"
    }
   },
   "outputs": [],
   "execution_count": 234
  },
  {
   "cell_type": "code",
   "execution_count": 352,
   "outputs": [],
   "source": [
    "data = data.drop(['Fence', 'LotShape', 'LotConfig', 'TotRmsAbvGrd'], axis=1)\n"
   ],
   "metadata": {
    "collapsed": false,
    "ExecuteTime": {
     "end_time": "2023-07-07T09:13:25.906106Z",
     "start_time": "2023-07-07T09:13:25.845077Z"
    }
   }
  },
  {
   "cell_type": "markdown",
   "source": [
    "### Taking log of some SalePrice variable."
   ],
   "metadata": {
    "collapsed": false,
    "ExecuteTime": {
     "end_time": "2023-06-09T14:41:01.585288Z",
     "start_time": "2023-06-09T14:41:01.507404Z"
    }
   },
   "outputs": [],
   "execution_count": 235
  },
  {
   "cell_type": "code",
   "execution_count": 353,
   "outputs": [],
   "source": [
    "data['SalePrice'] = np.log(data['SalePrice'])"
   ],
   "metadata": {
    "collapsed": false,
    "ExecuteTime": {
     "end_time": "2023-07-07T09:13:25.906163Z",
     "start_time": "2023-07-07T09:13:25.848914Z"
    }
   }
  },
  {
   "cell_type": "code",
   "execution_count": 354,
   "outputs": [
    {
     "data": {
      "text/plain": "5    1644\n6     531\n7     389\n8     144\n4     101\n3      49\n9      41\n2      10\n1       6\nName: OverallCond, dtype: int64"
     },
     "execution_count": 354,
     "metadata": {},
     "output_type": "execute_result"
    }
   ],
   "source": [
    "data['OverallCond'].value_counts()"
   ],
   "metadata": {
    "collapsed": false,
    "ExecuteTime": {
     "end_time": "2023-07-07T09:13:25.906288Z",
     "start_time": "2023-07-07T09:13:25.852663Z"
    }
   }
  },
  {
   "cell_type": "code",
   "execution_count": 355,
   "outputs": [],
   "source": [
    "numerics = ['int16', 'int32', 'int64', 'float16', 'float32', 'float64']\n",
    "data_num_cols = data.select_dtypes(include=numerics).drop(['SalePrice', 'OverallQual', 'OverallCond'], axis=1).columns"
   ],
   "metadata": {
    "collapsed": false,
    "ExecuteTime": {
     "end_time": "2023-07-07T09:13:25.906347Z",
     "start_time": "2023-07-07T09:13:25.854478Z"
    }
   }
  },
  {
   "cell_type": "code",
   "execution_count": 356,
   "outputs": [
    {
     "data": {
      "text/plain": "      Bathrooms  Street  LandSlope  OverallQual  OverallCond  MasVnrArea  \\\n0          4.75    10.0       10.0            7            5     2.10250   \n1          3.25    10.0       10.0            6            8     1.00000   \n2          4.75    10.0       10.0            7            5     1.91125   \n3          2.50    10.0       10.0            7            5     1.00000   \n4          4.75    10.0       10.0            8            5     2.96875   \n...         ...     ...        ...          ...          ...         ...   \n2914       1.75    10.0       10.0            4            7     1.00000   \n2915       1.75    10.0       10.0            4            5     1.00000   \n2916       2.50    10.0       10.0            5            7     1.00000   \n2917       1.75    10.0       10.0            5            5     1.00000   \n2918       3.25    10.0        5.5            7            5     1.52875   \n\n      ExterQual  ExterCond  BsmtQual  BsmtCond  ...  Foundation_PConc  \\\n0           7.0        5.5       7.0       7.0  ...                 1   \n1           4.0        5.5       7.0       7.0  ...                 0   \n2           7.0        5.5       7.0       7.0  ...                 1   \n3           4.0        5.5       4.0      10.0  ...                 0   \n4           7.0        5.5       7.0       7.0  ...                 1   \n...         ...        ...       ...       ...  ...               ...   \n2914        4.0        5.5       4.0       7.0  ...                 0   \n2915        4.0        5.5       4.0       7.0  ...                 0   \n2916        4.0        5.5       4.0       7.0  ...                 0   \n2917        4.0        5.5       7.0       7.0  ...                 1   \n2918        4.0        5.5       7.0       7.0  ...                 1   \n\n      Foundation_Slab  Foundation_Stone  Foundation_Wood  UnfSqFtRatio  \\\n0                   0                 0                0           1.0   \n1                   0                 0                0           1.0   \n2                   0                 0                0           1.0   \n3                   0                 0                0           1.0   \n4                   0                 0                0           1.0   \n...               ...               ...              ...           ...   \n2914                0                 0                0           1.0   \n2915                0                 0                0           1.0   \n2916                0                 0                0           1.0   \n2917                0                 0                0           1.0   \n2918                0                 0                0           1.0   \n\n           Age  IsNew  Renovated  GarageAge  HasPool  \n0     2.016129    1.0        1.0   6.491071      1.0  \n1     5.790323    1.0        1.0   7.187500      1.0  \n2     2.161290    1.0       10.0   6.544643      1.0  \n3     6.516129    1.0       10.0   6.571429      1.0  \n4     2.451613    1.0        1.0   6.571429      1.0  \n...        ...    ...        ...        ...      ...  \n2914  6.516129    1.0        1.0   7.321429      1.0  \n2915  6.516129    1.0        1.0   7.321429      1.0  \n2916  2.741935    1.0       10.0   7.589286      1.0  \n2917  3.322581    1.0        1.0   6.732143      1.0  \n2918  3.032258    1.0       10.0   6.705357      1.0  \n\n[2915 rows x 76 columns]",
      "text/html": "<div>\n<style scoped>\n    .dataframe tbody tr th:only-of-type {\n        vertical-align: middle;\n    }\n\n    .dataframe tbody tr th {\n        vertical-align: top;\n    }\n\n    .dataframe thead th {\n        text-align: right;\n    }\n</style>\n<table border=\"1\" class=\"dataframe\">\n  <thead>\n    <tr style=\"text-align: right;\">\n      <th></th>\n      <th>Bathrooms</th>\n      <th>Street</th>\n      <th>LandSlope</th>\n      <th>OverallQual</th>\n      <th>OverallCond</th>\n      <th>MasVnrArea</th>\n      <th>ExterQual</th>\n      <th>ExterCond</th>\n      <th>BsmtQual</th>\n      <th>BsmtCond</th>\n      <th>...</th>\n      <th>Foundation_PConc</th>\n      <th>Foundation_Slab</th>\n      <th>Foundation_Stone</th>\n      <th>Foundation_Wood</th>\n      <th>UnfSqFtRatio</th>\n      <th>Age</th>\n      <th>IsNew</th>\n      <th>Renovated</th>\n      <th>GarageAge</th>\n      <th>HasPool</th>\n    </tr>\n  </thead>\n  <tbody>\n    <tr>\n      <th>0</th>\n      <td>4.75</td>\n      <td>10.0</td>\n      <td>10.0</td>\n      <td>7</td>\n      <td>5</td>\n      <td>2.10250</td>\n      <td>7.0</td>\n      <td>5.5</td>\n      <td>7.0</td>\n      <td>7.0</td>\n      <td>...</td>\n      <td>1</td>\n      <td>0</td>\n      <td>0</td>\n      <td>0</td>\n      <td>1.0</td>\n      <td>2.016129</td>\n      <td>1.0</td>\n      <td>1.0</td>\n      <td>6.491071</td>\n      <td>1.0</td>\n    </tr>\n    <tr>\n      <th>1</th>\n      <td>3.25</td>\n      <td>10.0</td>\n      <td>10.0</td>\n      <td>6</td>\n      <td>8</td>\n      <td>1.00000</td>\n      <td>4.0</td>\n      <td>5.5</td>\n      <td>7.0</td>\n      <td>7.0</td>\n      <td>...</td>\n      <td>0</td>\n      <td>0</td>\n      <td>0</td>\n      <td>0</td>\n      <td>1.0</td>\n      <td>5.790323</td>\n      <td>1.0</td>\n      <td>1.0</td>\n      <td>7.187500</td>\n      <td>1.0</td>\n    </tr>\n    <tr>\n      <th>2</th>\n      <td>4.75</td>\n      <td>10.0</td>\n      <td>10.0</td>\n      <td>7</td>\n      <td>5</td>\n      <td>1.91125</td>\n      <td>7.0</td>\n      <td>5.5</td>\n      <td>7.0</td>\n      <td>7.0</td>\n      <td>...</td>\n      <td>1</td>\n      <td>0</td>\n      <td>0</td>\n      <td>0</td>\n      <td>1.0</td>\n      <td>2.161290</td>\n      <td>1.0</td>\n      <td>10.0</td>\n      <td>6.544643</td>\n      <td>1.0</td>\n    </tr>\n    <tr>\n      <th>3</th>\n      <td>2.50</td>\n      <td>10.0</td>\n      <td>10.0</td>\n      <td>7</td>\n      <td>5</td>\n      <td>1.00000</td>\n      <td>4.0</td>\n      <td>5.5</td>\n      <td>4.0</td>\n      <td>10.0</td>\n      <td>...</td>\n      <td>0</td>\n      <td>0</td>\n      <td>0</td>\n      <td>0</td>\n      <td>1.0</td>\n      <td>6.516129</td>\n      <td>1.0</td>\n      <td>10.0</td>\n      <td>6.571429</td>\n      <td>1.0</td>\n    </tr>\n    <tr>\n      <th>4</th>\n      <td>4.75</td>\n      <td>10.0</td>\n      <td>10.0</td>\n      <td>8</td>\n      <td>5</td>\n      <td>2.96875</td>\n      <td>7.0</td>\n      <td>5.5</td>\n      <td>7.0</td>\n      <td>7.0</td>\n      <td>...</td>\n      <td>1</td>\n      <td>0</td>\n      <td>0</td>\n      <td>0</td>\n      <td>1.0</td>\n      <td>2.451613</td>\n      <td>1.0</td>\n      <td>1.0</td>\n      <td>6.571429</td>\n      <td>1.0</td>\n    </tr>\n    <tr>\n      <th>...</th>\n      <td>...</td>\n      <td>...</td>\n      <td>...</td>\n      <td>...</td>\n      <td>...</td>\n      <td>...</td>\n      <td>...</td>\n      <td>...</td>\n      <td>...</td>\n      <td>...</td>\n      <td>...</td>\n      <td>...</td>\n      <td>...</td>\n      <td>...</td>\n      <td>...</td>\n      <td>...</td>\n      <td>...</td>\n      <td>...</td>\n      <td>...</td>\n      <td>...</td>\n      <td>...</td>\n    </tr>\n    <tr>\n      <th>2914</th>\n      <td>1.75</td>\n      <td>10.0</td>\n      <td>10.0</td>\n      <td>4</td>\n      <td>7</td>\n      <td>1.00000</td>\n      <td>4.0</td>\n      <td>5.5</td>\n      <td>4.0</td>\n      <td>7.0</td>\n      <td>...</td>\n      <td>0</td>\n      <td>0</td>\n      <td>0</td>\n      <td>0</td>\n      <td>1.0</td>\n      <td>6.516129</td>\n      <td>1.0</td>\n      <td>1.0</td>\n      <td>7.321429</td>\n      <td>1.0</td>\n    </tr>\n    <tr>\n      <th>2915</th>\n      <td>1.75</td>\n      <td>10.0</td>\n      <td>10.0</td>\n      <td>4</td>\n      <td>5</td>\n      <td>1.00000</td>\n      <td>4.0</td>\n      <td>5.5</td>\n      <td>4.0</td>\n      <td>7.0</td>\n      <td>...</td>\n      <td>0</td>\n      <td>0</td>\n      <td>0</td>\n      <td>0</td>\n      <td>1.0</td>\n      <td>6.516129</td>\n      <td>1.0</td>\n      <td>1.0</td>\n      <td>7.321429</td>\n      <td>1.0</td>\n    </tr>\n    <tr>\n      <th>2916</th>\n      <td>2.50</td>\n      <td>10.0</td>\n      <td>10.0</td>\n      <td>5</td>\n      <td>7</td>\n      <td>1.00000</td>\n      <td>4.0</td>\n      <td>5.5</td>\n      <td>4.0</td>\n      <td>7.0</td>\n      <td>...</td>\n      <td>0</td>\n      <td>0</td>\n      <td>0</td>\n      <td>0</td>\n      <td>1.0</td>\n      <td>2.741935</td>\n      <td>1.0</td>\n      <td>10.0</td>\n      <td>7.589286</td>\n      <td>1.0</td>\n    </tr>\n    <tr>\n      <th>2917</th>\n      <td>1.75</td>\n      <td>10.0</td>\n      <td>10.0</td>\n      <td>5</td>\n      <td>5</td>\n      <td>1.00000</td>\n      <td>4.0</td>\n      <td>5.5</td>\n      <td>7.0</td>\n      <td>7.0</td>\n      <td>...</td>\n      <td>1</td>\n      <td>0</td>\n      <td>0</td>\n      <td>0</td>\n      <td>1.0</td>\n      <td>3.322581</td>\n      <td>1.0</td>\n      <td>1.0</td>\n      <td>6.732143</td>\n      <td>1.0</td>\n    </tr>\n    <tr>\n      <th>2918</th>\n      <td>3.25</td>\n      <td>10.0</td>\n      <td>5.5</td>\n      <td>7</td>\n      <td>5</td>\n      <td>1.52875</td>\n      <td>4.0</td>\n      <td>5.5</td>\n      <td>7.0</td>\n      <td>7.0</td>\n      <td>...</td>\n      <td>1</td>\n      <td>0</td>\n      <td>0</td>\n      <td>0</td>\n      <td>1.0</td>\n      <td>3.032258</td>\n      <td>1.0</td>\n      <td>10.0</td>\n      <td>6.705357</td>\n      <td>1.0</td>\n    </tr>\n  </tbody>\n</table>\n<p>2915 rows × 76 columns</p>\n</div>"
     },
     "execution_count": 356,
     "metadata": {},
     "output_type": "execute_result"
    }
   ],
   "source": [
    "data[data_num_cols] = 1 + (data[data_num_cols] - data[data_num_cols].min()) * 9 / (data[data_num_cols].max() - data[data_num_cols].min())\n",
    "data"
   ],
   "metadata": {
    "collapsed": false,
    "ExecuteTime": {
     "end_time": "2023-07-07T09:13:25.906448Z",
     "start_time": "2023-07-07T09:13:25.859143Z"
    }
   }
  },
  {
   "cell_type": "code",
   "execution_count": 357,
   "outputs": [],
   "source": [
    "data = data.reset_index(drop=True)\n",
    "data.to_csv('data/data_cleaned.csv')"
   ],
   "metadata": {
    "collapsed": false,
    "ExecuteTime": {
     "end_time": "2023-07-07T09:13:25.954204Z",
     "start_time": "2023-07-07T09:13:25.875874Z"
    }
   }
  },
  {
   "cell_type": "code",
   "execution_count": null,
   "outputs": [],
   "source": [],
   "metadata": {
    "collapsed": false
   }
  }
 ],
 "metadata": {
  "kernelspec": {
   "display_name": "Python 3",
   "language": "python",
   "name": "python3"
  },
  "language_info": {
   "codemirror_mode": {
    "name": "ipython",
    "version": 2
   },
   "file_extension": ".py",
   "mimetype": "text/x-python",
   "name": "python",
   "nbconvert_exporter": "python",
   "pygments_lexer": "ipython2",
   "version": "2.7.6"
  }
 },
 "nbformat": 4,
 "nbformat_minor": 0
}
