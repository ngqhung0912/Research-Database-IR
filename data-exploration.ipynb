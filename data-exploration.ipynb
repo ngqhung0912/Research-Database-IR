{
 "cells": [
  {
   "cell_type": "code",
   "execution_count": 17,
   "metadata": {
    "collapsed": true
   },
   "outputs": [],
   "source": [
    "import pandas as pd\n",
    "import matplotlib.pyplot as plt"
   ]
  },
  {
   "cell_type": "code",
   "execution_count": 52,
   "outputs": [
    {
     "name": "stdout",
     "output_type": "stream",
     "text": [
      "<class 'pandas.core.frame.DataFrame'>\n",
      "RangeIndex: 1460 entries, 0 to 1459\n",
      "Data columns (total 81 columns):\n",
      " #   Column         Non-Null Count  Dtype  \n",
      "---  ------         --------------  -----  \n",
      " 0   Id             1460 non-null   int64  \n",
      " 1   MSSubClass     1460 non-null   int64  \n",
      " 2   MSZoning       1460 non-null   object \n",
      " 3   LotFrontage    1201 non-null   float64\n",
      " 4   LotArea        1460 non-null   int64  \n",
      " 5   Street         1460 non-null   object \n",
      " 6   Alley          91 non-null     object \n",
      " 7   LotShape       1460 non-null   object \n",
      " 8   LandContour    1460 non-null   object \n",
      " 9   Utilities      1460 non-null   object \n",
      " 10  LotConfig      1460 non-null   object \n",
      " 11  LandSlope      1460 non-null   object \n",
      " 12  Neighborhood   1460 non-null   object \n",
      " 13  Condition1     1460 non-null   object \n",
      " 14  Condition2     1460 non-null   object \n",
      " 15  BldgType       1460 non-null   object \n",
      " 16  HouseStyle     1460 non-null   object \n",
      " 17  OverallQual    1460 non-null   int64  \n",
      " 18  OverallCond    1460 non-null   int64  \n",
      " 19  YearBuilt      1460 non-null   int64  \n",
      " 20  YearRemodAdd   1460 non-null   int64  \n",
      " 21  RoofStyle      1460 non-null   object \n",
      " 22  RoofMatl       1460 non-null   object \n",
      " 23  Exterior1st    1460 non-null   object \n",
      " 24  Exterior2nd    1460 non-null   object \n",
      " 25  MasVnrType     1452 non-null   object \n",
      " 26  MasVnrArea     1452 non-null   float64\n",
      " 27  ExterQual      1460 non-null   object \n",
      " 28  ExterCond      1460 non-null   object \n",
      " 29  Foundation     1460 non-null   object \n",
      " 30  BsmtQual       1423 non-null   object \n",
      " 31  BsmtCond       1423 non-null   object \n",
      " 32  BsmtExposure   1422 non-null   object \n",
      " 33  BsmtFinType1   1423 non-null   object \n",
      " 34  BsmtFinSF1     1460 non-null   int64  \n",
      " 35  BsmtFinType2   1422 non-null   object \n",
      " 36  BsmtFinSF2     1460 non-null   int64  \n",
      " 37  BsmtUnfSF      1460 non-null   int64  \n",
      " 38  TotalBsmtSF    1460 non-null   int64  \n",
      " 39  Heating        1460 non-null   object \n",
      " 40  HeatingQC      1460 non-null   object \n",
      " 41  CentralAir     1460 non-null   object \n",
      " 42  Electrical     1459 non-null   object \n",
      " 43  1stFlrSF       1460 non-null   int64  \n",
      " 44  2ndFlrSF       1460 non-null   int64  \n",
      " 45  LowQualFinSF   1460 non-null   int64  \n",
      " 46  GrLivArea      1460 non-null   int64  \n",
      " 47  BsmtFullBath   1460 non-null   int64  \n",
      " 48  BsmtHalfBath   1460 non-null   int64  \n",
      " 49  FullBath       1460 non-null   int64  \n",
      " 50  HalfBath       1460 non-null   int64  \n",
      " 51  BedroomAbvGr   1460 non-null   int64  \n",
      " 52  KitchenAbvGr   1460 non-null   int64  \n",
      " 53  KitchenQual    1460 non-null   object \n",
      " 54  TotRmsAbvGrd   1460 non-null   int64  \n",
      " 55  Functional     1460 non-null   object \n",
      " 56  Fireplaces     1460 non-null   int64  \n",
      " 57  FireplaceQu    770 non-null    object \n",
      " 58  GarageType     1379 non-null   object \n",
      " 59  GarageYrBlt    1379 non-null   float64\n",
      " 60  GarageFinish   1379 non-null   object \n",
      " 61  GarageCars     1460 non-null   int64  \n",
      " 62  GarageArea     1460 non-null   int64  \n",
      " 63  GarageQual     1379 non-null   object \n",
      " 64  GarageCond     1379 non-null   object \n",
      " 65  PavedDrive     1460 non-null   object \n",
      " 66  WoodDeckSF     1460 non-null   int64  \n",
      " 67  OpenPorchSF    1460 non-null   int64  \n",
      " 68  EnclosedPorch  1460 non-null   int64  \n",
      " 69  3SsnPorch      1460 non-null   int64  \n",
      " 70  ScreenPorch    1460 non-null   int64  \n",
      " 71  PoolArea       1460 non-null   int64  \n",
      " 72  PoolQC         7 non-null      object \n",
      " 73  Fence          281 non-null    object \n",
      " 74  MiscFeature    54 non-null     object \n",
      " 75  MiscVal        1460 non-null   int64  \n",
      " 76  MoSold         1460 non-null   int64  \n",
      " 77  YrSold         1460 non-null   int64  \n",
      " 78  SaleType       1460 non-null   object \n",
      " 79  SaleCondition  1460 non-null   object \n",
      " 80  SalePrice      1460 non-null   int64  \n",
      "dtypes: float64(3), int64(35), object(43)\n",
      "memory usage: 924.0+ KB\n"
     ]
    }
   ],
   "source": [
    "data = pd.read_csv(\"data/train.csv\")\n",
    "data.info()"
   ],
   "metadata": {
    "collapsed": false
   }
  },
  {
   "cell_type": "code",
   "execution_count": 53,
   "outputs": [],
   "source": [
    "data = data.drop([\"Condition1\", \"Condition2\",\n",
    "                 \"MiscVal\", \"MiscFeature\", \"GarageYrBlt\",\n",
    "                 \"GarageCars\", \"GarageFinish\", \"GarageType\",\n",
    "                 \"Fireplaces\", \"FireplaceQu\", \"PavedDrive\", \"MasVnrArea\",\n",
    "                  \"MasVnrType\", \"1stFlrSF\", \"2ndFlrSF\", \"LowQualFinSF\",\n",
    "                  \"WoodDeckSF\", \"OpenPorchSF\", \"EnclosedPorch\", \"3SsnPorch\",\n",
    "                  \"ScreenPorch\", \"BsmtFinType1\", \"BsmtFinType2\",\n",
    "                  \"BsmtFinSF1\", \"BsmtFinSF2\", \"Id\", \"PoolQC\", \"Fence\", \"Alley\", \"PoolArea\",\n",
    "                  \"Exterior1st\", \"Exterior2nd\", \"BsmtExposure\"], axis=1)\n"
   ],
   "metadata": {
    "collapsed": false
   }
  },
  {
   "cell_type": "code",
   "execution_count": 54,
   "outputs": [
    {
     "name": "stdout",
     "output_type": "stream",
     "text": [
      "<class 'pandas.core.frame.DataFrame'>\n",
      "RangeIndex: 1460 entries, 0 to 1459\n",
      "Data columns (total 49 columns):\n",
      " #   Column         Non-Null Count  Dtype  \n",
      "---  ------         --------------  -----  \n",
      " 0   MSSubClass     1460 non-null   int64  \n",
      " 1   MSZoning       1460 non-null   object \n",
      " 2   LotFrontage    1201 non-null   float64\n",
      " 3   LotArea        1460 non-null   int64  \n",
      " 4   Street         1460 non-null   object \n",
      " 5   LotShape       1460 non-null   object \n",
      " 6   LandContour    1460 non-null   object \n",
      " 7   Utilities      1460 non-null   object \n",
      " 8   LotConfig      1460 non-null   object \n",
      " 9   LandSlope      1460 non-null   object \n",
      " 10  Neighborhood   1460 non-null   object \n",
      " 11  BldgType       1460 non-null   object \n",
      " 12  HouseStyle     1460 non-null   object \n",
      " 13  OverallQual    1460 non-null   int64  \n",
      " 14  OverallCond    1460 non-null   int64  \n",
      " 15  YearBuilt      1460 non-null   int64  \n",
      " 16  YearRemodAdd   1460 non-null   int64  \n",
      " 17  RoofStyle      1460 non-null   object \n",
      " 18  RoofMatl       1460 non-null   object \n",
      " 19  ExterQual      1460 non-null   object \n",
      " 20  ExterCond      1460 non-null   object \n",
      " 21  Foundation     1460 non-null   object \n",
      " 22  BsmtQual       1423 non-null   object \n",
      " 23  BsmtCond       1423 non-null   object \n",
      " 24  BsmtExposure   1422 non-null   object \n",
      " 25  BsmtUnfSF      1460 non-null   int64  \n",
      " 26  TotalBsmtSF    1460 non-null   int64  \n",
      " 27  Heating        1460 non-null   object \n",
      " 28  HeatingQC      1460 non-null   object \n",
      " 29  CentralAir     1460 non-null   object \n",
      " 30  Electrical     1459 non-null   object \n",
      " 31  GrLivArea      1460 non-null   int64  \n",
      " 32  BsmtFullBath   1460 non-null   int64  \n",
      " 33  BsmtHalfBath   1460 non-null   int64  \n",
      " 34  FullBath       1460 non-null   int64  \n",
      " 35  HalfBath       1460 non-null   int64  \n",
      " 36  BedroomAbvGr   1460 non-null   int64  \n",
      " 37  KitchenAbvGr   1460 non-null   int64  \n",
      " 38  KitchenQual    1460 non-null   object \n",
      " 39  TotRmsAbvGrd   1460 non-null   int64  \n",
      " 40  Functional     1460 non-null   object \n",
      " 41  GarageArea     1460 non-null   int64  \n",
      " 42  GarageQual     1379 non-null   object \n",
      " 43  GarageCond     1379 non-null   object \n",
      " 44  MoSold         1460 non-null   int64  \n",
      " 45  YrSold         1460 non-null   int64  \n",
      " 46  SaleType       1460 non-null   object \n",
      " 47  SaleCondition  1460 non-null   object \n",
      " 48  SalePrice      1460 non-null   int64  \n",
      "dtypes: float64(1), int64(20), object(28)\n",
      "memory usage: 559.0+ KB\n"
     ]
    }
   ],
   "source": [
    "data.info()"
   ],
   "metadata": {
    "collapsed": false
   }
  },
  {
   "cell_type": "code",
   "execution_count": 59,
   "outputs": [
    {
     "data": {
      "text/plain": "      MSSubClass MSZoning  LotFrontage  LotArea Street LotShape LandContour  \\\n0             60       RL         65.0     8450   Pave      Reg         Lvl   \n1             20       RL         80.0     9600   Pave      Reg         Lvl   \n2             60       RL         68.0    11250   Pave      IR1         Lvl   \n3             70       RL         60.0     9550   Pave      IR1         Lvl   \n4             60       RL         84.0    14260   Pave      IR1         Lvl   \n...          ...      ...          ...      ...    ...      ...         ...   \n1455          60       RL         62.0     7917   Pave      Reg         Lvl   \n1456          20       RL         85.0    13175   Pave      Reg         Lvl   \n1457          70       RL         66.0     9042   Pave      Reg         Lvl   \n1458          20       RL         68.0     9717   Pave      Reg         Lvl   \n1459          20       RL         75.0     9937   Pave      Reg         Lvl   \n\n     Utilities LotConfig LandSlope  ... Functional GarageArea GarageQual  \\\n0       AllPub    Inside       Gtl  ...        Typ        548         TA   \n1       AllPub       FR2       Gtl  ...        Typ        460         TA   \n2       AllPub    Inside       Gtl  ...        Typ        608         TA   \n3       AllPub    Corner       Gtl  ...        Typ        642         TA   \n4       AllPub       FR2       Gtl  ...        Typ        836         TA   \n...        ...       ...       ...  ...        ...        ...        ...   \n1455    AllPub    Inside       Gtl  ...        Typ        460         TA   \n1456    AllPub    Inside       Gtl  ...       Min1        500         TA   \n1457    AllPub    Inside       Gtl  ...        Typ        252         TA   \n1458    AllPub    Inside       Gtl  ...        Typ        240         TA   \n1459    AllPub    Inside       Gtl  ...        Typ        276         TA   \n\n      GarageCond  MoSold  YrSold  SaleType SaleCondition SalePrice bathrooms  \n0             TA       2    2008        WD        Normal    208500         4  \n1             TA       5    2007        WD        Normal    181500         3  \n2             TA       9    2008        WD        Normal    223500         4  \n3             TA       2    2006        WD       Abnorml    140000         2  \n4             TA      12    2008        WD        Normal    250000         4  \n...          ...     ...     ...       ...           ...       ...       ...  \n1455          TA       8    2007        WD        Normal    175000         3  \n1456          TA       2    2010        WD        Normal    210000         3  \n1457          TA       5    2010        WD        Normal    266500         2  \n1458          TA       4    2010        WD        Normal    142125         2  \n1459          TA       6    2008        WD        Normal    147500         3  \n\n[1460 rows x 46 columns]",
      "text/html": "<div>\n<style scoped>\n    .dataframe tbody tr th:only-of-type {\n        vertical-align: middle;\n    }\n\n    .dataframe tbody tr th {\n        vertical-align: top;\n    }\n\n    .dataframe thead th {\n        text-align: right;\n    }\n</style>\n<table border=\"1\" class=\"dataframe\">\n  <thead>\n    <tr style=\"text-align: right;\">\n      <th></th>\n      <th>MSSubClass</th>\n      <th>MSZoning</th>\n      <th>LotFrontage</th>\n      <th>LotArea</th>\n      <th>Street</th>\n      <th>LotShape</th>\n      <th>LandContour</th>\n      <th>Utilities</th>\n      <th>LotConfig</th>\n      <th>LandSlope</th>\n      <th>...</th>\n      <th>Functional</th>\n      <th>GarageArea</th>\n      <th>GarageQual</th>\n      <th>GarageCond</th>\n      <th>MoSold</th>\n      <th>YrSold</th>\n      <th>SaleType</th>\n      <th>SaleCondition</th>\n      <th>SalePrice</th>\n      <th>bathrooms</th>\n    </tr>\n  </thead>\n  <tbody>\n    <tr>\n      <th>0</th>\n      <td>60</td>\n      <td>RL</td>\n      <td>65.0</td>\n      <td>8450</td>\n      <td>Pave</td>\n      <td>Reg</td>\n      <td>Lvl</td>\n      <td>AllPub</td>\n      <td>Inside</td>\n      <td>Gtl</td>\n      <td>...</td>\n      <td>Typ</td>\n      <td>548</td>\n      <td>TA</td>\n      <td>TA</td>\n      <td>2</td>\n      <td>2008</td>\n      <td>WD</td>\n      <td>Normal</td>\n      <td>208500</td>\n      <td>4</td>\n    </tr>\n    <tr>\n      <th>1</th>\n      <td>20</td>\n      <td>RL</td>\n      <td>80.0</td>\n      <td>9600</td>\n      <td>Pave</td>\n      <td>Reg</td>\n      <td>Lvl</td>\n      <td>AllPub</td>\n      <td>FR2</td>\n      <td>Gtl</td>\n      <td>...</td>\n      <td>Typ</td>\n      <td>460</td>\n      <td>TA</td>\n      <td>TA</td>\n      <td>5</td>\n      <td>2007</td>\n      <td>WD</td>\n      <td>Normal</td>\n      <td>181500</td>\n      <td>3</td>\n    </tr>\n    <tr>\n      <th>2</th>\n      <td>60</td>\n      <td>RL</td>\n      <td>68.0</td>\n      <td>11250</td>\n      <td>Pave</td>\n      <td>IR1</td>\n      <td>Lvl</td>\n      <td>AllPub</td>\n      <td>Inside</td>\n      <td>Gtl</td>\n      <td>...</td>\n      <td>Typ</td>\n      <td>608</td>\n      <td>TA</td>\n      <td>TA</td>\n      <td>9</td>\n      <td>2008</td>\n      <td>WD</td>\n      <td>Normal</td>\n      <td>223500</td>\n      <td>4</td>\n    </tr>\n    <tr>\n      <th>3</th>\n      <td>70</td>\n      <td>RL</td>\n      <td>60.0</td>\n      <td>9550</td>\n      <td>Pave</td>\n      <td>IR1</td>\n      <td>Lvl</td>\n      <td>AllPub</td>\n      <td>Corner</td>\n      <td>Gtl</td>\n      <td>...</td>\n      <td>Typ</td>\n      <td>642</td>\n      <td>TA</td>\n      <td>TA</td>\n      <td>2</td>\n      <td>2006</td>\n      <td>WD</td>\n      <td>Abnorml</td>\n      <td>140000</td>\n      <td>2</td>\n    </tr>\n    <tr>\n      <th>4</th>\n      <td>60</td>\n      <td>RL</td>\n      <td>84.0</td>\n      <td>14260</td>\n      <td>Pave</td>\n      <td>IR1</td>\n      <td>Lvl</td>\n      <td>AllPub</td>\n      <td>FR2</td>\n      <td>Gtl</td>\n      <td>...</td>\n      <td>Typ</td>\n      <td>836</td>\n      <td>TA</td>\n      <td>TA</td>\n      <td>12</td>\n      <td>2008</td>\n      <td>WD</td>\n      <td>Normal</td>\n      <td>250000</td>\n      <td>4</td>\n    </tr>\n    <tr>\n      <th>...</th>\n      <td>...</td>\n      <td>...</td>\n      <td>...</td>\n      <td>...</td>\n      <td>...</td>\n      <td>...</td>\n      <td>...</td>\n      <td>...</td>\n      <td>...</td>\n      <td>...</td>\n      <td>...</td>\n      <td>...</td>\n      <td>...</td>\n      <td>...</td>\n      <td>...</td>\n      <td>...</td>\n      <td>...</td>\n      <td>...</td>\n      <td>...</td>\n      <td>...</td>\n      <td>...</td>\n    </tr>\n    <tr>\n      <th>1455</th>\n      <td>60</td>\n      <td>RL</td>\n      <td>62.0</td>\n      <td>7917</td>\n      <td>Pave</td>\n      <td>Reg</td>\n      <td>Lvl</td>\n      <td>AllPub</td>\n      <td>Inside</td>\n      <td>Gtl</td>\n      <td>...</td>\n      <td>Typ</td>\n      <td>460</td>\n      <td>TA</td>\n      <td>TA</td>\n      <td>8</td>\n      <td>2007</td>\n      <td>WD</td>\n      <td>Normal</td>\n      <td>175000</td>\n      <td>3</td>\n    </tr>\n    <tr>\n      <th>1456</th>\n      <td>20</td>\n      <td>RL</td>\n      <td>85.0</td>\n      <td>13175</td>\n      <td>Pave</td>\n      <td>Reg</td>\n      <td>Lvl</td>\n      <td>AllPub</td>\n      <td>Inside</td>\n      <td>Gtl</td>\n      <td>...</td>\n      <td>Min1</td>\n      <td>500</td>\n      <td>TA</td>\n      <td>TA</td>\n      <td>2</td>\n      <td>2010</td>\n      <td>WD</td>\n      <td>Normal</td>\n      <td>210000</td>\n      <td>3</td>\n    </tr>\n    <tr>\n      <th>1457</th>\n      <td>70</td>\n      <td>RL</td>\n      <td>66.0</td>\n      <td>9042</td>\n      <td>Pave</td>\n      <td>Reg</td>\n      <td>Lvl</td>\n      <td>AllPub</td>\n      <td>Inside</td>\n      <td>Gtl</td>\n      <td>...</td>\n      <td>Typ</td>\n      <td>252</td>\n      <td>TA</td>\n      <td>TA</td>\n      <td>5</td>\n      <td>2010</td>\n      <td>WD</td>\n      <td>Normal</td>\n      <td>266500</td>\n      <td>2</td>\n    </tr>\n    <tr>\n      <th>1458</th>\n      <td>20</td>\n      <td>RL</td>\n      <td>68.0</td>\n      <td>9717</td>\n      <td>Pave</td>\n      <td>Reg</td>\n      <td>Lvl</td>\n      <td>AllPub</td>\n      <td>Inside</td>\n      <td>Gtl</td>\n      <td>...</td>\n      <td>Typ</td>\n      <td>240</td>\n      <td>TA</td>\n      <td>TA</td>\n      <td>4</td>\n      <td>2010</td>\n      <td>WD</td>\n      <td>Normal</td>\n      <td>142125</td>\n      <td>2</td>\n    </tr>\n    <tr>\n      <th>1459</th>\n      <td>20</td>\n      <td>RL</td>\n      <td>75.0</td>\n      <td>9937</td>\n      <td>Pave</td>\n      <td>Reg</td>\n      <td>Lvl</td>\n      <td>AllPub</td>\n      <td>Inside</td>\n      <td>Gtl</td>\n      <td>...</td>\n      <td>Typ</td>\n      <td>276</td>\n      <td>TA</td>\n      <td>TA</td>\n      <td>6</td>\n      <td>2008</td>\n      <td>WD</td>\n      <td>Normal</td>\n      <td>147500</td>\n      <td>3</td>\n    </tr>\n  </tbody>\n</table>\n<p>1460 rows × 46 columns</p>\n</div>"
     },
     "execution_count": 59,
     "metadata": {},
     "output_type": "execute_result"
    }
   ],
   "source": [
    "data['bathrooms'] = data[[\"BsmtFullBath\", \"BsmtHalfBath\", \"FullBath\", \"HalfBath\"]].sum(axis=1)\n",
    "data.drop([\"BsmtFullBath\", \"BsmtHalfBath\", \"FullBath\", \"HalfBath\"], axis=1)\n"
   ],
   "metadata": {
    "collapsed": false
   }
  },
  {
   "cell_type": "code",
   "execution_count": 61,
   "outputs": [
    {
     "name": "stdout",
     "output_type": "stream",
     "text": [
      "<class 'pandas.core.frame.DataFrame'>\n",
      "RangeIndex: 1460 entries, 0 to 1459\n",
      "Data columns (total 50 columns):\n",
      " #   Column         Non-Null Count  Dtype  \n",
      "---  ------         --------------  -----  \n",
      " 0   MSSubClass     1460 non-null   int64  \n",
      " 1   MSZoning       1460 non-null   object \n",
      " 2   LotFrontage    1201 non-null   float64\n",
      " 3   LotArea        1460 non-null   int64  \n",
      " 4   Street         1460 non-null   object \n",
      " 5   LotShape       1460 non-null   object \n",
      " 6   LandContour    1460 non-null   object \n",
      " 7   Utilities      1460 non-null   object \n",
      " 8   LotConfig      1460 non-null   object \n",
      " 9   LandSlope      1460 non-null   object \n",
      " 10  Neighborhood   1460 non-null   object \n",
      " 11  BldgType       1460 non-null   object \n",
      " 12  HouseStyle     1460 non-null   object \n",
      " 13  OverallQual    1460 non-null   int64  \n",
      " 14  OverallCond    1460 non-null   int64  \n",
      " 15  YearBuilt      1460 non-null   int64  \n",
      " 16  YearRemodAdd   1460 non-null   int64  \n",
      " 17  RoofStyle      1460 non-null   object \n",
      " 18  RoofMatl       1460 non-null   object \n",
      " 19  ExterQual      1460 non-null   object \n",
      " 20  ExterCond      1460 non-null   object \n",
      " 21  Foundation     1460 non-null   object \n",
      " 22  BsmtQual       1423 non-null   object \n",
      " 23  BsmtCond       1423 non-null   object \n",
      " 24  BsmtExposure   1422 non-null   object \n",
      " 25  BsmtUnfSF      1460 non-null   int64  \n",
      " 26  TotalBsmtSF    1460 non-null   int64  \n",
      " 27  Heating        1460 non-null   object \n",
      " 28  HeatingQC      1460 non-null   object \n",
      " 29  CentralAir     1460 non-null   object \n",
      " 30  Electrical     1459 non-null   object \n",
      " 31  GrLivArea      1460 non-null   int64  \n",
      " 32  BsmtFullBath   1460 non-null   int64  \n",
      " 33  BsmtHalfBath   1460 non-null   int64  \n",
      " 34  FullBath       1460 non-null   int64  \n",
      " 35  HalfBath       1460 non-null   int64  \n",
      " 36  BedroomAbvGr   1460 non-null   int64  \n",
      " 37  KitchenAbvGr   1460 non-null   int64  \n",
      " 38  KitchenQual    1460 non-null   object \n",
      " 39  TotRmsAbvGrd   1460 non-null   int64  \n",
      " 40  Functional     1460 non-null   object \n",
      " 41  GarageArea     1460 non-null   int64  \n",
      " 42  GarageQual     1379 non-null   object \n",
      " 43  GarageCond     1379 non-null   object \n",
      " 44  MoSold         1460 non-null   int64  \n",
      " 45  YrSold         1460 non-null   int64  \n",
      " 46  SaleType       1460 non-null   object \n",
      " 47  SaleCondition  1460 non-null   object \n",
      " 48  SalePrice      1460 non-null   int64  \n",
      " 49  bathrooms      1460 non-null   int64  \n",
      "dtypes: float64(1), int64(21), object(28)\n",
      "memory usage: 570.4+ KB\n"
     ]
    }
   ],
   "source": [
    "data.info()"
   ],
   "metadata": {
    "collapsed": false
   }
  },
  {
   "cell_type": "code",
   "execution_count": null,
   "outputs": [],
   "source": [],
   "metadata": {
    "collapsed": false
   }
  }
 ],
 "metadata": {
  "kernelspec": {
   "display_name": "Python 3",
   "language": "python",
   "name": "python3"
  },
  "language_info": {
   "codemirror_mode": {
    "name": "ipython",
    "version": 2
   },
   "file_extension": ".py",
   "mimetype": "text/x-python",
   "name": "python",
   "nbconvert_exporter": "python",
   "pygments_lexer": "ipython2",
   "version": "2.7.6"
  }
 },
 "nbformat": 4,
 "nbformat_minor": 0
}
