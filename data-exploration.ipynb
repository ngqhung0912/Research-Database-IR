{
 "cells": [
  {
   "cell_type": "markdown",
   "source": [],
   "metadata": {
    "collapsed": false
   }
  },
  {
   "cell_type": "code",
   "execution_count": null,
   "metadata": {
    "collapsed": true
   },
   "outputs": [],
   "source": [
    "import pandas as pd\n",
    "import matplotlib.pyplot as plt\n",
    "import numpy as np\n",
    "from sklearn.tree import DecisionTreeClassifier\n",
    "from sklearn import datasets, model_selection\n",
    "from sklearn.ensemble import RandomForestClassifier\n",
    "import seaborn as sns"
   ]
  },
  {
   "cell_type": "code",
   "execution_count": null,
   "outputs": [],
   "source": [
    "data = pd.read_csv(\"data/train.csv\")"
   ],
   "metadata": {
    "collapsed": false
   }
  },
  {
   "cell_type": "code",
   "execution_count": null,
   "outputs": [],
   "source": [
    "'''\n",
    "Drop unused features.\n",
    "'''\n",
    "\n",
    "data = data.drop([\"Condition1\", \"Condition2\",\n",
    "                 \"MiscVal\", \"MiscFeature\", \"GarageYrBlt\",\n",
    "                 \"GarageCars\", \"GarageFinish\", \"GarageType\",\n",
    "                 \"Fireplaces\", \"FireplaceQu\", \"PavedDrive\", \"MasVnrArea\",\n",
    "                  \"MasVnrType\", \"1stFlrSF\", \"2ndFlrSF\", \"LowQualFinSF\",\n",
    "                  \"WoodDeckSF\", \"OpenPorchSF\", \"EnclosedPorch\", \"3SsnPorch\",\n",
    "                  \"ScreenPorch\", \"BsmtFinType1\", \"BsmtFinType2\",\n",
    "                  \"BsmtFinSF1\", \"BsmtFinSF2\", \"Id\", \"PoolQC\", \"Fence\",\n",
    "                  \"Alley\", \"PoolArea\", \"Exterior1st\", \"Exterior2nd\", \"Street\",\n",
    "                  \"BsmtExposure\", \"MoSold\", \"YrSold\", \"YearBuilt\", \"Heating\",\n",
    "                  \"SaleType\", \"SaleCondition\", \"GarageQual\", \"CentralAir\", \"Utilities\", \"BsmtQual\",\n",
    "                  \"Electrical\", \"BsmtCond\", \"GarageCond\", \"OverallCond\", \"KitchenAbvGr\", \"BedroomAbvGr\", \"BsmtUnfSF\"\n",
    "                  ], axis=1)\n"
   ],
   "metadata": {
    "collapsed": false
   }
  },
  {
   "cell_type": "code",
   "execution_count": null,
   "outputs": [],
   "source": [
    "'''\n",
    "summarize all bathrooms data into one.\n",
    "'''\n",
    "data['bathrooms'] = data[[\"BsmtFullBath\", \"BsmtHalfBath\", \"FullBath\", \"HalfBath\"]].sum(axis=1)\n",
    "data = data.drop([\"BsmtFullBath\", \"BsmtHalfBath\", \"FullBath\", \"HalfBath\"], axis=1)\n",
    "data.insert(0, 'bathrooms', data.pop('bathrooms'))"
   ],
   "metadata": {
    "collapsed": false
   }
  },
  {
   "cell_type": "code",
   "execution_count": null,
   "outputs": [],
   "source": [
    "'''\n",
    "Distribution of price\n",
    "'''\n",
    "plt.figure(figsize=(9, 8))\n",
    "sns.distplot(data['SalePrice'], color='g', bins=100, hist_kws={'alpha': 0.4});"
   ],
   "metadata": {
    "collapsed": false
   }
  },
  {
   "cell_type": "code",
   "execution_count": 5,
   "outputs": [
    {
     "name": "stdout",
     "output_type": "stream",
     "text": [
      "2    572\n",
      "3    477\n",
      "1    228\n",
      "4    172\n",
      "5      8\n",
      "6      3\n",
      "Name: bathrooms, dtype: int64\n",
      "20     536\n",
      "60     299\n",
      "50     144\n",
      "120     87\n",
      "30      69\n",
      "160     63\n",
      "70      60\n",
      "80      58\n",
      "90      52\n",
      "190     30\n",
      "85      20\n",
      "75      16\n",
      "45      12\n",
      "180     10\n",
      "40       4\n",
      "Name: MSSubClass, dtype: int64\n",
      "RL         1151\n",
      "RM          218\n",
      "FV           65\n",
      "RH           16\n",
      "C (all)      10\n",
      "Name: MSZoning, dtype: int64\n",
      "60.0     143\n",
      "70.0      70\n",
      "80.0      69\n",
      "50.0      57\n",
      "75.0      53\n",
      "        ... \n",
      "137.0      1\n",
      "141.0      1\n",
      "38.0       1\n",
      "140.0      1\n",
      "46.0       1\n",
      "Name: LotFrontage, Length: 110, dtype: int64\n",
      "7200     25\n",
      "9600     24\n",
      "6000     17\n",
      "9000     14\n",
      "8400     14\n",
      "         ..\n",
      "14601     1\n",
      "13682     1\n",
      "4058      1\n",
      "17104     1\n",
      "9717      1\n",
      "Name: LotArea, Length: 1073, dtype: int64\n",
      "Reg    925\n",
      "IR1    484\n",
      "IR2     41\n",
      "IR3     10\n",
      "Name: LotShape, dtype: int64\n",
      "Lvl    1311\n",
      "Bnk      63\n",
      "HLS      50\n",
      "Low      36\n",
      "Name: LandContour, dtype: int64\n",
      "Inside     1052\n",
      "Corner      263\n",
      "CulDSac      94\n",
      "FR2          47\n",
      "FR3           4\n",
      "Name: LotConfig, dtype: int64\n",
      "Gtl    1382\n",
      "Mod      65\n",
      "Sev      13\n",
      "Name: LandSlope, dtype: int64\n",
      "NAmes      225\n",
      "CollgCr    150\n",
      "OldTown    113\n",
      "Edwards    100\n",
      "Somerst     86\n",
      "Gilbert     79\n",
      "NridgHt     77\n",
      "Sawyer      74\n",
      "NWAmes      73\n",
      "SawyerW     59\n",
      "BrkSide     58\n",
      "Crawfor     51\n",
      "Mitchel     49\n",
      "NoRidge     41\n",
      "Timber      38\n",
      "IDOTRR      37\n",
      "ClearCr     28\n",
      "StoneBr     25\n",
      "SWISU       25\n",
      "MeadowV     17\n",
      "Blmngtn     17\n",
      "BrDale      16\n",
      "Veenker     11\n",
      "NPkVill      9\n",
      "Blueste      2\n",
      "Name: Neighborhood, dtype: int64\n",
      "1Fam      1220\n",
      "TwnhsE     114\n",
      "Duplex      52\n",
      "Twnhs       43\n",
      "2fmCon      31\n",
      "Name: BldgType, dtype: int64\n",
      "1Story    726\n",
      "2Story    445\n",
      "1.5Fin    154\n",
      "SLvl       65\n",
      "SFoyer     37\n",
      "1.5Unf     14\n",
      "2.5Unf     11\n",
      "2.5Fin      8\n",
      "Name: HouseStyle, dtype: int64\n",
      "5     397\n",
      "6     374\n",
      "7     319\n",
      "8     168\n",
      "4     116\n",
      "9      43\n",
      "3      20\n",
      "10     18\n",
      "2       3\n",
      "1       2\n",
      "Name: OverallQual, dtype: int64\n",
      "1950    178\n",
      "2006     97\n",
      "2007     76\n",
      "2005     73\n",
      "2004     62\n",
      "       ... \n",
      "2010      6\n",
      "1986      5\n",
      "1952      5\n",
      "1983      5\n",
      "1951      4\n",
      "Name: YearRemodAdd, Length: 61, dtype: int64\n",
      "Gable      1141\n",
      "Hip         286\n",
      "Flat         13\n",
      "Gambrel      11\n",
      "Mansard       7\n",
      "Shed          2\n",
      "Name: RoofStyle, dtype: int64\n",
      "CompShg    1434\n",
      "Tar&Grv      11\n",
      "WdShngl       6\n",
      "WdShake       5\n",
      "Metal         1\n",
      "Membran       1\n",
      "Roll          1\n",
      "ClyTile       1\n",
      "Name: RoofMatl, dtype: int64\n",
      "TA    906\n",
      "Gd    488\n",
      "Ex     52\n",
      "Fa     14\n",
      "Name: ExterQual, dtype: int64\n",
      "TA    1282\n",
      "Gd     146\n",
      "Fa      28\n",
      "Ex       3\n",
      "Po       1\n",
      "Name: ExterCond, dtype: int64\n",
      "PConc     647\n",
      "CBlock    634\n",
      "BrkTil    146\n",
      "Slab       24\n",
      "Stone       6\n",
      "Wood        3\n",
      "Name: Foundation, dtype: int64\n",
      "0       37\n",
      "864     35\n",
      "672     17\n",
      "912     15\n",
      "1040    14\n",
      "        ..\n",
      "1838     1\n",
      "1581     1\n",
      "707      1\n",
      "611      1\n",
      "1542     1\n",
      "Name: TotalBsmtSF, Length: 721, dtype: int64\n",
      "Ex    741\n",
      "TA    428\n",
      "Gd    241\n",
      "Fa     49\n",
      "Po      1\n",
      "Name: HeatingQC, dtype: int64\n",
      "864     22\n",
      "1040    14\n",
      "894     11\n",
      "1456    10\n",
      "848     10\n",
      "        ..\n",
      "2296     1\n",
      "1123     1\n",
      "1199     1\n",
      "1473     1\n",
      "1256     1\n",
      "Name: GrLivArea, Length: 861, dtype: int64\n",
      "TA    735\n",
      "Gd    586\n",
      "Ex    100\n",
      "Fa     39\n",
      "Name: KitchenQual, dtype: int64\n",
      "6     402\n",
      "7     329\n",
      "5     275\n",
      "8     187\n",
      "4      97\n",
      "9      75\n",
      "10     47\n",
      "11     18\n",
      "3      17\n",
      "12     11\n",
      "2       1\n",
      "14      1\n",
      "Name: TotRmsAbvGrd, dtype: int64\n",
      "Typ     1360\n",
      "Min2      34\n",
      "Min1      31\n",
      "Mod       15\n",
      "Maj1      14\n",
      "Maj2       5\n",
      "Sev        1\n",
      "Name: Functional, dtype: int64\n",
      "0      81\n",
      "440    49\n",
      "576    47\n",
      "240    38\n",
      "484    34\n",
      "       ..\n",
      "320     1\n",
      "594     1\n",
      "831     1\n",
      "878     1\n",
      "192     1\n",
      "Name: GarageArea, Length: 441, dtype: int64\n",
      "140000    20\n",
      "135000    17\n",
      "155000    14\n",
      "145000    14\n",
      "190000    13\n",
      "          ..\n",
      "202665     1\n",
      "164900     1\n",
      "208300     1\n",
      "181500     1\n",
      "147500     1\n",
      "Name: SalePrice, Length: 663, dtype: int64\n"
     ]
    }
   ],
   "source": [
    "for col in data.columns:\n",
    "    print(data[col].value_counts())"
   ],
   "metadata": {
    "collapsed": false
   }
  },
  {
   "cell_type": "code",
   "execution_count": 19,
   "outputs": [],
   "source": [
    "\"\"\"\n",
    "Get all numerical features\n",
    "\"\"\"\n",
    "data_num = data.select_dtypes(include = ['float64', 'int64']).drop([\"MSSubClass\"], axis=1)\n",
    "# df_num.hist(figsize=(16, 20), bins=50, xlabelsize=8, ylabelsize=8); # ; avoid having the matplotlib verbose information\n",
    "for col in data_num.columns:\n",
    "    data[col] = data[col].fillna(0)\n"
   ],
   "metadata": {
    "collapsed": false
   }
  },
  {
   "cell_type": "code",
   "execution_count": null,
   "outputs": [],
   "source": [
    "for i in range(0, len(data_num.columns), 5):\n",
    "    sns.pairplot(data=data_num,\n",
    "                x_vars=data_num.columns[i:i+5],\n",
    "                y_vars=['SalePrice'])"
   ],
   "metadata": {
    "collapsed": false
   }
  },
  {
   "cell_type": "code",
   "execution_count": null,
   "outputs": [],
   "source": [
    "'''\n",
    "Remove outliers\n",
    "'''\n",
    "data = data[data[\"LotFrontage\"] < 200]\n",
    "data = data[data[\"LotArea\"] < 100000]\n",
    "data = data[data[\"TotalBsmtSF\"] < 4000]\n",
    "data = data[data[\"GrLivArea\"] < 4000]\n",
    "data.describe()"
   ],
   "metadata": {
    "collapsed": false
   }
  },
  {
   "cell_type": "code",
   "execution_count": 20,
   "outputs": [
    {
     "name": "stdout",
     "output_type": "stream",
     "text": [
      "Correlation:\n",
      "OverallQual     0.790982\n",
      "GrLivArea       0.708624\n",
      "GarageArea      0.623431\n",
      "TotalBsmtSF     0.613581\n",
      "bathrooms       0.613005\n",
      "TotRmsAbvGrd    0.533723\n",
      "YearRemodAdd    0.507101\n",
      "LotFrontage     0.351799\n",
      "LotArea         0.263843\n",
      "Name: SalePrice, dtype: float64\n"
     ]
    }
   ],
   "source": [
    "data_num_corr = data_num.corr()['SalePrice'][:-1] # -1 because the latest row is SalePrice\n",
    "golden_features_list = data_num_corr[abs(data_num_corr) > -100].sort_values(ascending=False)\n",
    "print(\"Correlation:\\n{}\".format(golden_features_list))"
   ],
   "metadata": {
    "collapsed": false
   }
  },
  {
   "cell_type": "code",
   "execution_count": 6,
   "outputs": [
    {
     "data": {
      "text/plain": "     MSZoning LotShape LandContour LotConfig LandSlope Neighborhood BldgType  \\\n0          RL      Reg         Lvl    Inside       Gtl      CollgCr     1Fam   \n1          RL      Reg         Lvl       FR2       Gtl      Veenker     1Fam   \n2          RL      IR1         Lvl    Inside       Gtl      CollgCr     1Fam   \n3          RL      IR1         Lvl    Corner       Gtl      Crawfor     1Fam   \n4          RL      IR1         Lvl       FR2       Gtl      NoRidge     1Fam   \n...       ...      ...         ...       ...       ...          ...      ...   \n1455       RL      Reg         Lvl    Inside       Gtl      Gilbert     1Fam   \n1456       RL      Reg         Lvl    Inside       Gtl       NWAmes     1Fam   \n1457       RL      Reg         Lvl    Inside       Gtl      Crawfor     1Fam   \n1458       RL      Reg         Lvl    Inside       Gtl        NAmes     1Fam   \n1459       RL      Reg         Lvl    Inside       Gtl      Edwards     1Fam   \n\n     HouseStyle RoofStyle RoofMatl ExterQual ExterCond Foundation HeatingQC  \\\n0        2Story     Gable  CompShg        Gd        TA      PConc        Ex   \n1        1Story     Gable  CompShg        TA        TA     CBlock        Ex   \n2        2Story     Gable  CompShg        Gd        TA      PConc        Ex   \n3        2Story     Gable  CompShg        TA        TA     BrkTil        Gd   \n4        2Story     Gable  CompShg        Gd        TA      PConc        Ex   \n...         ...       ...      ...       ...       ...        ...       ...   \n1455     2Story     Gable  CompShg        TA        TA      PConc        Ex   \n1456     1Story     Gable  CompShg        TA        TA     CBlock        TA   \n1457     2Story     Gable  CompShg        Ex        Gd      Stone        Ex   \n1458     1Story       Hip  CompShg        TA        TA     CBlock        Gd   \n1459     1Story     Gable  CompShg        Gd        TA     CBlock        Gd   \n\n     KitchenQual Functional  \n0             Gd        Typ  \n1             TA        Typ  \n2             Gd        Typ  \n3             Gd        Typ  \n4             Gd        Typ  \n...          ...        ...  \n1455          TA        Typ  \n1456          TA       Min1  \n1457          Gd        Typ  \n1458          Gd        Typ  \n1459          TA        Typ  \n\n[1460 rows x 16 columns]",
      "text/html": "<div>\n<style scoped>\n    .dataframe tbody tr th:only-of-type {\n        vertical-align: middle;\n    }\n\n    .dataframe tbody tr th {\n        vertical-align: top;\n    }\n\n    .dataframe thead th {\n        text-align: right;\n    }\n</style>\n<table border=\"1\" class=\"dataframe\">\n  <thead>\n    <tr style=\"text-align: right;\">\n      <th></th>\n      <th>MSZoning</th>\n      <th>LotShape</th>\n      <th>LandContour</th>\n      <th>LotConfig</th>\n      <th>LandSlope</th>\n      <th>Neighborhood</th>\n      <th>BldgType</th>\n      <th>HouseStyle</th>\n      <th>RoofStyle</th>\n      <th>RoofMatl</th>\n      <th>ExterQual</th>\n      <th>ExterCond</th>\n      <th>Foundation</th>\n      <th>HeatingQC</th>\n      <th>KitchenQual</th>\n      <th>Functional</th>\n    </tr>\n  </thead>\n  <tbody>\n    <tr>\n      <th>0</th>\n      <td>RL</td>\n      <td>Reg</td>\n      <td>Lvl</td>\n      <td>Inside</td>\n      <td>Gtl</td>\n      <td>CollgCr</td>\n      <td>1Fam</td>\n      <td>2Story</td>\n      <td>Gable</td>\n      <td>CompShg</td>\n      <td>Gd</td>\n      <td>TA</td>\n      <td>PConc</td>\n      <td>Ex</td>\n      <td>Gd</td>\n      <td>Typ</td>\n    </tr>\n    <tr>\n      <th>1</th>\n      <td>RL</td>\n      <td>Reg</td>\n      <td>Lvl</td>\n      <td>FR2</td>\n      <td>Gtl</td>\n      <td>Veenker</td>\n      <td>1Fam</td>\n      <td>1Story</td>\n      <td>Gable</td>\n      <td>CompShg</td>\n      <td>TA</td>\n      <td>TA</td>\n      <td>CBlock</td>\n      <td>Ex</td>\n      <td>TA</td>\n      <td>Typ</td>\n    </tr>\n    <tr>\n      <th>2</th>\n      <td>RL</td>\n      <td>IR1</td>\n      <td>Lvl</td>\n      <td>Inside</td>\n      <td>Gtl</td>\n      <td>CollgCr</td>\n      <td>1Fam</td>\n      <td>2Story</td>\n      <td>Gable</td>\n      <td>CompShg</td>\n      <td>Gd</td>\n      <td>TA</td>\n      <td>PConc</td>\n      <td>Ex</td>\n      <td>Gd</td>\n      <td>Typ</td>\n    </tr>\n    <tr>\n      <th>3</th>\n      <td>RL</td>\n      <td>IR1</td>\n      <td>Lvl</td>\n      <td>Corner</td>\n      <td>Gtl</td>\n      <td>Crawfor</td>\n      <td>1Fam</td>\n      <td>2Story</td>\n      <td>Gable</td>\n      <td>CompShg</td>\n      <td>TA</td>\n      <td>TA</td>\n      <td>BrkTil</td>\n      <td>Gd</td>\n      <td>Gd</td>\n      <td>Typ</td>\n    </tr>\n    <tr>\n      <th>4</th>\n      <td>RL</td>\n      <td>IR1</td>\n      <td>Lvl</td>\n      <td>FR2</td>\n      <td>Gtl</td>\n      <td>NoRidge</td>\n      <td>1Fam</td>\n      <td>2Story</td>\n      <td>Gable</td>\n      <td>CompShg</td>\n      <td>Gd</td>\n      <td>TA</td>\n      <td>PConc</td>\n      <td>Ex</td>\n      <td>Gd</td>\n      <td>Typ</td>\n    </tr>\n    <tr>\n      <th>...</th>\n      <td>...</td>\n      <td>...</td>\n      <td>...</td>\n      <td>...</td>\n      <td>...</td>\n      <td>...</td>\n      <td>...</td>\n      <td>...</td>\n      <td>...</td>\n      <td>...</td>\n      <td>...</td>\n      <td>...</td>\n      <td>...</td>\n      <td>...</td>\n      <td>...</td>\n      <td>...</td>\n    </tr>\n    <tr>\n      <th>1455</th>\n      <td>RL</td>\n      <td>Reg</td>\n      <td>Lvl</td>\n      <td>Inside</td>\n      <td>Gtl</td>\n      <td>Gilbert</td>\n      <td>1Fam</td>\n      <td>2Story</td>\n      <td>Gable</td>\n      <td>CompShg</td>\n      <td>TA</td>\n      <td>TA</td>\n      <td>PConc</td>\n      <td>Ex</td>\n      <td>TA</td>\n      <td>Typ</td>\n    </tr>\n    <tr>\n      <th>1456</th>\n      <td>RL</td>\n      <td>Reg</td>\n      <td>Lvl</td>\n      <td>Inside</td>\n      <td>Gtl</td>\n      <td>NWAmes</td>\n      <td>1Fam</td>\n      <td>1Story</td>\n      <td>Gable</td>\n      <td>CompShg</td>\n      <td>TA</td>\n      <td>TA</td>\n      <td>CBlock</td>\n      <td>TA</td>\n      <td>TA</td>\n      <td>Min1</td>\n    </tr>\n    <tr>\n      <th>1457</th>\n      <td>RL</td>\n      <td>Reg</td>\n      <td>Lvl</td>\n      <td>Inside</td>\n      <td>Gtl</td>\n      <td>Crawfor</td>\n      <td>1Fam</td>\n      <td>2Story</td>\n      <td>Gable</td>\n      <td>CompShg</td>\n      <td>Ex</td>\n      <td>Gd</td>\n      <td>Stone</td>\n      <td>Ex</td>\n      <td>Gd</td>\n      <td>Typ</td>\n    </tr>\n    <tr>\n      <th>1458</th>\n      <td>RL</td>\n      <td>Reg</td>\n      <td>Lvl</td>\n      <td>Inside</td>\n      <td>Gtl</td>\n      <td>NAmes</td>\n      <td>1Fam</td>\n      <td>1Story</td>\n      <td>Hip</td>\n      <td>CompShg</td>\n      <td>TA</td>\n      <td>TA</td>\n      <td>CBlock</td>\n      <td>Gd</td>\n      <td>Gd</td>\n      <td>Typ</td>\n    </tr>\n    <tr>\n      <th>1459</th>\n      <td>RL</td>\n      <td>Reg</td>\n      <td>Lvl</td>\n      <td>Inside</td>\n      <td>Gtl</td>\n      <td>Edwards</td>\n      <td>1Fam</td>\n      <td>1Story</td>\n      <td>Gable</td>\n      <td>CompShg</td>\n      <td>Gd</td>\n      <td>TA</td>\n      <td>CBlock</td>\n      <td>Gd</td>\n      <td>TA</td>\n      <td>Typ</td>\n    </tr>\n  </tbody>\n</table>\n<p>1460 rows × 16 columns</p>\n</div>"
     },
     "execution_count": 6,
     "metadata": {},
     "output_type": "execute_result"
    }
   ],
   "source": [
    "\"\"\"\n",
    "Deal with categorical data\n",
    "\"\"\"\n",
    "df_cat = data.select_dtypes(include = ['object'])\n",
    "\n",
    "# df_cat['MSSubClass'] = data['MSSubClass']\n",
    "#\n",
    "# categorical_col = df_cat.columns\n",
    "# for col in categorical_col:\n",
    "#     data[col] = data[col].fillna(\"NA\")\n",
    "#     data[col] = data[col].astype(\"category\")\n"
   ],
   "metadata": {
    "collapsed": false
   }
  },
  {
   "cell_type": "code",
   "execution_count": 8,
   "outputs": [
    {
     "data": {
      "text/plain": "     MSZoning LotShape LandContour LotConfig LandSlope Neighborhood BldgType  \\\n0          RL      Reg         Lvl    Inside       Gtl      CollgCr     1Fam   \n1          RL      Reg         Lvl       FR2       Gtl      Veenker     1Fam   \n2          RL      IR1         Lvl    Inside       Gtl      CollgCr     1Fam   \n3          RL      IR1         Lvl    Corner       Gtl      Crawfor     1Fam   \n4          RL      IR1         Lvl       FR2       Gtl      NoRidge     1Fam   \n...       ...      ...         ...       ...       ...          ...      ...   \n1455       RL      Reg         Lvl    Inside       Gtl      Gilbert     1Fam   \n1456       RL      Reg         Lvl    Inside       Gtl       NWAmes     1Fam   \n1457       RL      Reg         Lvl    Inside       Gtl      Crawfor     1Fam   \n1458       RL      Reg         Lvl    Inside       Gtl        NAmes     1Fam   \n1459       RL      Reg         Lvl    Inside       Gtl      Edwards     1Fam   \n\n     HouseStyle RoofStyle RoofMatl ExterQual ExterCond Foundation HeatingQC  \\\n0        2Story     Gable  CompShg        Gd        TA      PConc        Ex   \n1        1Story     Gable  CompShg        TA        TA     CBlock        Ex   \n2        2Story     Gable  CompShg        Gd        TA      PConc        Ex   \n3        2Story     Gable  CompShg        TA        TA     BrkTil        Gd   \n4        2Story     Gable  CompShg        Gd        TA      PConc        Ex   \n...         ...       ...      ...       ...       ...        ...       ...   \n1455     2Story     Gable  CompShg        TA        TA      PConc        Ex   \n1456     1Story     Gable  CompShg        TA        TA     CBlock        TA   \n1457     2Story     Gable  CompShg        Ex        Gd      Stone        Ex   \n1458     1Story       Hip  CompShg        TA        TA     CBlock        Gd   \n1459     1Story     Gable  CompShg        Gd        TA     CBlock        Gd   \n\n     KitchenQual Functional  \n0             Gd        Typ  \n1             TA        Typ  \n2             Gd        Typ  \n3             Gd        Typ  \n4             Gd        Typ  \n...          ...        ...  \n1455          TA        Typ  \n1456          TA       Min1  \n1457          Gd        Typ  \n1458          Gd        Typ  \n1459          TA        Typ  \n\n[1460 rows x 16 columns]",
      "text/html": "<div>\n<style scoped>\n    .dataframe tbody tr th:only-of-type {\n        vertical-align: middle;\n    }\n\n    .dataframe tbody tr th {\n        vertical-align: top;\n    }\n\n    .dataframe thead th {\n        text-align: right;\n    }\n</style>\n<table border=\"1\" class=\"dataframe\">\n  <thead>\n    <tr style=\"text-align: right;\">\n      <th></th>\n      <th>MSZoning</th>\n      <th>LotShape</th>\n      <th>LandContour</th>\n      <th>LotConfig</th>\n      <th>LandSlope</th>\n      <th>Neighborhood</th>\n      <th>BldgType</th>\n      <th>HouseStyle</th>\n      <th>RoofStyle</th>\n      <th>RoofMatl</th>\n      <th>ExterQual</th>\n      <th>ExterCond</th>\n      <th>Foundation</th>\n      <th>HeatingQC</th>\n      <th>KitchenQual</th>\n      <th>Functional</th>\n    </tr>\n  </thead>\n  <tbody>\n    <tr>\n      <th>0</th>\n      <td>RL</td>\n      <td>Reg</td>\n      <td>Lvl</td>\n      <td>Inside</td>\n      <td>Gtl</td>\n      <td>CollgCr</td>\n      <td>1Fam</td>\n      <td>2Story</td>\n      <td>Gable</td>\n      <td>CompShg</td>\n      <td>Gd</td>\n      <td>TA</td>\n      <td>PConc</td>\n      <td>Ex</td>\n      <td>Gd</td>\n      <td>Typ</td>\n    </tr>\n    <tr>\n      <th>1</th>\n      <td>RL</td>\n      <td>Reg</td>\n      <td>Lvl</td>\n      <td>FR2</td>\n      <td>Gtl</td>\n      <td>Veenker</td>\n      <td>1Fam</td>\n      <td>1Story</td>\n      <td>Gable</td>\n      <td>CompShg</td>\n      <td>TA</td>\n      <td>TA</td>\n      <td>CBlock</td>\n      <td>Ex</td>\n      <td>TA</td>\n      <td>Typ</td>\n    </tr>\n    <tr>\n      <th>2</th>\n      <td>RL</td>\n      <td>IR1</td>\n      <td>Lvl</td>\n      <td>Inside</td>\n      <td>Gtl</td>\n      <td>CollgCr</td>\n      <td>1Fam</td>\n      <td>2Story</td>\n      <td>Gable</td>\n      <td>CompShg</td>\n      <td>Gd</td>\n      <td>TA</td>\n      <td>PConc</td>\n      <td>Ex</td>\n      <td>Gd</td>\n      <td>Typ</td>\n    </tr>\n    <tr>\n      <th>3</th>\n      <td>RL</td>\n      <td>IR1</td>\n      <td>Lvl</td>\n      <td>Corner</td>\n      <td>Gtl</td>\n      <td>Crawfor</td>\n      <td>1Fam</td>\n      <td>2Story</td>\n      <td>Gable</td>\n      <td>CompShg</td>\n      <td>TA</td>\n      <td>TA</td>\n      <td>BrkTil</td>\n      <td>Gd</td>\n      <td>Gd</td>\n      <td>Typ</td>\n    </tr>\n    <tr>\n      <th>4</th>\n      <td>RL</td>\n      <td>IR1</td>\n      <td>Lvl</td>\n      <td>FR2</td>\n      <td>Gtl</td>\n      <td>NoRidge</td>\n      <td>1Fam</td>\n      <td>2Story</td>\n      <td>Gable</td>\n      <td>CompShg</td>\n      <td>Gd</td>\n      <td>TA</td>\n      <td>PConc</td>\n      <td>Ex</td>\n      <td>Gd</td>\n      <td>Typ</td>\n    </tr>\n    <tr>\n      <th>...</th>\n      <td>...</td>\n      <td>...</td>\n      <td>...</td>\n      <td>...</td>\n      <td>...</td>\n      <td>...</td>\n      <td>...</td>\n      <td>...</td>\n      <td>...</td>\n      <td>...</td>\n      <td>...</td>\n      <td>...</td>\n      <td>...</td>\n      <td>...</td>\n      <td>...</td>\n      <td>...</td>\n    </tr>\n    <tr>\n      <th>1455</th>\n      <td>RL</td>\n      <td>Reg</td>\n      <td>Lvl</td>\n      <td>Inside</td>\n      <td>Gtl</td>\n      <td>Gilbert</td>\n      <td>1Fam</td>\n      <td>2Story</td>\n      <td>Gable</td>\n      <td>CompShg</td>\n      <td>TA</td>\n      <td>TA</td>\n      <td>PConc</td>\n      <td>Ex</td>\n      <td>TA</td>\n      <td>Typ</td>\n    </tr>\n    <tr>\n      <th>1456</th>\n      <td>RL</td>\n      <td>Reg</td>\n      <td>Lvl</td>\n      <td>Inside</td>\n      <td>Gtl</td>\n      <td>NWAmes</td>\n      <td>1Fam</td>\n      <td>1Story</td>\n      <td>Gable</td>\n      <td>CompShg</td>\n      <td>TA</td>\n      <td>TA</td>\n      <td>CBlock</td>\n      <td>TA</td>\n      <td>TA</td>\n      <td>Min1</td>\n    </tr>\n    <tr>\n      <th>1457</th>\n      <td>RL</td>\n      <td>Reg</td>\n      <td>Lvl</td>\n      <td>Inside</td>\n      <td>Gtl</td>\n      <td>Crawfor</td>\n      <td>1Fam</td>\n      <td>2Story</td>\n      <td>Gable</td>\n      <td>CompShg</td>\n      <td>Ex</td>\n      <td>Gd</td>\n      <td>Stone</td>\n      <td>Ex</td>\n      <td>Gd</td>\n      <td>Typ</td>\n    </tr>\n    <tr>\n      <th>1458</th>\n      <td>RL</td>\n      <td>Reg</td>\n      <td>Lvl</td>\n      <td>Inside</td>\n      <td>Gtl</td>\n      <td>NAmes</td>\n      <td>1Fam</td>\n      <td>1Story</td>\n      <td>Hip</td>\n      <td>CompShg</td>\n      <td>TA</td>\n      <td>TA</td>\n      <td>CBlock</td>\n      <td>Gd</td>\n      <td>Gd</td>\n      <td>Typ</td>\n    </tr>\n    <tr>\n      <th>1459</th>\n      <td>RL</td>\n      <td>Reg</td>\n      <td>Lvl</td>\n      <td>Inside</td>\n      <td>Gtl</td>\n      <td>Edwards</td>\n      <td>1Fam</td>\n      <td>1Story</td>\n      <td>Gable</td>\n      <td>CompShg</td>\n      <td>Gd</td>\n      <td>TA</td>\n      <td>CBlock</td>\n      <td>Gd</td>\n      <td>TA</td>\n      <td>Typ</td>\n    </tr>\n  </tbody>\n</table>\n<p>1460 rows × 16 columns</p>\n</div>"
     },
     "execution_count": 8,
     "metadata": {},
     "output_type": "execute_result"
    }
   ],
   "source": [
    "df_cat\n"
   ],
   "metadata": {
    "collapsed": false
   }
  },
  {
   "cell_type": "code",
   "execution_count": 21,
   "outputs": [
    {
     "data": {
      "text/plain": "['Ex', 'Gd', 'TA', 'Fa', 'Po']"
     },
     "execution_count": 21,
     "metadata": {},
     "output_type": "execute_result"
    }
   ],
   "source": [
    "\"\"\"\n",
    "Ordinal: HeatingQC, LotShape, LandContour, LandSlope, ExterQual, ExterCond, HeatingQC, KitchenQual, Functional\n",
    "Nominal: LotConfig, Neighborhood, HouseStyle, RoofStyle, RoofMatl, Foundation, MSZoning, BldgType\n",
    "\"\"\"\n",
    "from collections import Counter\n",
    "\n",
    "data_cat_col_dict = {}\n",
    "for col in df_cat.columns:\n",
    "    data_cat_col_dict[col] = list(Counter(data[col]))\n",
    "\n",
    "data_cat_col_dict[\"HeatingQC\"]\n"
   ],
   "metadata": {
    "collapsed": false
   }
  },
  {
   "cell_type": "code",
   "execution_count": 7,
   "outputs": [
    {
     "data": {
      "text/plain": "bathrooms         0\nMSSubClass        0\nMSZoning          0\nLotFrontage     259\nLotArea           0\nLotShape          0\nLandContour       0\nLotConfig         0\nLandSlope         0\nNeighborhood      0\nBldgType          0\nHouseStyle        0\nOverallQual       0\nYearRemodAdd      0\nRoofStyle         0\nRoofMatl          0\nExterQual         0\nExterCond         0\nFoundation        0\nTotalBsmtSF       0\nHeatingQC         0\nGrLivArea         0\nKitchenQual       0\nTotRmsAbvGrd      0\nFunctional        0\nGarageArea        0\nSalePrice         0\ndtype: int64"
     },
     "execution_count": 7,
     "metadata": {},
     "output_type": "execute_result"
    }
   ],
   "source": [
    "data.isna().sum()"
   ],
   "metadata": {
    "collapsed": false
   }
  },
  {
   "cell_type": "code",
   "execution_count": null,
   "outputs": [],
   "source": [
    "# from collections import Counter\n",
    "#\n",
    "# Counter(data[\"GarageCond\"])"
   ],
   "metadata": {
    "collapsed": false
   }
  },
  {
   "cell_type": "code",
   "execution_count": null,
   "outputs": [],
   "source": [
    "corr = data.drop('SalePrice', axis=1).corr() # We already examined SalePrice correlations\n",
    "plt.figure(figsize=(12, 10))\n",
    "\n",
    "sns.heatmap(corr[(corr >= 0.5) | (corr <= -2)],\n",
    "            cmap='viridis', vmax=1.0, vmin=-1.0, linewidths=0.1,\n",
    "            annot=True, annot_kws={\"size\": 8}, square=True);"
   ],
   "metadata": {
    "collapsed": false
   }
  },
  {
   "cell_type": "code",
   "execution_count": null,
   "outputs": [],
   "source": [
    "from sklearn.tree import DecisionTreeRegressor, plot_tree\n",
    "from sklearn.compose import ColumnTransformer\n",
    "from sklearn.pipeline import Pipeline\n",
    "from sklearn.impute import SimpleImputer\n",
    "from sklearn.preprocessing import StandardScaler, OneHotEncoder\n",
    "from sklearn.model_selection import train_test_split\n",
    "from sklearn.feature_selection import SelectPercentile, chi2\n",
    "\n",
    "data_num = data_num.drop(['SalePrice'], axis=1, errors='ignore')\n",
    "# data = data.drop(\"MSSubClass\", axis=1)\n",
    "for col in data_num:\n",
    "    data[col] = (data[col] - data[col].min()) / (data[col].max() - data[col].min())\n",
    "data_cat = data.select_dtypes(include = ['category'])\n",
    "numeric_transformer = Pipeline(\n",
    "    steps=[\n",
    "        (\"imputer\", SimpleImputer(missing_values=np.nan, strategy=\"median\")),\n",
    "        (\"scaler\", StandardScaler())\n",
    "    ]\n",
    ")\n",
    "categorical_nominal_transformer = Pipeline(\n",
    "    steps=[\n",
    "        # (\"imputer\", SimpleImputer(missing_values=np.nan, strategy=\"most_frequent\")),\n",
    "        (\"encoder\", OneHotEncoder(handle_unknown=\"ignore\")),\n",
    "        (\"selector\", SelectPercentile(chi2, percentile=50)),\n",
    "    ]\n",
    ")\n",
    "\n",
    "categorical_ordinal_transformer = Pipeline(\n",
    "    steps=[\n",
    "        # (\"imputer\", SimpleImputer(missing_values=np.nan, strategy=\"most_frequent\")),\n",
    "        (\"encoder\", OneHotEncoder(handle_unknown=\"ignore\")),\n",
    "        (\"selector\", SelectPercentile(chi2, percentile=50)),\n",
    "    ]\n",
    ")\n",
    "\n",
    "\n",
    "preprocessor = ColumnTransformer(\n",
    "    transformers=[\n",
    "        (\"num\", numeric_transformer, data_num.columns),\n",
    "        (\"cat\", categorical_transformer, data_cat.columns\n",
    "\n",
    "),\n",
    "    ]\n",
    ")\n",
    "clf = Pipeline(\n",
    "    steps=[(\"preprocessor\", preprocessor), (\"regression\", DecisionTreeRegressor())]\n",
    ")\n",
    "\n",
    "\n"
   ],
   "metadata": {
    "collapsed": false
   }
  },
  {
   "cell_type": "code",
   "execution_count": null,
   "outputs": [],
   "source": [
    "y = data['SalePrice']\n",
    "X = data.drop(['SalePrice'], axis=1)\n",
    "X_train, X_test, y_train, y_test = train_test_split(X, y, test_size=0.3)"
   ],
   "metadata": {
    "collapsed": false
   }
  },
  {
   "cell_type": "code",
   "execution_count": null,
   "outputs": [],
   "source": [
    "clf.fit(X_train, y_train)"
   ],
   "metadata": {
    "collapsed": false
   }
  },
  {
   "cell_type": "code",
   "execution_count": null,
   "outputs": [],
   "source": [
    "clf.score(X_test, y_test)"
   ],
   "metadata": {
    "collapsed": false
   }
  },
  {
   "cell_type": "code",
   "execution_count": null,
   "outputs": [],
   "source": [
    "fig = plt.figure(figsize=(16, 8))\n",
    "vis = plot_tree(clf, feature_names = data.columns, fontsize=9, proportion=True, filled=True, rounded=True)"
   ],
   "metadata": {
    "collapsed": false
   }
  },
  {
   "cell_type": "code",
   "execution_count": null,
   "outputs": [],
   "source": [],
   "metadata": {
    "collapsed": false
   }
  }
 ],
 "metadata": {
  "kernelspec": {
   "display_name": "Python 3",
   "language": "python",
   "name": "python3"
  },
  "language_info": {
   "codemirror_mode": {
    "name": "ipython",
    "version": 2
   },
   "file_extension": ".py",
   "mimetype": "text/x-python",
   "name": "python",
   "nbconvert_exporter": "python",
   "pygments_lexer": "ipython2",
   "version": "2.7.6"
  }
 },
 "nbformat": 4,
 "nbformat_minor": 0
}
