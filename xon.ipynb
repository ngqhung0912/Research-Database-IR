{
 "cells": [
  {
   "cell_type": "code",
   "execution_count": 4,
   "metadata": {
    "collapsed": true,
    "ExecuteTime": {
     "end_time": "2023-06-07T21:15:43.849903Z",
     "start_time": "2023-06-07T21:15:43.832057Z"
    }
   },
   "outputs": [
    {
     "data": {
      "text/plain": "                 DATAFLOW        LAST UPDATE freq wst_oper            waste  \\\n0    ESTAT:ENV_WASFW(1.0)  06/03/23 23:00:00    A      COL  W091_092_101_FD   \n1    ESTAT:ENV_WASFW(1.0)  06/03/23 23:00:00    A      COL  W091_092_101_FD   \n2    ESTAT:ENV_WASFW(1.0)  06/03/23 23:00:00    A      COL  W091_092_101_FD   \n3    ESTAT:ENV_WASFW(1.0)  06/03/23 23:00:00    A      COL  W091_092_101_FD   \n4    ESTAT:ENV_WASFW(1.0)  06/03/23 23:00:00    A      COL  W091_092_101_FD   \n..                    ...                ...  ...      ...              ...   \n163  ESTAT:ENV_WASFW(1.0)  06/03/23 23:00:00    A      COL  W091_092_101_FD   \n164  ESTAT:ENV_WASFW(1.0)  06/03/23 23:00:00    A      COL  W091_092_101_FD   \n165  ESTAT:ENV_WASFW(1.0)  06/03/23 23:00:00    A      COL  W091_092_101_FD   \n166  ESTAT:ENV_WASFW(1.0)  06/03/23 23:00:00    A      COL  W091_092_101_FD   \n167  ESTAT:ENV_WASFW(1.0)  06/03/23 23:00:00    A      COL  W091_092_101_FD   \n\n          nace_r2    unit geo  TIME_PERIOD  OBS_VALUE OBS_FLAG  \n0    A01_A03_FOOD  KG_HAB  AT         2020          2      NaN  \n1    A01_A03_FOOD  KG_HAB  BE         2020          3      NaN  \n2    A01_A03_FOOD  KG_HAB  BG         2020         33      NaN  \n3    A01_A03_FOOD  KG_HAB  CY         2020         49        d  \n4    A01_A03_FOOD  KG_HAB  CZ         2020          3      NaN  \n..            ...     ...  ..          ...        ...      ...  \n163           TOT  KG_HAB  PL         2020        106      NaN  \n164           TOT  KG_HAB  PT         2020        184        e  \n165           TOT  KG_HAB  SE         2020         87        e  \n166           TOT  KG_HAB  SI         2020         68      NaN  \n167           TOT  KG_HAB  SK         2020         83      NaN  \n\n[168 rows x 11 columns]",
      "text/html": "<div>\n<style scoped>\n    .dataframe tbody tr th:only-of-type {\n        vertical-align: middle;\n    }\n\n    .dataframe tbody tr th {\n        vertical-align: top;\n    }\n\n    .dataframe thead th {\n        text-align: right;\n    }\n</style>\n<table border=\"1\" class=\"dataframe\">\n  <thead>\n    <tr style=\"text-align: right;\">\n      <th></th>\n      <th>DATAFLOW</th>\n      <th>LAST UPDATE</th>\n      <th>freq</th>\n      <th>wst_oper</th>\n      <th>waste</th>\n      <th>nace_r2</th>\n      <th>unit</th>\n      <th>geo</th>\n      <th>TIME_PERIOD</th>\n      <th>OBS_VALUE</th>\n      <th>OBS_FLAG</th>\n    </tr>\n  </thead>\n  <tbody>\n    <tr>\n      <th>0</th>\n      <td>ESTAT:ENV_WASFW(1.0)</td>\n      <td>06/03/23 23:00:00</td>\n      <td>A</td>\n      <td>COL</td>\n      <td>W091_092_101_FD</td>\n      <td>A01_A03_FOOD</td>\n      <td>KG_HAB</td>\n      <td>AT</td>\n      <td>2020</td>\n      <td>2</td>\n      <td>NaN</td>\n    </tr>\n    <tr>\n      <th>1</th>\n      <td>ESTAT:ENV_WASFW(1.0)</td>\n      <td>06/03/23 23:00:00</td>\n      <td>A</td>\n      <td>COL</td>\n      <td>W091_092_101_FD</td>\n      <td>A01_A03_FOOD</td>\n      <td>KG_HAB</td>\n      <td>BE</td>\n      <td>2020</td>\n      <td>3</td>\n      <td>NaN</td>\n    </tr>\n    <tr>\n      <th>2</th>\n      <td>ESTAT:ENV_WASFW(1.0)</td>\n      <td>06/03/23 23:00:00</td>\n      <td>A</td>\n      <td>COL</td>\n      <td>W091_092_101_FD</td>\n      <td>A01_A03_FOOD</td>\n      <td>KG_HAB</td>\n      <td>BG</td>\n      <td>2020</td>\n      <td>33</td>\n      <td>NaN</td>\n    </tr>\n    <tr>\n      <th>3</th>\n      <td>ESTAT:ENV_WASFW(1.0)</td>\n      <td>06/03/23 23:00:00</td>\n      <td>A</td>\n      <td>COL</td>\n      <td>W091_092_101_FD</td>\n      <td>A01_A03_FOOD</td>\n      <td>KG_HAB</td>\n      <td>CY</td>\n      <td>2020</td>\n      <td>49</td>\n      <td>d</td>\n    </tr>\n    <tr>\n      <th>4</th>\n      <td>ESTAT:ENV_WASFW(1.0)</td>\n      <td>06/03/23 23:00:00</td>\n      <td>A</td>\n      <td>COL</td>\n      <td>W091_092_101_FD</td>\n      <td>A01_A03_FOOD</td>\n      <td>KG_HAB</td>\n      <td>CZ</td>\n      <td>2020</td>\n      <td>3</td>\n      <td>NaN</td>\n    </tr>\n    <tr>\n      <th>...</th>\n      <td>...</td>\n      <td>...</td>\n      <td>...</td>\n      <td>...</td>\n      <td>...</td>\n      <td>...</td>\n      <td>...</td>\n      <td>...</td>\n      <td>...</td>\n      <td>...</td>\n      <td>...</td>\n    </tr>\n    <tr>\n      <th>163</th>\n      <td>ESTAT:ENV_WASFW(1.0)</td>\n      <td>06/03/23 23:00:00</td>\n      <td>A</td>\n      <td>COL</td>\n      <td>W091_092_101_FD</td>\n      <td>TOT</td>\n      <td>KG_HAB</td>\n      <td>PL</td>\n      <td>2020</td>\n      <td>106</td>\n      <td>NaN</td>\n    </tr>\n    <tr>\n      <th>164</th>\n      <td>ESTAT:ENV_WASFW(1.0)</td>\n      <td>06/03/23 23:00:00</td>\n      <td>A</td>\n      <td>COL</td>\n      <td>W091_092_101_FD</td>\n      <td>TOT</td>\n      <td>KG_HAB</td>\n      <td>PT</td>\n      <td>2020</td>\n      <td>184</td>\n      <td>e</td>\n    </tr>\n    <tr>\n      <th>165</th>\n      <td>ESTAT:ENV_WASFW(1.0)</td>\n      <td>06/03/23 23:00:00</td>\n      <td>A</td>\n      <td>COL</td>\n      <td>W091_092_101_FD</td>\n      <td>TOT</td>\n      <td>KG_HAB</td>\n      <td>SE</td>\n      <td>2020</td>\n      <td>87</td>\n      <td>e</td>\n    </tr>\n    <tr>\n      <th>166</th>\n      <td>ESTAT:ENV_WASFW(1.0)</td>\n      <td>06/03/23 23:00:00</td>\n      <td>A</td>\n      <td>COL</td>\n      <td>W091_092_101_FD</td>\n      <td>TOT</td>\n      <td>KG_HAB</td>\n      <td>SI</td>\n      <td>2020</td>\n      <td>68</td>\n      <td>NaN</td>\n    </tr>\n    <tr>\n      <th>167</th>\n      <td>ESTAT:ENV_WASFW(1.0)</td>\n      <td>06/03/23 23:00:00</td>\n      <td>A</td>\n      <td>COL</td>\n      <td>W091_092_101_FD</td>\n      <td>TOT</td>\n      <td>KG_HAB</td>\n      <td>SK</td>\n      <td>2020</td>\n      <td>83</td>\n      <td>NaN</td>\n    </tr>\n  </tbody>\n</table>\n<p>168 rows × 11 columns</p>\n</div>"
     },
     "execution_count": 4,
     "metadata": {},
     "output_type": "execute_result"
    }
   ],
   "source": [
    "import pandas as pd\n",
    "\n",
    "data = pd.read_csv('data/data_xon/env_wasfw_page_linear.csv')\n",
    "\n",
    "data"
   ]
  },
  {
   "cell_type": "code",
   "execution_count": null,
   "outputs": [],
   "source": [],
   "metadata": {
    "collapsed": false
   }
  }
 ],
 "metadata": {
  "kernelspec": {
   "display_name": "Python 3",
   "language": "python",
   "name": "python3"
  },
  "language_info": {
   "codemirror_mode": {
    "name": "ipython",
    "version": 2
   },
   "file_extension": ".py",
   "mimetype": "text/x-python",
   "name": "python",
   "nbconvert_exporter": "python",
   "pygments_lexer": "ipython2",
   "version": "2.7.6"
  }
 },
 "nbformat": 4,
 "nbformat_minor": 0
}
