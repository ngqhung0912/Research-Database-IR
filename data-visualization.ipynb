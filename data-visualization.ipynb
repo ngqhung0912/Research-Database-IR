{
 "cells": [
  {
   "cell_type": "code",
   "execution_count": null,
   "metadata": {
    "collapsed": true
   },
   "outputs": [],
   "source": [
    "'''\n",
    "Drop unused features.\n",
    "'''\n",
    "data = data.drop([\"Condition1\", \"Condition2\",\n",
    "                 \"MiscVal\", \"MiscFeature\", \"GarageYrBlt\",\n",
    "                 \"GarageCars\", \"GarageFinish\", \"GarageType\",\n",
    "                 \"Fireplaces\", \"FireplaceQu\", \"PavedDrive\", \"MasVnrArea\",\n",
    "                  \"MasVnrType\", \"1stFlrSF\", \"2ndFlrSF\", \"LowQualFinSF\",\n",
    "                  \"WoodDeckSF\", \"OpenPorchSF\", \"EnclosedPorch\", \"3SsnPorch\",\n",
    "                  \"ScreenPorch\", \"BsmtFinType1\", \"BsmtFinType2\",\n",
    "                  \"BsmtFinSF1\", \"BsmtFinSF2\", \"Id\", \"PoolQC\", \"Fence\",\n",
    "                  \"Alley\", \"PoolArea\", \"Exterior1st\", \"Exterior2nd\", \"Street\",\n",
    "                  \"BsmtExposure\", \"MoSold\", \"YrSold\", \"YearBuilt\", \"Heating\",\n",
    "                  \"SaleType\", \"SaleCondition\", \"GarageQual\", \"CentralAir\", \"Utilities\", \"BsmtQual\",\n",
    "                  \"Electrical\", \"BsmtCond\", \"GarageCond\", \"OverallCond\", \"KitchenAbvGr\", \"BedroomAbvGr\", \"BsmtUnfSF\",\n",
    "                  \"Functional\", \"LandContour\", \"BldgType\", \"RoofStyle\", \"RoofMatl\", \"LotFrontage\", \"LandSlope\",\n",
    "                  ], axis=1)\n",
    "\"\"\"\n",
    "Change MSSubClass type from int to str, since it's a categorical type.\n",
    "\"\"\"\n",
    "data.MSSubClass = data.MSSubClass.astype(\"str\")\n",
    "'''\n",
    "summarize all bathrooms data into one.\n",
    "'''\n",
    "data['bathrooms'] = data[[\"BsmtFullBath\", \"BsmtHalfBath\", \"FullBath\", \"HalfBath\"]].sum(axis=1)\n",
    "data = data.drop([\"BsmtFullBath\", \"BsmtHalfBath\", \"FullBath\", \"HalfBath\"], axis=1)\n",
    "data.insert(0, 'bathrooms', data.pop('bathrooms'))\n",
    "'''\n",
    "Remove outliers\n",
    "'''\n",
    "# data = data[data[\"LotArea\"] < 100000]\n",
    "# data = data[data[\"TotalBsmtSF\"] < 4000]\n",
    "# data = data[data[\"GrLivArea\"] < 4000]\n",
    "\"\"\"\n",
    "Deal with categorical data\n",
    "\"\"\"\n",
    "categorical_col = data.select_dtypes(include = ['object']).columns\n",
    "\n",
    "for col in categorical_col:\n",
    "    data[col] = data[col].fillna(\"NA\")\n",
    "\"\"\"\n",
    "Deal with categorical data (cont):\n",
    "Ordinal: HeatingQC, LotShape, LandContour, LandSlope, ExterQual, ExterCond, HeatingQC, KitchenQual, Functional.\n",
    "Nominal: LotConfig, Neighborhood, HouseStyle, RoofStyle, RoofMatl, Foundation, MSZoning, BldgType, MSSubClass\n",
    "\"\"\"\n",
    "data_cat_nominal = data[[\"LotConfig\", \"Neighborhood\", \"HouseStyle\", \"Foundation\", \"MSZoning\" , \"MSSubClass\"]]\n",
    "data_cat_ordinal = data[[\"HeatingQC\", \"LotShape\", \"ExterQual\", \"ExterCond\", \"KitchenQual\"]].columns\n",
    "\n",
    "\"\"\"\n",
    "Encode ordinal categorical variable.\n",
    "\"\"\"\n",
    "heatingQC_dict = {'Ex': 4, 'Gd': 3, 'TA': 2, 'Fa': 1, 'Po': 0}\n",
    "LotShape_dict = {'Reg': 3, 'IR1': 2, 'IR2': 1, 'IR3': 0}\n",
    "ExterQual_dict = {'Gd': 3, 'TA': 2, 'Ex': 1, 'Fa': 0}\n",
    "ExterCond_dict = heatingQC_dict\n",
    "KitchenQual_dict = heatingQC_dict\n",
    "\n",
    "data['HeatingQC'] = data['HeatingQC'].replace(heatingQC_dict).astype(\"int64\")\n",
    "data['LotShape'] = data['LotShape'].replace(LotShape_dict).astype(\"int64\")\n",
    "data['ExterQual'] = data['ExterQual'].replace(ExterQual_dict).astype(\"int64\")\n",
    "data['ExterCond'] = data['ExterCond'].replace(ExterCond_dict).astype(\"int64\")\n",
    "data['KitchenQual'] = data['KitchenQual'].replace(KitchenQual_dict).astype(\"int64\")\n"
   ]
  }
 ],
 "metadata": {
  "kernelspec": {
   "display_name": "Python 3",
   "language": "python",
   "name": "python3"
  },
  "language_info": {
   "codemirror_mode": {
    "name": "ipython",
    "version": 2
   },
   "file_extension": ".py",
   "mimetype": "text/x-python",
   "name": "python",
   "nbconvert_exporter": "python",
   "pygments_lexer": "ipython2",
   "version": "2.7.6"
  }
 },
 "nbformat": 4,
 "nbformat_minor": 0
}
