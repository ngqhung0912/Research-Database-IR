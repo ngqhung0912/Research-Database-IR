{
 "cells": [
  {
   "cell_type": "code",
   "execution_count": null,
   "metadata": {
    "collapsed": true
   },
   "outputs": [],
   "source": [
    "from sklearn.model_selection import train_test_split\n",
    "from sklearn.linear_model import  RidgeCV\n",
    "import shap\n",
    "import numpy as np\n",
    "import pandas as pd\n",
    "from collections import OrderedDict\n",
    "import matplotlib.pyplot as plt\n"
   ]
  },
  {
   "cell_type": "markdown",
   "source": [
    "### Some helper functions"
   ],
   "metadata": {
    "collapsed": false
   }
  },
  {
   "cell_type": "code",
   "execution_count": null,
   "outputs": [],
   "source": [
    "def get_score(model, feature, target):\n",
    "    pred = model.predict(feature)\n",
    "    score = pd.DataFrame(pred, columns=['Prediction'], index=feature.index)\n",
    "    score['GroundTruth'] = np.array(target)\n",
    "    score['AbsoluteError'] = abs(score['GroundTruth'] - score['Prediction'])\n",
    "    return score\n",
    "\n",
    "def get_doubtful_values(score, error=1.5):\n",
    "    return score[score['AbsoluteError'] > error]\n",
    "\n",
    "def get_truthful_values(score, error=0.5):\n",
    "    return score[score['AbsoluteError'] < error]"
   ],
   "metadata": {
    "collapsed": false
   }
  },
  {
   "cell_type": "markdown",
   "source": [
    "### Load cleaned data"
   ],
   "metadata": {
    "collapsed": false
   }
  },
  {
   "cell_type": "code",
   "execution_count": null,
   "outputs": [],
   "source": [
    "data = pd.read_csv(\"data/data_cleaned.csv\")\n",
    "data = data.drop([\"Unnamed: 0\"], axis=1)"
   ],
   "metadata": {
    "collapsed": false
   }
  },
  {
   "cell_type": "code",
   "execution_count": null,
   "outputs": [],
   "source": [
    "data\n"
   ],
   "metadata": {
    "collapsed": false
   }
  },
  {
   "cell_type": "markdown",
   "source": [
    "### Train a model"
   ],
   "metadata": {
    "collapsed": false
   }
  },
  {
   "cell_type": "code",
   "execution_count": null,
   "outputs": [],
   "source": [
    "y = data[\"OverallQual\"]\n",
    "X = data.drop([\"OverallQual\", 'SalePrice'], axis=1)\n",
    "\n",
    "X_train, X_test, y_train, y_test = train_test_split(X, y, test_size=0.1,random_state=100, stratify=y )\n",
    "\n",
    "ridge = RidgeCV()\n",
    "ridge.fit(X_train, y_train)\n",
    "print(ridge.score(X_test, y_test))"
   ],
   "metadata": {
    "collapsed": false
   }
  },
  {
   "cell_type": "markdown",
   "source": [
    "### Loc doubtful and truthful values"
   ],
   "metadata": {
    "collapsed": false
   }
  },
  {
   "cell_type": "code",
   "execution_count": null,
   "outputs": [],
   "source": [
    "y_pred = ridge.predict(X)\n",
    "y_score = get_score(ridge, X, y)\n",
    "\n",
    "y_correct = get_truthful_values(y_score, error=1)\n",
    "y_doubt = get_doubtful_values(y_score, error=1)\n"
   ],
   "metadata": {
    "collapsed": false
   }
  },
  {
   "cell_type": "markdown",
   "source": [
    "### Get explanation for original model"
   ],
   "metadata": {
    "collapsed": false
   }
  },
  {
   "cell_type": "code",
   "execution_count": null,
   "outputs": [],
   "source": [
    "'''\n",
    "Experiment:\n",
    "- Original dataset, get doubtful value\n",
    "- Corrupt this attrubute (the non-doubtful)\n",
    "- See if the model discover the pattern.\n",
    "'''\n",
    "explainer = shap.Explainer(ridge, X, algorithm=\"linear\", seed=100)\n",
    "shap_values = explainer(X)"
   ],
   "metadata": {
    "collapsed": false
   }
  },
  {
   "cell_type": "code",
   "execution_count": null,
   "outputs": [],
   "source": [
    "\"\"\"\n",
    "Get data that only include the correct prediction.\n",
    "Two indexes need to be kept.\n",
    "\"\"\"\n",
    "data_correct = data.iloc[y_correct.index]\n",
    "data_correct['data_index'] = data_correct.index\n",
    "data_correct = data_correct.reset_index(drop=True)\n",
    "data_correct['index'] = data_correct.index\n",
    "data_correct.set_index(['index', 'data_index'], inplace=True)"
   ],
   "metadata": {
    "collapsed": false
   }
  },
  {
   "cell_type": "markdown",
   "source": [
    "### Corrupt OverallQual on data_correct dataframe."
   ],
   "metadata": {
    "collapsed": false
   }
  },
  {
   "cell_type": "code",
   "execution_count": null,
   "outputs": [],
   "source": [
    "corruption_list = []\n",
    "old_new_value = OrderedDict()\n",
    "OverallQual_sample_fraction = 0.05\n",
    "\n",
    "data_to_corrupt = data_correct.copy()\n",
    "\n",
    "corruption_index_list = sorted(data_to_corrupt.sample(frac = OverallQual_sample_fraction, random_state=1).index)\n",
    "for i in corruption_index_list:\n",
    "    old = data_to_corrupt.loc[i, 'OverallQual']\n",
    "    new = old - 6 if old > 6 else old + 6\n",
    "    if new > 10: new = 10\n",
    "    # while abs(old - new) != 6:\n",
    "    #     new = np.random.randint(1, 11, 1)[0]\n",
    "    data_to_corrupt.loc[i, 'OverallQual'] = new\n",
    "    corruption_list.append(i)\n",
    "    old_new_value[i[0]] = (old, new)\n",
    "print(len(corruption_list))\n",
    "\n",
    "y_corrupted = data_to_corrupt[\"OverallQual\"]\n",
    "X_corrupted = data_to_corrupt.drop([\"OverallQual\", 'SalePrice'], axis=1)\n",
    "\n",
    "\n",
    "X_train_cor, X_test_cor, y_train_cor, y_test_cor = train_test_split(X_corrupted, y_corrupted, test_size=0.1,random_state=100)\n",
    "ridge_corrupt = RidgeCV()\n",
    "ridge_corrupt.fit(X_train_cor, y_train_cor)\n",
    "print(ridge_corrupt.score(X_test_cor, y_test_cor))"
   ],
   "metadata": {
    "collapsed": false
   }
  },
  {
   "cell_type": "code",
   "execution_count": null,
   "outputs": [],
   "source": [
    "y_corrupted_score = get_score(ridge_corrupt, X_corrupted, y_corrupted)\n",
    "y_corrupted_doubt = get_doubtful_values(y_corrupted_score)\n",
    "y_corrupted_doubt = y_corrupted_doubt.rename(columns={'GroundTruth' : 'CorruptedTruth', 'AbsoluteError': 'CorruptedError'})\n",
    "y_corrupted_doubt['GroundTruth'] = y_corrupted_doubt.index.get_level_values(1).map(y[y_corrupted_doubt.index.get_level_values(1)])\n",
    "y_corrupted_doubt['Corrupted'] = y_corrupted_doubt['GroundTruth'] != y_corrupted_doubt['CorruptedTruth']\n",
    "y_corrupted_doubt['OrgPredict'] = y_corrupted_doubt.index.get_level_values(1).map(y_score.loc[y_corrupted_doubt.index.get_level_values(1)]['Prediction'])\n",
    "y_corrupted_doubt = y_corrupted_doubt[['Prediction', 'OrgPredict', 'CorruptedTruth', 'GroundTruth', 'Corrupted', 'CorruptedError']]\n",
    "y_corrupted_doubt[y_corrupted_doubt['Corrupted'] == True]"
   ],
   "metadata": {
    "collapsed": false
   }
  },
  {
   "cell_type": "code",
   "execution_count": null,
   "outputs": [],
   "source": [
    "y_corrupted_doubt[y_corrupted_doubt['Corrupted'] == False]"
   ],
   "metadata": {
    "collapsed": false
   }
  },
  {
   "cell_type": "code",
   "execution_count": null,
   "outputs": [],
   "source": [
    "shap.initjs()\n",
    "explainer_corruption = shap.Explainer(ridge_corrupt, X_corrupted, algorithm=\"linear\", seed=100)\n",
    "shap_values_corruption = explainer_corruption(X_corrupted)"
   ],
   "metadata": {
    "collapsed": false
   }
  },
  {
   "cell_type": "code",
   "execution_count": null,
   "outputs": [],
   "source": [
    "def split_explanation_to_cohort_overallQual(shap_values_to_explain, data_to_explain):\n",
    "    overallQual_explanation = {}\n",
    "\n",
    "    for i in range(len(shap_values_to_explain)):\n",
    "        overallQual = int(data_to_explain.iloc[i]['OverallQual'])\n",
    "        if overallQual not in overallQual_explanation:\n",
    "            overallQual_explanation[overallQual] = shap.Explanation(values=shap_values_to_explain.values[i],\n",
    "                                                                    base_values=shap_values_to_explain.base_values[i],\n",
    "                                                                    data=shap_values_to_explain.data[i],\n",
    "                                                                    feature_names=shap_values_to_explain.feature_names)\n",
    "        else:\n",
    "            overallQual_explanation[overallQual].base_values = np.append(overallQual_explanation[overallQual].base_values,\n",
    "                                                                         shap_values_to_explain.base_values[i])\n",
    "            overallQual_explanation[overallQual].values = np.vstack([overallQual_explanation[overallQual].values,\n",
    "                                                                     shap_values_to_explain.values[i]])\n",
    "            overallQual_explanation[overallQual].data = np.vstack([overallQual_explanation[overallQual].data,\n",
    "                                                                   shap_values_to_explain.data[i]])\n",
    "    return overallQual_explanation\n",
    "\n",
    "overallQual_explanation_original = split_explanation_to_cohort_overallQual(shap_values, data)\n",
    "overallQual_explanation_corrupted = split_explanation_to_cohort_overallQual(shap_values_corruption, data_to_corrupt)\n"
   ],
   "metadata": {
    "collapsed": false
   }
  },
  {
   "cell_type": "code",
   "execution_count": null,
   "outputs": [],
   "source": [
    "print(y[corruption_list[0][1]])\n",
    "shap.plots.waterfall(shap_values[corruption_list[0][1]], max_display=10)"
   ],
   "metadata": {
    "collapsed": false
   }
  },
  {
   "cell_type": "code",
   "execution_count": null,
   "outputs": [],
   "source": [
    "print(y_corrupted[corruption_list[0][0]])\n",
    "shap.plots.waterfall(shap_values_corruption[corruption_list[0][0]], max_display=10)"
   ],
   "metadata": {
    "collapsed": false
   }
  },
  {
   "cell_type": "markdown",
   "source": [
    "### Plot differences in explanation between corrupted and original data.\n"
   ],
   "metadata": {
    "collapsed": false
   }
  },
  {
   "cell_type": "code",
   "execution_count": null,
   "outputs": [],
   "source": [
    "# values= (shap_values_corruption[corruption_list[0][0]].values - shap_values[corruption_list[0][1]].values).round(3)\n",
    "# df_corrupt = pd.DataFrame([values], columns=shap_values_corruption.feature_names).sort_values(by=0, axis=1, ascending=True)\n",
    "# df_corrupt = df_corrupt.loc[:,~(abs(df_corrupt.iloc[0]) < 0.05)]\n",
    "#\n",
    "# plt.figure(figsize=(8, 10))\n",
    "# plt.barh(df_corrupt.columns, df_corrupt.iloc[0])\n",
    "# plt.bar_label(plt.barh(df_corrupt.columns, df_corrupt.iloc[0]))\n",
    "# plt.xlim(min(values) - 0.2, max(values) + 0.2)\n",
    "# plt.show()"
   ],
   "metadata": {
    "collapsed": false
   }
  },
  {
   "cell_type": "markdown",
   "source": [
    "### Plot differences in explanation between corrupted and original data."
   ],
   "metadata": {
    "collapsed": false
   }
  },
  {
   "cell_type": "code",
   "execution_count": 261,
   "outputs": [
    {
     "data": {
      "text/plain": "<Figure size 1000x500 with 3 Axes>",
      "image/png": "[encoded data removed]"
     },
     "metadata": {},
     "output_type": "display_data"
    }
   ],
   "source": [
    "import re\n",
    "\n",
    "def format_value(s, format_str):\n",
    "    \"\"\" Strips trailing zeros and uses a unicode minus sign.\n",
    "    \"\"\"\n",
    "\n",
    "    if not issubclass(type(s), str):\n",
    "        s = format_str % s\n",
    "    s = re.sub(r'\\.?0+$', '', s)\n",
    "    if s[0] == \"-\":\n",
    "        s = u\"\\u2212\" + s[1:]\n",
    "    return s\n",
    "\n",
    "\n",
    "def arrow_plot_comparing_explanations_values(original_explanation: shap.Explanation, corrupted_explanation: shap.Explanation, threshold=0.1):\n",
    "    # Get Shapley values\n",
    "    value_original = original_explanation.values\n",
    "    value_corrupted = corrupted_explanation.values\n",
    "\n",
    "    assert len(value_corrupted) == len(value_original), \"Explanations must be of same length\"\n",
    "\n",
    "    # Get base values\n",
    "    base_value_original = original_explanation.base_values\n",
    "    base_value_corrupted = corrupted_explanation.base_values\n",
    "\n",
    "    # Keep the list of features that are removed. Sum all those into one.\n",
    "    remains_original = 0\n",
    "    remains_corrupted = 0\n",
    "    remove_list = []\n",
    "\n",
    "    # Remove features that are below threshold and sum those together.\n",
    "    for index in range(len(value_original)):\n",
    "        if abs(value_corrupted[index]) < threshold and abs(value_original[index]) < threshold:\n",
    "            remove_list.append(index)\n",
    "            remains_corrupted += value_corrupted[index]\n",
    "            remains_original += value_original[index]\n",
    "\n",
    "    value_original = np.delete(value_original, remove_list)\n",
    "    value_original = np.append(value_original, remains_original)\n",
    "\n",
    "    value_corrupted = np.delete(value_corrupted, remove_list)\n",
    "    value_corrupted = np.append(value_corrupted, remains_corrupted)\n",
    "\n",
    "    col_list = np.delete(X.columns.to_numpy(), remove_list)\n",
    "    col_list = np.append(col_list, 'Remains')\n",
    "\n",
    "    # Plot\n",
    "    fig, ax = plt.subplots(layout='constrained',figsize=(10, len(col_list)) )\n",
    "    width = 0.25  # the width of the bars\n",
    "    multiplier = 0\n",
    "    dict_avg = {\n",
    "        'Original': value_original,\n",
    "        'Corrupted': value_corrupted\n",
    "    }\n",
    "    label_locations = np.arange(len(col_list))  # the label locations\n",
    "    for attribute, measurement in dict_avg.items():\n",
    "        offset = width * multiplier\n",
    "        # rects = ax.barh(label_locations + offset, np.round(measurement, 3), width, label=attribute )\n",
    "\n",
    "        if attribute == 'Original':\n",
    "            base = base_value_original\n",
    "            for i in range(len(measurement)):\n",
    "                contribution = measurement[i]\n",
    "\n",
    "                if i == 0:\n",
    "                    label = attribute\n",
    "                else:\n",
    "                    label = None\n",
    "\n",
    "                arrow = ax.arrow(base,\n",
    "                         label_locations[i] + offset,\n",
    "                         contribution,\n",
    "                         0,\n",
    "                         length_includes_head=True,\n",
    "                         head_width=0.2,\n",
    "                         head_length=0.01,\n",
    "                         width=0.2,\n",
    "                         color='red',\n",
    "                         label=label,\n",
    "                         )\n",
    "                # ax.bar_label(arrow, padding=10)\n",
    "\n",
    "                ax.text(\n",
    "                    (base + base + contribution) / 2,\n",
    "                    label_locations[i] + offset,\n",
    "                    format_value(contribution, '%+0.02f'),\n",
    "                    color=\"black\",\n",
    "                    fontsize=10,\n",
    "                    )\n",
    "                base += contribution\n",
    "\n",
    "                if  i < len(measurement) - 1:\n",
    "                    ax.plot([base, base], [label_locations[i] + offset, label_locations[i + 1] + offset],   color = 'r', linestyle = '--',)\n",
    "\n",
    "\n",
    "        else:\n",
    "            base = base_value_corrupted\n",
    "            for i in range(len(measurement)):\n",
    "                if i == 0: label = attribute\n",
    "                else: label = None\n",
    "                ax.arrow(base,\n",
    "                         label_locations[i] + offset,\n",
    "                         contribution,\n",
    "                         0,\n",
    "                         length_includes_head=True,\n",
    "                         head_width=0.2,\n",
    "                         head_length=0.01,\n",
    "                         width=0.2,\n",
    "                         color='blue',\n",
    "                         label=label,\n",
    "                         )\n",
    "                ax.text((base + base + contribution) / 2,\n",
    "                        label_locations[i] + offset,\n",
    "                        format_value(contribution, '%+0.02f'),\n",
    "                        color=\"black\",\n",
    "                        fontsize=10,\n",
    "                        )\n",
    "\n",
    "                base += contribution\n",
    "                if  i < len(measurement) - 1:\n",
    "                    ax.plot([base, base], [label_locations[i] + offset, label_locations[i + 1] + offset],   color = 'b', linestyle = '--',)\n",
    "\n",
    "        # ax.bar_label(rects, padding=10)\n",
    "        multiplier += 1\n",
    "    ax.axvline(x = base_value_original, color = 'r', linestyle = '-', label='Original E[f(x)]')\n",
    "    ax.axvline(x = base_value_corrupted, color = 'b', linestyle = '-', label='Corrupted E[f(x)]')\n",
    "\n",
    "    ax.set_title('Explanation change after corruption')\n",
    "    ax.set_yticks(label_locations + width, col_list)\n",
    "\n",
    "    max_tick = np.round(max(base_value_original, base_value_corrupted, np.sum(value_original) + base_value_original, np.sum(value_corrupted) + base_value_corrupted) + 0.1, 2)\n",
    "    min_tick = np.round(min(base_value_original, base_value_corrupted, np.sum(value_original) + base_value_original, np.sum(value_corrupted) + base_value_corrupted) - 0.1, 2)\n",
    "    ax.set_xticks(np.arange(min_tick, max_tick, 0.1))\n",
    "\n",
    "\n",
    "    # ax.set_xlim([-0.8 , 0.8 ])\n",
    "    ax.set_xlabel('SHAP value - average impact on output')\n",
    "    xmin, xmax = ax.get_xlim()\n",
    "\n",
    "    ax2 = ax.twiny()\n",
    "    ax2.set_xlim(xmin, xmax)\n",
    "    ax2.set_xticks([ base_value_corrupted])\n",
    "    ax2.set_xticklabels([ format_value(base_value_corrupted, \"%0.03f\")], ha=\"left\")\n",
    "    ax2.spines['right'].set_visible(False)\n",
    "    ax2.spines['top'].set_visible(False)\n",
    "    ax2.spines['left'].set_visible(False)\n",
    "\n",
    "\n",
    "    ax3 = ax.twiny()\n",
    "    ax3.set_xlim(xmin, xmax)\n",
    "    ax3.set_xticks([ base_value_original])\n",
    "    ax3.set_xticklabels([format_value(base_value_original, \"%0.03f\")], ha=\"left\")\n",
    "    ax3.spines['right'].set_visible(False)\n",
    "    ax3.spines['top'].set_visible(False)\n",
    "    ax3.spines['left'].set_visible(False)\n",
    "\n",
    "    ax.legend(loc='best')\n",
    "\n",
    "\n",
    "\n",
    "\n",
    "# plot_comparing_explanations_values(shap_values.abs.mean(0).values, shap_values_corruption.abs.mean(0).values)\n",
    "overall_qual = 6\n",
    "arrow_plot_comparing_explanations_values(original_explanation=overallQual_explanation_original[overall_qual].mean(0), corrupted_explanation=overallQual_explanation_corrupted[overall_qual].mean(0), threshold=0.05)"
   ],
   "metadata": {
    "collapsed": false,
    "ExecuteTime": {
     "end_time": "2023-07-07T18:08:06.441648Z",
     "start_time": "2023-07-07T18:08:05.877082Z"
    }
   }
  },
  {
   "cell_type": "code",
   "execution_count": null,
   "outputs": [],
   "source": [
    "plot_comparing_explanations_values(overallQual_explanation_original[9].mean(0),  overallQual_explanation_corrupted[9].mean(0))"
   ],
   "metadata": {
    "collapsed": false
   }
  },
  {
   "cell_type": "code",
   "execution_count": null,
   "outputs": [],
   "source": [
    "plt.figure(figsize=(10, 15))\n",
    "shap.summary_plot(shap_values,\n",
    "                  plot_type='bar',\n",
    "                  plot_size=None,\n",
    "                  show=False,\n",
    "                  sort=False,\n",
    "                  max_display=100)\n",
    "\n",
    "# plt.subplot(1,2,1)\n",
    "# shap.summary_plot(shap_values,\n",
    "#                   plot_type='bar',\n",
    "#                   plot_size=None,\n",
    "#                   show=False,\n",
    "#                   sort=False,\n",
    "#                   max_display=100)\n",
    "# plt.xlim(0, 1)\n",
    "# plt.title('Original')\n",
    "# plt.subplot(1,2,2)\n",
    "# shap.summary_plot(shap_values_corruption,\n",
    "#                   plot_type='bar',\n",
    "#                   plot_size=None,\n",
    "#                   show=False,\n",
    "#                   sort=False,\n",
    "#                   max_display=100)\n",
    "# plt.xlim(0, 0.5)\n",
    "# plt.title('Corrupted')\n",
    "# plt.tight_layout()\n",
    "# plt.show()\n"
   ],
   "metadata": {
    "collapsed": false
   }
  },
  {
   "cell_type": "code",
   "execution_count": 262,
   "outputs": [
    {
     "data": {
      "text/plain": "<Figure size 1000x500 with 1 Axes>",
      "image/png": "[encoded data removed]"
     },
     "metadata": {},
     "output_type": "display_data"
    }
   ],
   "source": [
    "def bar_plot_comparing_explanations_values(original_explanation: shap.Explanation, corrupted_explanation: shap.Explanation, threshold=0.1):\n",
    "    # Get Shapley values\n",
    "    value_original = original_explanation.values\n",
    "    value_corrupted = corrupted_explanation.values\n",
    "\n",
    "    assert len(value_corrupted) == len(value_original), \"Explanations must be of same length\"\n",
    "\n",
    "    # Get base value\n",
    "    # Keep the list of features that are removed. Sum all those into one.\n",
    "    remains_original = 0\n",
    "    remains_corrupted = 0\n",
    "    remove_list = []\n",
    "\n",
    "    # Remove features that are below threshold and sum those together.\n",
    "    for index in range(len(value_original)):\n",
    "        if abs(value_corrupted[index]) < threshold and abs(value_original[index]) < threshold:\n",
    "            remove_list.append(index)\n",
    "            remains_corrupted += value_corrupted[index]\n",
    "            remains_original += value_original[index]\n",
    "\n",
    "    value_original = np.delete(value_original, remove_list)\n",
    "    value_original = np.append(value_original, remains_original)\n",
    "\n",
    "    value_corrupted = np.delete(value_corrupted, remove_list)\n",
    "    value_corrupted = np.append(value_corrupted, remains_corrupted)\n",
    "\n",
    "    col_list = np.delete(X.columns.to_numpy(), remove_list)\n",
    "    col_list = np.append(col_list, 'Remains')\n",
    "\n",
    "    # Plot\n",
    "    fig, ax = plt.subplots(layout='constrained',figsize=(10, len(col_list)) )\n",
    "    width = 0.25  # the width of the bars\n",
    "    multiplier = 0\n",
    "    dict_avg = {\n",
    "        'Original': value_original,\n",
    "        'Corrupted': value_corrupted\n",
    "    }\n",
    "    label_locations = np.arange(len(col_list))  # the label locations\n",
    "    for attribute, measurement in dict_avg.items():\n",
    "        offset = width * multiplier\n",
    "        rects = ax.barh(label_locations + offset, np.round(measurement, 3), width, label=attribute )\n",
    "        ax.bar_label(rects, padding=10)\n",
    "        multiplier += 1\n",
    "    ax.set_title('Explanation change after corruption')\n",
    "    ax.set_yticks(label_locations + width, col_list)\n",
    "    ax.set_xlim([-0.8 , 0.8 ])\n",
    "    ax.set_xlabel('SHAP value - average impact on output')\n",
    "    ax.legend(loc='best')\n",
    "\n",
    "\n",
    "bar_plot_comparing_explanations_values(original_explanation=overallQual_explanation_original[overall_qual].mean(0), corrupted_explanation=overallQual_explanation_corrupted[overall_qual].mean(0), threshold=0.05)\n"
   ],
   "metadata": {
    "collapsed": false,
    "ExecuteTime": {
     "end_time": "2023-07-07T18:08:12.712477Z",
     "start_time": "2023-07-07T18:08:12.227563Z"
    }
   }
  },
  {
   "cell_type": "code",
   "execution_count": null,
   "outputs": [],
   "source": [
    "\"\"\"\n",
    "Make explanation locally for each OverallQual:\n",
    "i.e., how features contribute to each OverallQual values\n",
    "\n",
    "- How many times it predict correct value instead of corruption value?\n",
    "- Better\n",
    "- Merging two figures (x)\n",
    "\n",
    "Design experiment:\n",
    "\n",
    "rough value on from what point the value degrades.\n",
    "increase corruption percentage\n",
    "\n",
    "\"\"\""
   ],
   "metadata": {
    "collapsed": false
   }
  },
  {
   "cell_type": "code",
   "execution_count": null,
   "outputs": [],
   "source": [
    "df = pd.DataFrame([ridge.coef_], columns=ridge.feature_names_in_).sort_values(by=0, axis=1, ascending=True)\n",
    "df_corrupt = pd.DataFrame([ridge_corrupt.coef_], columns=ridge_corrupt.feature_names_in_).sort_values(by=0, axis=1, ascending=True)\n",
    "df_diff = (df_corrupt - df).sort_values(by=0, axis=1, ascending=True)\n",
    "df_diff = df_diff.loc[:,~(abs(df_diff.iloc[0]) < 0.1)]\n",
    "plt.figure(figsize=(5, 20))\n",
    "plt.barh(df_diff.columns, df_diff.iloc[0])"
   ],
   "metadata": {
    "collapsed": false
   }
  },
  {
   "cell_type": "code",
   "execution_count": null,
   "outputs": [],
   "source": [
    "plt.plot([5, 5], [1, 5])"
   ],
   "metadata": {
    "collapsed": false
   }
  },
  {
   "cell_type": "code",
   "execution_count": null,
   "outputs": [],
   "source": [],
   "metadata": {
    "collapsed": false
   }
  }
 ],
 "metadata": {
  "kernelspec": {
   "display_name": "Python 3",
   "language": "python",
   "name": "python3"
  },
  "language_info": {
   "codemirror_mode": {
    "name": "ipython",
    "version": 2
   },
   "file_extension": ".py",
   "mimetype": "text/x-python",
   "name": "python",
   "nbconvert_exporter": "python",
   "pygments_lexer": "ipython2",
   "version": "2.7.6"
  }
 },
 "nbformat": 4,
 "nbformat_minor": 0
}
