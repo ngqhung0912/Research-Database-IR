{
 "cells": [
  {
   "cell_type": "code",
   "execution_count": null,
   "metadata": {
    "collapsed": true,
    "is_executing": true
   },
   "outputs": [],
   "source": [
    "import pandas as pd\n",
    "import matplotlib.pyplot as plt\n",
    "import numpy as np\n",
    "import seaborn as sns\n",
    "from collections import Counter\n",
    "from sklearn.tree import DecisionTreeRegressor, plot_tree\n",
    "from sklearn.ensemble import RandomForestRegressor, GradientBoostingRegressor, GradientBoostingClassifier\n",
    "from sklearn.compose import ColumnTransformer\n",
    "from sklearn.pipeline import Pipeline\n",
    "from sklearn.impute import SimpleImputer\n",
    "from sklearn.preprocessing import StandardScaler, OneHotEncoder, MinMaxScaler\n",
    "from sklearn.model_selection import train_test_split\n",
    "from sklearn.feature_selection import SelectPercentile, chi2\n",
    "from sklearn.linear_model import LinearRegression, RidgeCV, ElasticNet, Ridge, Lasso\n",
    "from helper import *\n",
    "import shap\n",
    "shap.initjs()"
   ]
  },
  {
   "cell_type": "code",
   "execution_count": null,
   "outputs": [],
   "source": [
    "def get_score(model, feature, target):\n",
    "    pred = model.predict(feature)\n",
    "    score = pd.DataFrame(pred, columns=['Prediction'])\n",
    "    score['GroundTruth'] = np.array(target)\n",
    "    score['AbsoluteError'] = abs(score['GroundTruth'] - score['Prediction'])\n",
    "    return score\n",
    "\n",
    "\n",
    "def get_doubtful_values(score):\n",
    "    return score[score['AbsoluteError'] > 1.5]\n",
    "\n",
    "def get_truthful_values(score):\n",
    "    return score[score['AbsoluteError'] < 0.5]\n"
   ],
   "metadata": {
    "collapsed": false
   }
  },
  {
   "cell_type": "code",
   "execution_count": null,
   "outputs": [],
   "source": [
    "data = pd.read_csv(\"data/data_cleaned.csv\")\n",
    "data = data.drop([\"Unnamed: 0\"], axis=1)\n"
   ],
   "metadata": {
    "collapsed": false
   }
  },
  {
   "cell_type": "code",
   "execution_count": null,
   "outputs": [],
   "source": [
    "y = data[\"OverallQual\"]\n",
    "X = data.drop([\"OverallQual\", 'SalePrice'], axis=1)\n",
    "\n",
    "X_train, X_test, y_train, y_test = train_test_split(X, y, test_size=0.1,random_state=100, stratify=y )\n",
    "\n",
    "ridge = RidgeCV()\n",
    "ridge.fit(X_train, y_train)\n",
    "print(ridge.score(X_test, y_test))\n",
    "y_pred = ridge.predict(X)\n",
    "y_score = get_score(ridge, X, y)\n",
    "y_correct = get_truthful_values(y_score)"
   ],
   "metadata": {
    "collapsed": false
   }
  },
  {
   "cell_type": "code",
   "execution_count": null,
   "outputs": [],
   "source": [
    "'''\n",
    "Experiment:\n",
    "- Original dataset, get doubtful value\n",
    "- Corrupt this attrubute (the non-doubtful)\n",
    "- See if the model discover the pattern.5\n",
    "'''\n",
    "\n",
    "explainer = shap.Explainer(ridge, X, algorithm=\"linear\", seed=100)\n",
    "shap_values = explainer(X)\n"
   ],
   "metadata": {
    "collapsed": false
   }
  },
  {
   "cell_type": "code",
   "execution_count": null,
   "outputs": [],
   "source": [
    "data_correct = data.iloc[y_correct.index]\n",
    "data_correct['data_index'] = data_correct.index\n",
    "data_correct = data_correct.reset_index(drop=True)\n",
    "data_correct['index'] = data_correct.index\n",
    "data_correct.set_index(['index', 'data_index'], inplace=True)"
   ],
   "metadata": {
    "collapsed": false
   }
  },
  {
   "cell_type": "code",
   "execution_count": null,
   "outputs": [],
   "source": [
    "corruption_list = []\n",
    "old_new_value = []\n",
    "OverallQual_sample_fraction = 0.03\n",
    "for i in data_correct.sample(frac = OverallQual_sample_fraction).index:\n",
    "    old = data_correct.loc[i, 'OverallQual']\n",
    "    new = np.random.randint(1, 11, 1)[0]\n",
    "    while abs(old - new) < 3:\n",
    "        new = np.random.randint(1, 11, 1)[0]\n",
    "    data_correct.loc[i, 'OverallQual'] = new\n",
    "    corruption_list.append(i)\n",
    "    old_new_value.append((old, new))\n"
   ],
   "metadata": {
    "collapsed": false
   }
  },
  {
   "cell_type": "code",
   "execution_count": null,
   "outputs": [],
   "source": [
    "y_corrupted = data_correct[\"OverallQual\"]\n",
    "X_corrupted = data_correct.drop([\"OverallQual\", 'SalePrice'], axis=1)\n",
    "\n",
    "X_train, X_test, y_train, y_test = train_test_split(X_corrupted, y_corrupted, test_size=0.1,random_state=1)\n",
    "\n",
    "ridge = RidgeCV()\n",
    "ridge.fit(X_train, y_train)\n",
    "print(ridge.score(X_test, y_test))\n",
    "\n"
   ],
   "metadata": {
    "collapsed": false
   }
  },
  {
   "cell_type": "code",
   "execution_count": 22,
   "outputs": [
    {
     "name": "stderr",
     "output_type": "stream",
     "text": [
      "\n",
      "A value is trying to be set on a copy of a slice from a DataFrame.\n",
      "Try using .loc[row_indexer,col_indexer] = value instead\n",
      "\n",
      "See the caveats in the documentation: https://pandas.pydata.org/pandas-docs/stable/user_guide/indexing.html#returning-a-view-versus-a-copy\n",
      "\n",
      "A value is trying to be set on a copy of a slice from a DataFrame.\n",
      "Try using .loc[row_indexer,col_indexer] = value instead\n",
      "\n",
      "See the caveats in the documentation: https://pandas.pydata.org/pandas-docs/stable/user_guide/indexing.html#returning-a-view-versus-a-copy\n",
      "\n",
      "A value is trying to be set on a copy of a slice from a DataFrame.\n",
      "Try using .loc[row_indexer,col_indexer] = value instead\n",
      "\n",
      "See the caveats in the documentation: https://pandas.pydata.org/pandas-docs/stable/user_guide/indexing.html#returning-a-view-versus-a-copy\n"
     ]
    },
    {
     "data": {
      "text/plain": "      Prediction  GroundTruth  AbsoluteError  OrgGroundTruth  Corrupted  \\\n13      7.661861            4       3.661861               7       True   \n57      7.808176            5       2.808176               7       True   \n74      5.259113            2       3.259113               3       True   \n82      7.716001            4       3.716001               8       True   \n97      6.751688            1       5.751688               4       True   \n122     7.351806           10       2.648194               6       True   \n132     5.025599            8       2.974401               5       True   \n150     6.460713           10       3.539287               5       True   \n155     5.651058            2       3.651058               6       True   \n192     7.098166           10       2.901834               7       True   \n194     8.855968            5       3.855968               5      False   \n239     4.866072            2       2.866072               6       True   \n257     5.655066            2       3.655066               7       True   \n313     7.009524            2       5.009524               7       True   \n392     5.983246            3       2.983246               5       True   \n505     5.410734           10       4.589266               5       True   \n510     7.509497            3       4.509497               5       True   \n511     6.342800            1       5.342800               7       True   \n533     5.283529            9       3.716471               1       True   \n547     7.480915            4       3.480915               5       True   \n548     7.748349            4       3.748349               5       True   \n554     6.792166            4       2.792166               7       True   \n582     5.820904            3       2.820904               6       True   \n593     7.289472           10       2.710528               6       True   \n641     5.243468            8       2.756532               7       True   \n644     5.442893            8       2.557107               9       True   \n666     5.559681           10       4.440319               6       True   \n676     5.044404            8       2.955596               4       True   \n696     7.059438            3       4.059438               5       True   \n780     7.194026            2       5.194026               7       True   \n824     6.862250            4       2.862250               8       True   \n844     5.713184           10       4.286816               5       True   \n956     5.297995            8       2.702005               6       True   \n981     5.317158            8       2.682842               8      False   \n996     5.210316            3       2.210316               5       True   \n999     5.625329            9       3.374671               7       True   \n1140    5.112716            9       3.887284               5       True   \n1246    7.842557            4       3.842557               7       True   \n1247    7.495526            2       5.495526               6       True   \n1341    5.924501           10       4.075499               6       True   \n1369    5.195625            2       3.195625               8       True   \n1373    7.190756           10       2.809244              10      False   \n1403    5.734327            9       3.265673               8       True   \n1428    9.182726            3       6.182726               5       True   \n1532    6.644423            2       4.644423               5       True   \n1536    7.133002            4       3.133002               2       True   \n1566    5.647130            9       3.352870               6       True   \n\n      OrgPredict  \n13      7.602317  \n57      6.917212  \n74      4.793183  \n82      7.155262  \n97      5.320496  \n122     5.056919  \n132     5.460865  \n150     5.087732  \n155     4.353812  \n192     6.913467  \n194     4.982176  \n239     4.841027  \n257     7.383341  \n313     6.227320  \n392     4.721713  \n505     5.278622  \n510     5.884928  \n511     7.198678  \n533     2.352690  \n547     5.174540  \n548     5.163461  \n554     7.347556  \n582     4.569172  \n593     6.610216  \n641     7.113407  \n644     8.928477  \n666     4.529491  \n676     4.570598  \n696     4.717116  \n780     6.266451  \n824     7.220024  \n844     6.214017  \n956     5.734654  \n981     8.093350  \n996     5.143922  \n999     6.896069  \n1140    4.951298  \n1246    6.853031  \n1247    5.622837  \n1341    5.710221  \n1369    7.276097  \n1373    9.297857  \n1403    7.219957  \n1428    5.969281  \n1532    5.527902  \n1536    4.402618  \n1566    6.515844  ",
      "text/html": "<div>\n<style scoped>\n    .dataframe tbody tr th:only-of-type {\n        vertical-align: middle;\n    }\n\n    .dataframe tbody tr th {\n        vertical-align: top;\n    }\n\n    .dataframe thead th {\n        text-align: right;\n    }\n</style>\n<table border=\"1\" class=\"dataframe\">\n  <thead>\n    <tr style=\"text-align: right;\">\n      <th></th>\n      <th>Prediction</th>\n      <th>GroundTruth</th>\n      <th>AbsoluteError</th>\n      <th>OrgGroundTruth</th>\n      <th>Corrupted</th>\n      <th>OrgPredict</th>\n    </tr>\n  </thead>\n  <tbody>\n    <tr>\n      <th>13</th>\n      <td>7.661861</td>\n      <td>4</td>\n      <td>3.661861</td>\n      <td>7</td>\n      <td>True</td>\n      <td>7.602317</td>\n    </tr>\n    <tr>\n      <th>57</th>\n      <td>7.808176</td>\n      <td>5</td>\n      <td>2.808176</td>\n      <td>7</td>\n      <td>True</td>\n      <td>6.917212</td>\n    </tr>\n    <tr>\n      <th>74</th>\n      <td>5.259113</td>\n      <td>2</td>\n      <td>3.259113</td>\n      <td>3</td>\n      <td>True</td>\n      <td>4.793183</td>\n    </tr>\n    <tr>\n      <th>82</th>\n      <td>7.716001</td>\n      <td>4</td>\n      <td>3.716001</td>\n      <td>8</td>\n      <td>True</td>\n      <td>7.155262</td>\n    </tr>\n    <tr>\n      <th>97</th>\n      <td>6.751688</td>\n      <td>1</td>\n      <td>5.751688</td>\n      <td>4</td>\n      <td>True</td>\n      <td>5.320496</td>\n    </tr>\n    <tr>\n      <th>122</th>\n      <td>7.351806</td>\n      <td>10</td>\n      <td>2.648194</td>\n      <td>6</td>\n      <td>True</td>\n      <td>5.056919</td>\n    </tr>\n    <tr>\n      <th>132</th>\n      <td>5.025599</td>\n      <td>8</td>\n      <td>2.974401</td>\n      <td>5</td>\n      <td>True</td>\n      <td>5.460865</td>\n    </tr>\n    <tr>\n      <th>150</th>\n      <td>6.460713</td>\n      <td>10</td>\n      <td>3.539287</td>\n      <td>5</td>\n      <td>True</td>\n      <td>5.087732</td>\n    </tr>\n    <tr>\n      <th>155</th>\n      <td>5.651058</td>\n      <td>2</td>\n      <td>3.651058</td>\n      <td>6</td>\n      <td>True</td>\n      <td>4.353812</td>\n    </tr>\n    <tr>\n      <th>192</th>\n      <td>7.098166</td>\n      <td>10</td>\n      <td>2.901834</td>\n      <td>7</td>\n      <td>True</td>\n      <td>6.913467</td>\n    </tr>\n    <tr>\n      <th>194</th>\n      <td>8.855968</td>\n      <td>5</td>\n      <td>3.855968</td>\n      <td>5</td>\n      <td>False</td>\n      <td>4.982176</td>\n    </tr>\n    <tr>\n      <th>239</th>\n      <td>4.866072</td>\n      <td>2</td>\n      <td>2.866072</td>\n      <td>6</td>\n      <td>True</td>\n      <td>4.841027</td>\n    </tr>\n    <tr>\n      <th>257</th>\n      <td>5.655066</td>\n      <td>2</td>\n      <td>3.655066</td>\n      <td>7</td>\n      <td>True</td>\n      <td>7.383341</td>\n    </tr>\n    <tr>\n      <th>313</th>\n      <td>7.009524</td>\n      <td>2</td>\n      <td>5.009524</td>\n      <td>7</td>\n      <td>True</td>\n      <td>6.227320</td>\n    </tr>\n    <tr>\n      <th>392</th>\n      <td>5.983246</td>\n      <td>3</td>\n      <td>2.983246</td>\n      <td>5</td>\n      <td>True</td>\n      <td>4.721713</td>\n    </tr>\n    <tr>\n      <th>505</th>\n      <td>5.410734</td>\n      <td>10</td>\n      <td>4.589266</td>\n      <td>5</td>\n      <td>True</td>\n      <td>5.278622</td>\n    </tr>\n    <tr>\n      <th>510</th>\n      <td>7.509497</td>\n      <td>3</td>\n      <td>4.509497</td>\n      <td>5</td>\n      <td>True</td>\n      <td>5.884928</td>\n    </tr>\n    <tr>\n      <th>511</th>\n      <td>6.342800</td>\n      <td>1</td>\n      <td>5.342800</td>\n      <td>7</td>\n      <td>True</td>\n      <td>7.198678</td>\n    </tr>\n    <tr>\n      <th>533</th>\n      <td>5.283529</td>\n      <td>9</td>\n      <td>3.716471</td>\n      <td>1</td>\n      <td>True</td>\n      <td>2.352690</td>\n    </tr>\n    <tr>\n      <th>547</th>\n      <td>7.480915</td>\n      <td>4</td>\n      <td>3.480915</td>\n      <td>5</td>\n      <td>True</td>\n      <td>5.174540</td>\n    </tr>\n    <tr>\n      <th>548</th>\n      <td>7.748349</td>\n      <td>4</td>\n      <td>3.748349</td>\n      <td>5</td>\n      <td>True</td>\n      <td>5.163461</td>\n    </tr>\n    <tr>\n      <th>554</th>\n      <td>6.792166</td>\n      <td>4</td>\n      <td>2.792166</td>\n      <td>7</td>\n      <td>True</td>\n      <td>7.347556</td>\n    </tr>\n    <tr>\n      <th>582</th>\n      <td>5.820904</td>\n      <td>3</td>\n      <td>2.820904</td>\n      <td>6</td>\n      <td>True</td>\n      <td>4.569172</td>\n    </tr>\n    <tr>\n      <th>593</th>\n      <td>7.289472</td>\n      <td>10</td>\n      <td>2.710528</td>\n      <td>6</td>\n      <td>True</td>\n      <td>6.610216</td>\n    </tr>\n    <tr>\n      <th>641</th>\n      <td>5.243468</td>\n      <td>8</td>\n      <td>2.756532</td>\n      <td>7</td>\n      <td>True</td>\n      <td>7.113407</td>\n    </tr>\n    <tr>\n      <th>644</th>\n      <td>5.442893</td>\n      <td>8</td>\n      <td>2.557107</td>\n      <td>9</td>\n      <td>True</td>\n      <td>8.928477</td>\n    </tr>\n    <tr>\n      <th>666</th>\n      <td>5.559681</td>\n      <td>10</td>\n      <td>4.440319</td>\n      <td>6</td>\n      <td>True</td>\n      <td>4.529491</td>\n    </tr>\n    <tr>\n      <th>676</th>\n      <td>5.044404</td>\n      <td>8</td>\n      <td>2.955596</td>\n      <td>4</td>\n      <td>True</td>\n      <td>4.570598</td>\n    </tr>\n    <tr>\n      <th>696</th>\n      <td>7.059438</td>\n      <td>3</td>\n      <td>4.059438</td>\n      <td>5</td>\n      <td>True</td>\n      <td>4.717116</td>\n    </tr>\n    <tr>\n      <th>780</th>\n      <td>7.194026</td>\n      <td>2</td>\n      <td>5.194026</td>\n      <td>7</td>\n      <td>True</td>\n      <td>6.266451</td>\n    </tr>\n    <tr>\n      <th>824</th>\n      <td>6.862250</td>\n      <td>4</td>\n      <td>2.862250</td>\n      <td>8</td>\n      <td>True</td>\n      <td>7.220024</td>\n    </tr>\n    <tr>\n      <th>844</th>\n      <td>5.713184</td>\n      <td>10</td>\n      <td>4.286816</td>\n      <td>5</td>\n      <td>True</td>\n      <td>6.214017</td>\n    </tr>\n    <tr>\n      <th>956</th>\n      <td>5.297995</td>\n      <td>8</td>\n      <td>2.702005</td>\n      <td>6</td>\n      <td>True</td>\n      <td>5.734654</td>\n    </tr>\n    <tr>\n      <th>981</th>\n      <td>5.317158</td>\n      <td>8</td>\n      <td>2.682842</td>\n      <td>8</td>\n      <td>False</td>\n      <td>8.093350</td>\n    </tr>\n    <tr>\n      <th>996</th>\n      <td>5.210316</td>\n      <td>3</td>\n      <td>2.210316</td>\n      <td>5</td>\n      <td>True</td>\n      <td>5.143922</td>\n    </tr>\n    <tr>\n      <th>999</th>\n      <td>5.625329</td>\n      <td>9</td>\n      <td>3.374671</td>\n      <td>7</td>\n      <td>True</td>\n      <td>6.896069</td>\n    </tr>\n    <tr>\n      <th>1140</th>\n      <td>5.112716</td>\n      <td>9</td>\n      <td>3.887284</td>\n      <td>5</td>\n      <td>True</td>\n      <td>4.951298</td>\n    </tr>\n    <tr>\n      <th>1246</th>\n      <td>7.842557</td>\n      <td>4</td>\n      <td>3.842557</td>\n      <td>7</td>\n      <td>True</td>\n      <td>6.853031</td>\n    </tr>\n    <tr>\n      <th>1247</th>\n      <td>7.495526</td>\n      <td>2</td>\n      <td>5.495526</td>\n      <td>6</td>\n      <td>True</td>\n      <td>5.622837</td>\n    </tr>\n    <tr>\n      <th>1341</th>\n      <td>5.924501</td>\n      <td>10</td>\n      <td>4.075499</td>\n      <td>6</td>\n      <td>True</td>\n      <td>5.710221</td>\n    </tr>\n    <tr>\n      <th>1369</th>\n      <td>5.195625</td>\n      <td>2</td>\n      <td>3.195625</td>\n      <td>8</td>\n      <td>True</td>\n      <td>7.276097</td>\n    </tr>\n    <tr>\n      <th>1373</th>\n      <td>7.190756</td>\n      <td>10</td>\n      <td>2.809244</td>\n      <td>10</td>\n      <td>False</td>\n      <td>9.297857</td>\n    </tr>\n    <tr>\n      <th>1403</th>\n      <td>5.734327</td>\n      <td>9</td>\n      <td>3.265673</td>\n      <td>8</td>\n      <td>True</td>\n      <td>7.219957</td>\n    </tr>\n    <tr>\n      <th>1428</th>\n      <td>9.182726</td>\n      <td>3</td>\n      <td>6.182726</td>\n      <td>5</td>\n      <td>True</td>\n      <td>5.969281</td>\n    </tr>\n    <tr>\n      <th>1532</th>\n      <td>6.644423</td>\n      <td>2</td>\n      <td>4.644423</td>\n      <td>5</td>\n      <td>True</td>\n      <td>5.527902</td>\n    </tr>\n    <tr>\n      <th>1536</th>\n      <td>7.133002</td>\n      <td>4</td>\n      <td>3.133002</td>\n      <td>2</td>\n      <td>True</td>\n      <td>4.402618</td>\n    </tr>\n    <tr>\n      <th>1566</th>\n      <td>5.647130</td>\n      <td>9</td>\n      <td>3.352870</td>\n      <td>6</td>\n      <td>True</td>\n      <td>6.515844</td>\n    </tr>\n  </tbody>\n</table>\n</div>"
     },
     "execution_count": 22,
     "metadata": {},
     "output_type": "execute_result"
    }
   ],
   "source": [
    "y_corrupted_score = get_score(ridge, X_corrupted, y_corrupted)\n",
    "y_corrupted_doubt = get_doubtful_values(y_corrupted_score)\n",
    "y_corrupted_doubt['OrgGroundTruth'] = y[y_corrupted_doubt.index]\n",
    "y_corrupted_doubt['Corrupted'] = y_corrupted_doubt['OrgGroundTruth'] != y_corrupted_doubt['GroundTruth']\n",
    "y_corrupted_doubt['OrgPredict'] = y_score.loc[y_corrupted_doubt.index]['Prediction']\n",
    "\n",
    "y_corrupted_doubt"
   ],
   "metadata": {
    "collapsed": false,
    "ExecuteTime": {
     "end_time": "2023-06-15T21:43:22.734479Z",
     "start_time": "2023-06-15T21:43:22.703471Z"
    }
   }
  },
  {
   "cell_type": "code",
   "execution_count": 23,
   "outputs": [
    {
     "data": {
      "text/plain": "      Prediction  GroundTruth  AbsoluteError  OrgGroundTruth  Corrupted  \\\n194     8.855968            5       3.855968               5      False   \n981     5.317158            8       2.682842               8      False   \n1373    7.190756           10       2.809244              10      False   \n\n      OrgPredict  \n194     4.982176  \n981     8.093350  \n1373    9.297857  ",
      "text/html": "<div>\n<style scoped>\n    .dataframe tbody tr th:only-of-type {\n        vertical-align: middle;\n    }\n\n    .dataframe tbody tr th {\n        vertical-align: top;\n    }\n\n    .dataframe thead th {\n        text-align: right;\n    }\n</style>\n<table border=\"1\" class=\"dataframe\">\n  <thead>\n    <tr style=\"text-align: right;\">\n      <th></th>\n      <th>Prediction</th>\n      <th>GroundTruth</th>\n      <th>AbsoluteError</th>\n      <th>OrgGroundTruth</th>\n      <th>Corrupted</th>\n      <th>OrgPredict</th>\n    </tr>\n  </thead>\n  <tbody>\n    <tr>\n      <th>194</th>\n      <td>8.855968</td>\n      <td>5</td>\n      <td>3.855968</td>\n      <td>5</td>\n      <td>False</td>\n      <td>4.982176</td>\n    </tr>\n    <tr>\n      <th>981</th>\n      <td>5.317158</td>\n      <td>8</td>\n      <td>2.682842</td>\n      <td>8</td>\n      <td>False</td>\n      <td>8.093350</td>\n    </tr>\n    <tr>\n      <th>1373</th>\n      <td>7.190756</td>\n      <td>10</td>\n      <td>2.809244</td>\n      <td>10</td>\n      <td>False</td>\n      <td>9.297857</td>\n    </tr>\n  </tbody>\n</table>\n</div>"
     },
     "execution_count": 23,
     "metadata": {},
     "output_type": "execute_result"
    }
   ],
   "source": [
    "y_corrupted_doubt[y_corrupted_doubt['Corrupted'] == False]"
   ],
   "metadata": {
    "collapsed": false,
    "ExecuteTime": {
     "end_time": "2023-06-15T21:46:53.906698Z",
     "start_time": "2023-06-15T21:46:53.900888Z"
    }
   }
  },
  {
   "cell_type": "code",
   "execution_count": null,
   "outputs": [],
   "source": [
    "explainer_corruption = shap.Explainer(ridge, X_corrupted, algorithm=\"linear\", seed=100)\n",
    "shap_values_corruption = explainer_corruption(X_corrupted)\n"
   ],
   "metadata": {
    "collapsed": false
   }
  }
 ],
 "metadata": {
  "kernelspec": {
   "display_name": "Python 3",
   "language": "python",
   "name": "python3"
  },
  "language_info": {
   "codemirror_mode": {
    "name": "ipython",
    "version": 2
   },
   "file_extension": ".py",
   "mimetype": "text/x-python",
   "name": "python",
   "nbconvert_exporter": "python",
   "pygments_lexer": "ipython2",
   "version": "2.7.6"
  }
 },
 "nbformat": 4,
 "nbformat_minor": 0
}
