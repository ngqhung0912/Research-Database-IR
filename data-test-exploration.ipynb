{
 "cells": [
  {
   "cell_type": "code",
   "execution_count": 1,
   "metadata": {},
   "outputs": [],
   "source": [
    "import pandas as pd\n",
    "import matplotlib.pyplot as plt\n",
    "import numpy as np\n",
    "from sklearn.tree import DecisionTreeClassifier\n",
    "from sklearn import datasets, model_selection\n",
    "from sklearn.ensemble import RandomForestClassifier\n",
    "import seaborn as sns\n",
    "from sklearn import preprocessing"
   ]
  },
  {
   "cell_type": "code",
   "execution_count": 8,
   "metadata": {},
   "outputs": [],
   "source": [
    "data = pd.read_csv(\"data/test.csv\")"
   ]
  },
  {
   "cell_type": "code",
   "execution_count": 9,
   "metadata": {},
   "outputs": [],
   "source": [
    "data = data.drop([\"Condition1\", \"Condition2\",\n",
    "                 \"MiscVal\", \"MiscFeature\", \"GarageYrBlt\",\n",
    "                 \"GarageCars\", \"GarageFinish\", \"GarageType\",\n",
    "                 \"Fireplaces\", \"FireplaceQu\", \"PavedDrive\", \"MasVnrArea\",\n",
    "                  \"MasVnrType\", \"1stFlrSF\", \"2ndFlrSF\", \"LowQualFinSF\",\n",
    "                  \"WoodDeckSF\", \"OpenPorchSF\", \"EnclosedPorch\", \"3SsnPorch\",\n",
    "                  \"ScreenPorch\", \"BsmtFinType1\", \"BsmtFinType2\",\n",
    "                  \"BsmtFinSF1\", \"BsmtFinSF2\", \"Id\", \"PoolQC\", \"Fence\", \"Alley\", \"PoolArea\",\n",
    "                  \"Exterior1st\", \"Exterior2nd\", \"BsmtExposure\", \"MoSold\", \"YrSold\", \"YearBuilt\"\n",
    "                  ], axis=1)"
   ]
  },
  {
   "cell_type": "code",
   "execution_count": 10,
   "metadata": {},
   "outputs": [],
   "source": [
    "data['bathrooms'] = data[[\"BsmtFullBath\", \"BsmtHalfBath\", \"FullBath\", \"HalfBath\"]].sum(axis=1)\n",
    "data = data.drop([\"BsmtFullBath\", \"BsmtHalfBath\", \"FullBath\", \"HalfBath\"], axis=1)\n"
   ]
  },
  {
   "cell_type": "code",
   "execution_count": 11,
   "outputs": [
    {
     "data": {
      "text/plain": "        MSSubClass  LotFrontage       LotArea  OverallQual  OverallCond  \\\ncount  1459.000000  1232.000000   1459.000000  1459.000000  1459.000000   \nmean     57.378341    68.580357   9819.161069     6.078821     5.553804   \nstd      42.746880    22.376841   4955.517327     1.436812     1.113740   \nmin      20.000000    21.000000   1470.000000     1.000000     1.000000   \n25%      20.000000    58.000000   7391.000000     5.000000     5.000000   \n50%      50.000000    67.000000   9399.000000     6.000000     5.000000   \n75%      70.000000    80.000000  11517.500000     7.000000     6.000000   \nmax     190.000000   200.000000  56600.000000    10.000000     9.000000   \n\n       YearRemodAdd    BsmtUnfSF  TotalBsmtSF    GrLivArea  BedroomAbvGr  \\\ncount   1459.000000  1458.000000  1458.000000  1459.000000   1459.000000   \nmean    1983.662783   554.294925  1046.117970  1486.045922      2.854010   \nstd       21.130467   437.260486   442.898624   485.566099      0.829788   \nmin     1950.000000     0.000000     0.000000   407.000000      0.000000   \n25%     1963.000000   219.250000   784.000000  1117.500000      2.000000   \n50%     1992.000000   460.000000   988.000000  1432.000000      3.000000   \n75%     2004.000000   797.750000  1305.000000  1721.000000      3.000000   \nmax     2010.000000  2140.000000  5095.000000  5095.000000      6.000000   \n\n       KitchenAbvGr  TotRmsAbvGrd   GarageArea    bathrooms  \ncount   1459.000000   1459.000000  1458.000000  1459.000000  \nmean       1.042495      6.385195   472.768861     2.447567  \nstd        0.208472      1.508895   217.048611     0.961801  \nmin        0.000000      3.000000     0.000000     1.000000  \n25%        1.000000      5.000000   318.000000     2.000000  \n50%        1.000000      6.000000   480.000000     2.000000  \n75%        1.000000      7.000000   576.000000     3.000000  \nmax        2.000000     15.000000  1488.000000     8.000000  ",
      "text/html": "<div>\n<style scoped>\n    .dataframe tbody tr th:only-of-type {\n        vertical-align: middle;\n    }\n\n    .dataframe tbody tr th {\n        vertical-align: top;\n    }\n\n    .dataframe thead th {\n        text-align: right;\n    }\n</style>\n<table border=\"1\" class=\"dataframe\">\n  <thead>\n    <tr style=\"text-align: right;\">\n      <th></th>\n      <th>MSSubClass</th>\n      <th>LotFrontage</th>\n      <th>LotArea</th>\n      <th>OverallQual</th>\n      <th>OverallCond</th>\n      <th>YearRemodAdd</th>\n      <th>BsmtUnfSF</th>\n      <th>TotalBsmtSF</th>\n      <th>GrLivArea</th>\n      <th>BedroomAbvGr</th>\n      <th>KitchenAbvGr</th>\n      <th>TotRmsAbvGrd</th>\n      <th>GarageArea</th>\n      <th>bathrooms</th>\n    </tr>\n  </thead>\n  <tbody>\n    <tr>\n      <th>count</th>\n      <td>1459.000000</td>\n      <td>1232.000000</td>\n      <td>1459.000000</td>\n      <td>1459.000000</td>\n      <td>1459.000000</td>\n      <td>1459.000000</td>\n      <td>1458.000000</td>\n      <td>1458.000000</td>\n      <td>1459.000000</td>\n      <td>1459.000000</td>\n      <td>1459.000000</td>\n      <td>1459.000000</td>\n      <td>1458.000000</td>\n      <td>1459.000000</td>\n    </tr>\n    <tr>\n      <th>mean</th>\n      <td>57.378341</td>\n      <td>68.580357</td>\n      <td>9819.161069</td>\n      <td>6.078821</td>\n      <td>5.553804</td>\n      <td>1983.662783</td>\n      <td>554.294925</td>\n      <td>1046.117970</td>\n      <td>1486.045922</td>\n      <td>2.854010</td>\n      <td>1.042495</td>\n      <td>6.385195</td>\n      <td>472.768861</td>\n      <td>2.447567</td>\n    </tr>\n    <tr>\n      <th>std</th>\n      <td>42.746880</td>\n      <td>22.376841</td>\n      <td>4955.517327</td>\n      <td>1.436812</td>\n      <td>1.113740</td>\n      <td>21.130467</td>\n      <td>437.260486</td>\n      <td>442.898624</td>\n      <td>485.566099</td>\n      <td>0.829788</td>\n      <td>0.208472</td>\n      <td>1.508895</td>\n      <td>217.048611</td>\n      <td>0.961801</td>\n    </tr>\n    <tr>\n      <th>min</th>\n      <td>20.000000</td>\n      <td>21.000000</td>\n      <td>1470.000000</td>\n      <td>1.000000</td>\n      <td>1.000000</td>\n      <td>1950.000000</td>\n      <td>0.000000</td>\n      <td>0.000000</td>\n      <td>407.000000</td>\n      <td>0.000000</td>\n      <td>0.000000</td>\n      <td>3.000000</td>\n      <td>0.000000</td>\n      <td>1.000000</td>\n    </tr>\n    <tr>\n      <th>25%</th>\n      <td>20.000000</td>\n      <td>58.000000</td>\n      <td>7391.000000</td>\n      <td>5.000000</td>\n      <td>5.000000</td>\n      <td>1963.000000</td>\n      <td>219.250000</td>\n      <td>784.000000</td>\n      <td>1117.500000</td>\n      <td>2.000000</td>\n      <td>1.000000</td>\n      <td>5.000000</td>\n      <td>318.000000</td>\n      <td>2.000000</td>\n    </tr>\n    <tr>\n      <th>50%</th>\n      <td>50.000000</td>\n      <td>67.000000</td>\n      <td>9399.000000</td>\n      <td>6.000000</td>\n      <td>5.000000</td>\n      <td>1992.000000</td>\n      <td>460.000000</td>\n      <td>988.000000</td>\n      <td>1432.000000</td>\n      <td>3.000000</td>\n      <td>1.000000</td>\n      <td>6.000000</td>\n      <td>480.000000</td>\n      <td>2.000000</td>\n    </tr>\n    <tr>\n      <th>75%</th>\n      <td>70.000000</td>\n      <td>80.000000</td>\n      <td>11517.500000</td>\n      <td>7.000000</td>\n      <td>6.000000</td>\n      <td>2004.000000</td>\n      <td>797.750000</td>\n      <td>1305.000000</td>\n      <td>1721.000000</td>\n      <td>3.000000</td>\n      <td>1.000000</td>\n      <td>7.000000</td>\n      <td>576.000000</td>\n      <td>3.000000</td>\n    </tr>\n    <tr>\n      <th>max</th>\n      <td>190.000000</td>\n      <td>200.000000</td>\n      <td>56600.000000</td>\n      <td>10.000000</td>\n      <td>9.000000</td>\n      <td>2010.000000</td>\n      <td>2140.000000</td>\n      <td>5095.000000</td>\n      <td>5095.000000</td>\n      <td>6.000000</td>\n      <td>2.000000</td>\n      <td>15.000000</td>\n      <td>1488.000000</td>\n      <td>8.000000</td>\n    </tr>\n  </tbody>\n</table>\n</div>"
     },
     "execution_count": 11,
     "metadata": {},
     "output_type": "execute_result"
    }
   ],
   "source": [
    "data.describe()"
   ],
   "metadata": {
    "collapsed": false
   }
  },
  {
   "cell_type": "code",
   "execution_count": 44,
   "metadata": {},
   "outputs": [],
   "source": [
    "# plt.figure(figsize=(9, 8))\n",
    "# sns.distplot(data['SalePrice'], color='g', bins=100, hist_kws={'alpha': 0.4});"
   ]
  },
  {
   "cell_type": "code",
   "execution_count": 13,
   "metadata": {},
   "outputs": [
    {
     "data": {
      "text/plain": "      LotFrontage  LotArea  OverallQual  OverallCond  YearRemodAdd  BsmtUnfSF  \\\n0            80.0    11622            5            6          1961      270.0   \n1            81.0    14267            6            6          1958      406.0   \n2            74.0    13830            5            5          1998      137.0   \n3            78.0     9978            6            6          1998      324.0   \n4            43.0     5005            8            5          1992     1017.0   \n...           ...      ...          ...          ...           ...        ...   \n1454         21.0     1936            4            7          1970      546.0   \n1455         21.0     1894            4            5          1970      294.0   \n1456        160.0    20000            5            7          1996        0.0   \n1457         62.0    10441            5            5          1992      575.0   \n1458         74.0     9627            7            5          1994      238.0   \n\n      TotalBsmtSF  GrLivArea  BedroomAbvGr  KitchenAbvGr  TotRmsAbvGrd  \\\n0           882.0        896             2             1             5   \n1          1329.0       1329             3             1             6   \n2           928.0       1629             3             1             6   \n3           926.0       1604             3             1             7   \n4          1280.0       1280             2             1             5   \n...           ...        ...           ...           ...           ...   \n1454        546.0       1092             3             1             5   \n1455        546.0       1092             3             1             6   \n1456       1224.0       1224             4             1             7   \n1457        912.0        970             3             1             6   \n1458        996.0       2000             3             1             9   \n\n      GarageArea  bathrooms  \n0          730.0        1.0  \n1          312.0        2.0  \n2          482.0        3.0  \n3          470.0        3.0  \n4          506.0        2.0  \n...          ...        ...  \n1454         0.0        2.0  \n1455       286.0        2.0  \n1456       576.0        2.0  \n1457         0.0        2.0  \n1458       650.0        3.0  \n\n[1459 rows x 13 columns]",
      "text/html": "<div>\n<style scoped>\n    .dataframe tbody tr th:only-of-type {\n        vertical-align: middle;\n    }\n\n    .dataframe tbody tr th {\n        vertical-align: top;\n    }\n\n    .dataframe thead th {\n        text-align: right;\n    }\n</style>\n<table border=\"1\" class=\"dataframe\">\n  <thead>\n    <tr style=\"text-align: right;\">\n      <th></th>\n      <th>LotFrontage</th>\n      <th>LotArea</th>\n      <th>OverallQual</th>\n      <th>OverallCond</th>\n      <th>YearRemodAdd</th>\n      <th>BsmtUnfSF</th>\n      <th>TotalBsmtSF</th>\n      <th>GrLivArea</th>\n      <th>BedroomAbvGr</th>\n      <th>KitchenAbvGr</th>\n      <th>TotRmsAbvGrd</th>\n      <th>GarageArea</th>\n      <th>bathrooms</th>\n    </tr>\n  </thead>\n  <tbody>\n    <tr>\n      <th>0</th>\n      <td>80.0</td>\n      <td>11622</td>\n      <td>5</td>\n      <td>6</td>\n      <td>1961</td>\n      <td>270.0</td>\n      <td>882.0</td>\n      <td>896</td>\n      <td>2</td>\n      <td>1</td>\n      <td>5</td>\n      <td>730.0</td>\n      <td>1.0</td>\n    </tr>\n    <tr>\n      <th>1</th>\n      <td>81.0</td>\n      <td>14267</td>\n      <td>6</td>\n      <td>6</td>\n      <td>1958</td>\n      <td>406.0</td>\n      <td>1329.0</td>\n      <td>1329</td>\n      <td>3</td>\n      <td>1</td>\n      <td>6</td>\n      <td>312.0</td>\n      <td>2.0</td>\n    </tr>\n    <tr>\n      <th>2</th>\n      <td>74.0</td>\n      <td>13830</td>\n      <td>5</td>\n      <td>5</td>\n      <td>1998</td>\n      <td>137.0</td>\n      <td>928.0</td>\n      <td>1629</td>\n      <td>3</td>\n      <td>1</td>\n      <td>6</td>\n      <td>482.0</td>\n      <td>3.0</td>\n    </tr>\n    <tr>\n      <th>3</th>\n      <td>78.0</td>\n      <td>9978</td>\n      <td>6</td>\n      <td>6</td>\n      <td>1998</td>\n      <td>324.0</td>\n      <td>926.0</td>\n      <td>1604</td>\n      <td>3</td>\n      <td>1</td>\n      <td>7</td>\n      <td>470.0</td>\n      <td>3.0</td>\n    </tr>\n    <tr>\n      <th>4</th>\n      <td>43.0</td>\n      <td>5005</td>\n      <td>8</td>\n      <td>5</td>\n      <td>1992</td>\n      <td>1017.0</td>\n      <td>1280.0</td>\n      <td>1280</td>\n      <td>2</td>\n      <td>1</td>\n      <td>5</td>\n      <td>506.0</td>\n      <td>2.0</td>\n    </tr>\n    <tr>\n      <th>...</th>\n      <td>...</td>\n      <td>...</td>\n      <td>...</td>\n      <td>...</td>\n      <td>...</td>\n      <td>...</td>\n      <td>...</td>\n      <td>...</td>\n      <td>...</td>\n      <td>...</td>\n      <td>...</td>\n      <td>...</td>\n      <td>...</td>\n    </tr>\n    <tr>\n      <th>1454</th>\n      <td>21.0</td>\n      <td>1936</td>\n      <td>4</td>\n      <td>7</td>\n      <td>1970</td>\n      <td>546.0</td>\n      <td>546.0</td>\n      <td>1092</td>\n      <td>3</td>\n      <td>1</td>\n      <td>5</td>\n      <td>0.0</td>\n      <td>2.0</td>\n    </tr>\n    <tr>\n      <th>1455</th>\n      <td>21.0</td>\n      <td>1894</td>\n      <td>4</td>\n      <td>5</td>\n      <td>1970</td>\n      <td>294.0</td>\n      <td>546.0</td>\n      <td>1092</td>\n      <td>3</td>\n      <td>1</td>\n      <td>6</td>\n      <td>286.0</td>\n      <td>2.0</td>\n    </tr>\n    <tr>\n      <th>1456</th>\n      <td>160.0</td>\n      <td>20000</td>\n      <td>5</td>\n      <td>7</td>\n      <td>1996</td>\n      <td>0.0</td>\n      <td>1224.0</td>\n      <td>1224</td>\n      <td>4</td>\n      <td>1</td>\n      <td>7</td>\n      <td>576.0</td>\n      <td>2.0</td>\n    </tr>\n    <tr>\n      <th>1457</th>\n      <td>62.0</td>\n      <td>10441</td>\n      <td>5</td>\n      <td>5</td>\n      <td>1992</td>\n      <td>575.0</td>\n      <td>912.0</td>\n      <td>970</td>\n      <td>3</td>\n      <td>1</td>\n      <td>6</td>\n      <td>0.0</td>\n      <td>2.0</td>\n    </tr>\n    <tr>\n      <th>1458</th>\n      <td>74.0</td>\n      <td>9627</td>\n      <td>7</td>\n      <td>5</td>\n      <td>1994</td>\n      <td>238.0</td>\n      <td>996.0</td>\n      <td>2000</td>\n      <td>3</td>\n      <td>1</td>\n      <td>9</td>\n      <td>650.0</td>\n      <td>3.0</td>\n    </tr>\n  </tbody>\n</table>\n<p>1459 rows × 13 columns</p>\n</div>"
     },
     "execution_count": 13,
     "metadata": {},
     "output_type": "execute_result"
    }
   ],
   "source": [
    "df_num = data.select_dtypes(include = ['float64', 'int64']).drop([\"MSSubClass\"], axis=1)\n",
    "df_num\n",
    "# df_num.hist(figsize=(16, 20), bins=50, xlabelsize=8, ylabelsize=8); # ; avoid having the matplotlib verbose information"
   ]
  },
  {
   "cell_type": "code",
   "execution_count": 46,
   "metadata": {},
   "outputs": [],
   "source": [
    "# df_num_corr = df_num.corr()['SalePrice'][:-1] # -1 because the latest row is SalePrice\n",
    "# golden_features_list = df_num_corr[abs(df_num_corr) > 0].sort_values(ascending=False)\n",
    "# print(\"There is {} strongly correlated values with SalePrice:\\n{}\".format(len(golden_features_list), golden_features_list))\n",
    "#"
   ]
  },
  {
   "cell_type": "code",
   "execution_count": 14,
   "metadata": {},
   "outputs": [
    {
     "ename": "KeyError",
     "evalue": "\"['SalePrice'] not in index\"",
     "output_type": "error",
     "traceback": [
      "\u001B[0;31m---------------------------------------------------------------------------\u001B[0m",
      "\u001B[0;31mKeyError\u001B[0m                                  Traceback (most recent call last)",
      "Cell \u001B[0;32mIn[14], line 2\u001B[0m\n\u001B[1;32m      1\u001B[0m \u001B[38;5;28;01mfor\u001B[39;00m i \u001B[38;5;129;01min\u001B[39;00m \u001B[38;5;28mrange\u001B[39m(\u001B[38;5;241m0\u001B[39m, \u001B[38;5;28mlen\u001B[39m(df_num\u001B[38;5;241m.\u001B[39mcolumns), \u001B[38;5;241m5\u001B[39m):\n\u001B[0;32m----> 2\u001B[0m     \u001B[43msns\u001B[49m\u001B[38;5;241;43m.\u001B[39;49m\u001B[43mpairplot\u001B[49m\u001B[43m(\u001B[49m\u001B[43mdata\u001B[49m\u001B[38;5;241;43m=\u001B[39;49m\u001B[43mdf_num\u001B[49m\u001B[43m,\u001B[49m\n\u001B[1;32m      3\u001B[0m \u001B[43m                \u001B[49m\u001B[43mx_vars\u001B[49m\u001B[38;5;241;43m=\u001B[39;49m\u001B[43mdf_num\u001B[49m\u001B[38;5;241;43m.\u001B[39;49m\u001B[43mcolumns\u001B[49m\u001B[43m[\u001B[49m\u001B[43mi\u001B[49m\u001B[43m:\u001B[49m\u001B[43mi\u001B[49m\u001B[38;5;241;43m+\u001B[39;49m\u001B[38;5;241;43m5\u001B[39;49m\u001B[43m]\u001B[49m\u001B[43m,\u001B[49m\n\u001B[1;32m      4\u001B[0m \u001B[43m                \u001B[49m\u001B[43my_vars\u001B[49m\u001B[38;5;241;43m=\u001B[39;49m\u001B[43m[\u001B[49m\u001B[38;5;124;43m'\u001B[39;49m\u001B[38;5;124;43mSalePrice\u001B[39;49m\u001B[38;5;124;43m'\u001B[39;49m\u001B[43m]\u001B[49m\u001B[43m)\u001B[49m\n",
      "File \u001B[0;32m~/miniforge3/envs/REDI/lib/python3.10/site-packages/seaborn/axisgrid.py:2158\u001B[0m, in \u001B[0;36mpairplot\u001B[0;34m(data, hue, hue_order, palette, vars, x_vars, y_vars, kind, diag_kind, markers, height, aspect, corner, dropna, plot_kws, diag_kws, grid_kws, size)\u001B[0m\n\u001B[1;32m   2156\u001B[0m \u001B[38;5;28;01mif\u001B[39;00m kind \u001B[38;5;241m==\u001B[39m \u001B[38;5;124m\"\u001B[39m\u001B[38;5;124mscatter\u001B[39m\u001B[38;5;124m\"\u001B[39m:\n\u001B[1;32m   2157\u001B[0m     \u001B[38;5;28;01mfrom\u001B[39;00m \u001B[38;5;21;01m.\u001B[39;00m\u001B[38;5;21;01mrelational\u001B[39;00m \u001B[38;5;28;01mimport\u001B[39;00m scatterplot  \u001B[38;5;66;03m# Avoid circular import\u001B[39;00m\n\u001B[0;32m-> 2158\u001B[0m     \u001B[43mplotter\u001B[49m\u001B[43m(\u001B[49m\u001B[43mscatterplot\u001B[49m\u001B[43m,\u001B[49m\u001B[43m \u001B[49m\u001B[38;5;241;43m*\u001B[39;49m\u001B[38;5;241;43m*\u001B[39;49m\u001B[43mplot_kws\u001B[49m\u001B[43m)\u001B[49m\n\u001B[1;32m   2159\u001B[0m \u001B[38;5;28;01melif\u001B[39;00m kind \u001B[38;5;241m==\u001B[39m \u001B[38;5;124m\"\u001B[39m\u001B[38;5;124mreg\u001B[39m\u001B[38;5;124m\"\u001B[39m:\n\u001B[1;32m   2160\u001B[0m     \u001B[38;5;28;01mfrom\u001B[39;00m \u001B[38;5;21;01m.\u001B[39;00m\u001B[38;5;21;01mregression\u001B[39;00m \u001B[38;5;28;01mimport\u001B[39;00m regplot  \u001B[38;5;66;03m# Avoid circular import\u001B[39;00m\n",
      "File \u001B[0;32m~/miniforge3/envs/REDI/lib/python3.10/site-packages/seaborn/axisgrid.py:1428\u001B[0m, in \u001B[0;36mPairGrid.map_offdiag\u001B[0;34m(self, func, **kwargs)\u001B[0m\n\u001B[1;32m   1426\u001B[0m             \u001B[38;5;28;01mif\u001B[39;00m x_var \u001B[38;5;241m!=\u001B[39m y_var:\n\u001B[1;32m   1427\u001B[0m                 indices\u001B[38;5;241m.\u001B[39mappend((i, j))\n\u001B[0;32m-> 1428\u001B[0m     \u001B[38;5;28;43mself\u001B[39;49m\u001B[38;5;241;43m.\u001B[39;49m\u001B[43m_map_bivariate\u001B[49m\u001B[43m(\u001B[49m\u001B[43mfunc\u001B[49m\u001B[43m,\u001B[49m\u001B[43m \u001B[49m\u001B[43mindices\u001B[49m\u001B[43m,\u001B[49m\u001B[43m \u001B[49m\u001B[38;5;241;43m*\u001B[39;49m\u001B[38;5;241;43m*\u001B[39;49m\u001B[43mkwargs\u001B[49m\u001B[43m)\u001B[49m\n\u001B[1;32m   1429\u001B[0m \u001B[38;5;28;01mreturn\u001B[39;00m \u001B[38;5;28mself\u001B[39m\n",
      "File \u001B[0;32m~/miniforge3/envs/REDI/lib/python3.10/site-packages/seaborn/axisgrid.py:1568\u001B[0m, in \u001B[0;36mPairGrid._map_bivariate\u001B[0;34m(self, func, indices, **kwargs)\u001B[0m\n\u001B[1;32m   1566\u001B[0m     \u001B[38;5;28;01mif\u001B[39;00m ax \u001B[38;5;129;01mis\u001B[39;00m \u001B[38;5;28;01mNone\u001B[39;00m:  \u001B[38;5;66;03m# i.e. we are in corner mode\u001B[39;00m\n\u001B[1;32m   1567\u001B[0m         \u001B[38;5;28;01mcontinue\u001B[39;00m\n\u001B[0;32m-> 1568\u001B[0m     \u001B[38;5;28;43mself\u001B[39;49m\u001B[38;5;241;43m.\u001B[39;49m\u001B[43m_plot_bivariate\u001B[49m\u001B[43m(\u001B[49m\u001B[43mx_var\u001B[49m\u001B[43m,\u001B[49m\u001B[43m \u001B[49m\u001B[43my_var\u001B[49m\u001B[43m,\u001B[49m\u001B[43m \u001B[49m\u001B[43max\u001B[49m\u001B[43m,\u001B[49m\u001B[43m \u001B[49m\u001B[43mfunc\u001B[49m\u001B[43m,\u001B[49m\u001B[43m \u001B[49m\u001B[38;5;241;43m*\u001B[39;49m\u001B[38;5;241;43m*\u001B[39;49m\u001B[43mkws\u001B[49m\u001B[43m)\u001B[49m\n\u001B[1;32m   1569\u001B[0m \u001B[38;5;28mself\u001B[39m\u001B[38;5;241m.\u001B[39m_add_axis_labels()\n\u001B[1;32m   1571\u001B[0m \u001B[38;5;28;01mif\u001B[39;00m \u001B[38;5;124m\"\u001B[39m\u001B[38;5;124mhue\u001B[39m\u001B[38;5;124m\"\u001B[39m \u001B[38;5;129;01min\u001B[39;00m signature(func)\u001B[38;5;241m.\u001B[39mparameters:\n",
      "File \u001B[0;32m~/miniforge3/envs/REDI/lib/python3.10/site-packages/seaborn/axisgrid.py:1594\u001B[0m, in \u001B[0;36mPairGrid._plot_bivariate\u001B[0;34m(self, x_var, y_var, ax, func, **kwargs)\u001B[0m\n\u001B[1;32m   1591\u001B[0m \u001B[38;5;28;01mif\u001B[39;00m \u001B[38;5;28mself\u001B[39m\u001B[38;5;241m.\u001B[39m_hue_var \u001B[38;5;129;01mis\u001B[39;00m \u001B[38;5;129;01mnot\u001B[39;00m \u001B[38;5;28;01mNone\u001B[39;00m \u001B[38;5;129;01mand\u001B[39;00m \u001B[38;5;28mself\u001B[39m\u001B[38;5;241m.\u001B[39m_hue_var \u001B[38;5;129;01mnot\u001B[39;00m \u001B[38;5;129;01min\u001B[39;00m axes_vars:\n\u001B[1;32m   1592\u001B[0m     axes_vars\u001B[38;5;241m.\u001B[39mappend(\u001B[38;5;28mself\u001B[39m\u001B[38;5;241m.\u001B[39m_hue_var)\n\u001B[0;32m-> 1594\u001B[0m data \u001B[38;5;241m=\u001B[39m \u001B[38;5;28;43mself\u001B[39;49m\u001B[38;5;241;43m.\u001B[39;49m\u001B[43mdata\u001B[49m\u001B[43m[\u001B[49m\u001B[43maxes_vars\u001B[49m\u001B[43m]\u001B[49m\n\u001B[1;32m   1595\u001B[0m \u001B[38;5;28;01mif\u001B[39;00m \u001B[38;5;28mself\u001B[39m\u001B[38;5;241m.\u001B[39m_dropna:\n\u001B[1;32m   1596\u001B[0m     data \u001B[38;5;241m=\u001B[39m data\u001B[38;5;241m.\u001B[39mdropna()\n",
      "File \u001B[0;32m~/miniforge3/envs/REDI/lib/python3.10/site-packages/pandas/core/frame.py:3813\u001B[0m, in \u001B[0;36mDataFrame.__getitem__\u001B[0;34m(self, key)\u001B[0m\n\u001B[1;32m   3811\u001B[0m     \u001B[38;5;28;01mif\u001B[39;00m is_iterator(key):\n\u001B[1;32m   3812\u001B[0m         key \u001B[38;5;241m=\u001B[39m \u001B[38;5;28mlist\u001B[39m(key)\n\u001B[0;32m-> 3813\u001B[0m     indexer \u001B[38;5;241m=\u001B[39m \u001B[38;5;28;43mself\u001B[39;49m\u001B[38;5;241;43m.\u001B[39;49m\u001B[43mcolumns\u001B[49m\u001B[38;5;241;43m.\u001B[39;49m\u001B[43m_get_indexer_strict\u001B[49m\u001B[43m(\u001B[49m\u001B[43mkey\u001B[49m\u001B[43m,\u001B[49m\u001B[43m \u001B[49m\u001B[38;5;124;43m\"\u001B[39;49m\u001B[38;5;124;43mcolumns\u001B[39;49m\u001B[38;5;124;43m\"\u001B[39;49m\u001B[43m)\u001B[49m[\u001B[38;5;241m1\u001B[39m]\n\u001B[1;32m   3815\u001B[0m \u001B[38;5;66;03m# take() does not accept boolean indexers\u001B[39;00m\n\u001B[1;32m   3816\u001B[0m \u001B[38;5;28;01mif\u001B[39;00m \u001B[38;5;28mgetattr\u001B[39m(indexer, \u001B[38;5;124m\"\u001B[39m\u001B[38;5;124mdtype\u001B[39m\u001B[38;5;124m\"\u001B[39m, \u001B[38;5;28;01mNone\u001B[39;00m) \u001B[38;5;241m==\u001B[39m \u001B[38;5;28mbool\u001B[39m:\n",
      "File \u001B[0;32m~/miniforge3/envs/REDI/lib/python3.10/site-packages/pandas/core/indexes/base.py:6070\u001B[0m, in \u001B[0;36mIndex._get_indexer_strict\u001B[0;34m(self, key, axis_name)\u001B[0m\n\u001B[1;32m   6067\u001B[0m \u001B[38;5;28;01melse\u001B[39;00m:\n\u001B[1;32m   6068\u001B[0m     keyarr, indexer, new_indexer \u001B[38;5;241m=\u001B[39m \u001B[38;5;28mself\u001B[39m\u001B[38;5;241m.\u001B[39m_reindex_non_unique(keyarr)\n\u001B[0;32m-> 6070\u001B[0m \u001B[38;5;28;43mself\u001B[39;49m\u001B[38;5;241;43m.\u001B[39;49m\u001B[43m_raise_if_missing\u001B[49m\u001B[43m(\u001B[49m\u001B[43mkeyarr\u001B[49m\u001B[43m,\u001B[49m\u001B[43m \u001B[49m\u001B[43mindexer\u001B[49m\u001B[43m,\u001B[49m\u001B[43m \u001B[49m\u001B[43maxis_name\u001B[49m\u001B[43m)\u001B[49m\n\u001B[1;32m   6072\u001B[0m keyarr \u001B[38;5;241m=\u001B[39m \u001B[38;5;28mself\u001B[39m\u001B[38;5;241m.\u001B[39mtake(indexer)\n\u001B[1;32m   6073\u001B[0m \u001B[38;5;28;01mif\u001B[39;00m \u001B[38;5;28misinstance\u001B[39m(key, Index):\n\u001B[1;32m   6074\u001B[0m     \u001B[38;5;66;03m# GH 42790 - Preserve name from an Index\u001B[39;00m\n",
      "File \u001B[0;32m~/miniforge3/envs/REDI/lib/python3.10/site-packages/pandas/core/indexes/base.py:6133\u001B[0m, in \u001B[0;36mIndex._raise_if_missing\u001B[0;34m(self, key, indexer, axis_name)\u001B[0m\n\u001B[1;32m   6130\u001B[0m     \u001B[38;5;28;01mraise\u001B[39;00m \u001B[38;5;167;01mKeyError\u001B[39;00m(\u001B[38;5;124mf\u001B[39m\u001B[38;5;124m\"\u001B[39m\u001B[38;5;124mNone of [\u001B[39m\u001B[38;5;132;01m{\u001B[39;00mkey\u001B[38;5;132;01m}\u001B[39;00m\u001B[38;5;124m] are in the [\u001B[39m\u001B[38;5;132;01m{\u001B[39;00maxis_name\u001B[38;5;132;01m}\u001B[39;00m\u001B[38;5;124m]\u001B[39m\u001B[38;5;124m\"\u001B[39m)\n\u001B[1;32m   6132\u001B[0m not_found \u001B[38;5;241m=\u001B[39m \u001B[38;5;28mlist\u001B[39m(ensure_index(key)[missing_mask\u001B[38;5;241m.\u001B[39mnonzero()[\u001B[38;5;241m0\u001B[39m]]\u001B[38;5;241m.\u001B[39munique())\n\u001B[0;32m-> 6133\u001B[0m \u001B[38;5;28;01mraise\u001B[39;00m \u001B[38;5;167;01mKeyError\u001B[39;00m(\u001B[38;5;124mf\u001B[39m\u001B[38;5;124m\"\u001B[39m\u001B[38;5;132;01m{\u001B[39;00mnot_found\u001B[38;5;132;01m}\u001B[39;00m\u001B[38;5;124m not in index\u001B[39m\u001B[38;5;124m\"\u001B[39m)\n",
      "\u001B[0;31mKeyError\u001B[0m: \"['SalePrice'] not in index\""
     ]
    },
    {
     "data": {
      "text/plain": "<Figure size 1250x250 with 5 Axes>",
      "image/png": "[encoded data removed]"
     },
     "metadata": {},
     "output_type": "display_data"
    }
   ],
   "source": [
    "for i in range(0, len(df_num.columns), 5):\n",
    "    sns.pairplot(data=df_num,\n",
    "                x_vars=df_num.columns[i:i+5],\n",
    "                y_vars=['SalePrice'])"
   ]
  },
  {
   "cell_type": "code",
   "execution_count": 52,
   "metadata": {},
   "outputs": [],
   "source": [
    "data = data[data[\"LotFrontage\"] < 200]\n",
    "data = data[data[\"LotArea\"] < 100000]\n",
    "data = data[data[\"TotalBsmtSF\"] < 4000]\n",
    "data = data[data[\"GrLivArea\"] < 4000]\n"
   ]
  },
  {
   "cell_type": "code",
   "execution_count": 53,
   "metadata": {},
   "outputs": [
    {
     "data": {
      "text/plain": "        MSSubClass  LotFrontage       LotArea  OverallQual  OverallCond  \\\ncount  1195.000000  1195.000000   1195.000000   1195.00000  1195.000000   \nmean     57.251046    69.422594   9680.297908      6.10795     5.562343   \nstd      43.187437    21.848220   4913.315610      1.40443     1.095944   \nmin      20.000000    21.000000   1300.000000      1.00000     2.000000   \n25%      20.000000    59.000000   7411.000000      5.00000     5.000000   \n50%      50.000000    69.000000   9246.000000      6.00000     5.000000   \n75%      70.000000    80.000000  11217.000000      7.00000     6.000000   \nmax     190.000000   182.000000  70761.000000     10.00000     9.000000   \n\n       YearRemodAdd    BsmtUnfSF  TotalBsmtSF    GrLivArea  BedroomAbvGr  \\\ncount   1195.000000  1195.000000  1195.000000  1195.000000   1195.000000   \nmean    1985.133054   589.900418  1050.637657  1499.292887      2.860251   \nstd       21.207909   449.092611   415.534313   494.946196      0.810144   \nmin     1950.000000     0.000000     0.000000   334.000000      0.000000   \n25%     1965.500000   245.500000   784.000000  1131.500000      2.000000   \n50%     1995.000000   506.000000   988.000000  1456.000000      3.000000   \n75%     2004.000000   832.500000  1304.000000  1765.000000      3.000000   \nmax     2010.000000  2336.000000  3206.000000  3627.000000      8.000000   \n\n       KitchenAbvGr  TotRmsAbvGrd   GarageArea      SalePrice    bathrooms  \ncount   1195.000000   1195.000000  1195.000000    1195.000000  1195.000000  \nmean       1.051883      6.517992   470.661925  179618.072803     2.390795  \nstd        0.232932      1.612442   219.230208   80059.502132     0.915390  \nmin        0.000000      2.000000     0.000000   34900.000000     1.000000  \n25%        1.000000      5.000000   308.000000  127500.000000     2.000000  \n50%        1.000000      6.000000   478.000000  159000.000000     2.000000  \n75%        1.000000      7.000000   577.000000  213125.000000     3.000000  \nmax        3.000000     14.000000  1390.000000  625000.000000     6.000000  ",
      "text/html": "<div>\n<style scoped>\n    .dataframe tbody tr th:only-of-type {\n        vertical-align: middle;\n    }\n\n    .dataframe tbody tr th {\n        vertical-align: top;\n    }\n\n    .dataframe thead th {\n        text-align: right;\n    }\n</style>\n<table border=\"1\" class=\"dataframe\">\n  <thead>\n    <tr style=\"text-align: right;\">\n      <th></th>\n      <th>MSSubClass</th>\n      <th>LotFrontage</th>\n      <th>LotArea</th>\n      <th>OverallQual</th>\n      <th>OverallCond</th>\n      <th>YearRemodAdd</th>\n      <th>BsmtUnfSF</th>\n      <th>TotalBsmtSF</th>\n      <th>GrLivArea</th>\n      <th>BedroomAbvGr</th>\n      <th>KitchenAbvGr</th>\n      <th>TotRmsAbvGrd</th>\n      <th>GarageArea</th>\n      <th>SalePrice</th>\n      <th>bathrooms</th>\n    </tr>\n  </thead>\n  <tbody>\n    <tr>\n      <th>count</th>\n      <td>1195.000000</td>\n      <td>1195.000000</td>\n      <td>1195.000000</td>\n      <td>1195.00000</td>\n      <td>1195.000000</td>\n      <td>1195.000000</td>\n      <td>1195.000000</td>\n      <td>1195.000000</td>\n      <td>1195.000000</td>\n      <td>1195.000000</td>\n      <td>1195.000000</td>\n      <td>1195.000000</td>\n      <td>1195.000000</td>\n      <td>1195.000000</td>\n      <td>1195.000000</td>\n    </tr>\n    <tr>\n      <th>mean</th>\n      <td>57.251046</td>\n      <td>69.422594</td>\n      <td>9680.297908</td>\n      <td>6.10795</td>\n      <td>5.562343</td>\n      <td>1985.133054</td>\n      <td>589.900418</td>\n      <td>1050.637657</td>\n      <td>1499.292887</td>\n      <td>2.860251</td>\n      <td>1.051883</td>\n      <td>6.517992</td>\n      <td>470.661925</td>\n      <td>179618.072803</td>\n      <td>2.390795</td>\n    </tr>\n    <tr>\n      <th>std</th>\n      <td>43.187437</td>\n      <td>21.848220</td>\n      <td>4913.315610</td>\n      <td>1.40443</td>\n      <td>1.095944</td>\n      <td>21.207909</td>\n      <td>449.092611</td>\n      <td>415.534313</td>\n      <td>494.946196</td>\n      <td>0.810144</td>\n      <td>0.232932</td>\n      <td>1.612442</td>\n      <td>219.230208</td>\n      <td>80059.502132</td>\n      <td>0.915390</td>\n    </tr>\n    <tr>\n      <th>min</th>\n      <td>20.000000</td>\n      <td>21.000000</td>\n      <td>1300.000000</td>\n      <td>1.00000</td>\n      <td>2.000000</td>\n      <td>1950.000000</td>\n      <td>0.000000</td>\n      <td>0.000000</td>\n      <td>334.000000</td>\n      <td>0.000000</td>\n      <td>0.000000</td>\n      <td>2.000000</td>\n      <td>0.000000</td>\n      <td>34900.000000</td>\n      <td>1.000000</td>\n    </tr>\n    <tr>\n      <th>25%</th>\n      <td>20.000000</td>\n      <td>59.000000</td>\n      <td>7411.000000</td>\n      <td>5.00000</td>\n      <td>5.000000</td>\n      <td>1965.500000</td>\n      <td>245.500000</td>\n      <td>784.000000</td>\n      <td>1131.500000</td>\n      <td>2.000000</td>\n      <td>1.000000</td>\n      <td>5.000000</td>\n      <td>308.000000</td>\n      <td>127500.000000</td>\n      <td>2.000000</td>\n    </tr>\n    <tr>\n      <th>50%</th>\n      <td>50.000000</td>\n      <td>69.000000</td>\n      <td>9246.000000</td>\n      <td>6.00000</td>\n      <td>5.000000</td>\n      <td>1995.000000</td>\n      <td>506.000000</td>\n      <td>988.000000</td>\n      <td>1456.000000</td>\n      <td>3.000000</td>\n      <td>1.000000</td>\n      <td>6.000000</td>\n      <td>478.000000</td>\n      <td>159000.000000</td>\n      <td>2.000000</td>\n    </tr>\n    <tr>\n      <th>75%</th>\n      <td>70.000000</td>\n      <td>80.000000</td>\n      <td>11217.000000</td>\n      <td>7.00000</td>\n      <td>6.000000</td>\n      <td>2004.000000</td>\n      <td>832.500000</td>\n      <td>1304.000000</td>\n      <td>1765.000000</td>\n      <td>3.000000</td>\n      <td>1.000000</td>\n      <td>7.000000</td>\n      <td>577.000000</td>\n      <td>213125.000000</td>\n      <td>3.000000</td>\n    </tr>\n    <tr>\n      <th>max</th>\n      <td>190.000000</td>\n      <td>182.000000</td>\n      <td>70761.000000</td>\n      <td>10.00000</td>\n      <td>9.000000</td>\n      <td>2010.000000</td>\n      <td>2336.000000</td>\n      <td>3206.000000</td>\n      <td>3627.000000</td>\n      <td>8.000000</td>\n      <td>3.000000</td>\n      <td>14.000000</td>\n      <td>1390.000000</td>\n      <td>625000.000000</td>\n      <td>6.000000</td>\n    </tr>\n  </tbody>\n</table>\n</div>"
     },
     "execution_count": 53,
     "metadata": {},
     "output_type": "execute_result"
    }
   ],
   "source": [
    "data.describe()"
   ]
  },
  {
   "cell_type": "code",
   "execution_count": null,
   "metadata": {},
   "outputs": [],
   "source": [
    "for d in df_num.columns:\n",
    "    print(d)"
   ]
  },
  {
   "cell_type": "code",
   "execution_count": null,
   "metadata": {},
   "outputs": [],
   "source": [
    "for d in df_num.columns:\n",
    "    print(data[d])\n",
    "    max_value = data[d].max()\n",
    "    min_value = data[d].min()\n",
    "    new_value = (data[d]-min_value)/(max_value-min_value)\n",
    "    data[d] = new_value"
   ]
  },
  {
   "cell_type": "code",
   "execution_count": null,
   "metadata": {},
   "outputs": [],
   "source": [
    "data.describe()"
   ]
  },
  {
   "cell_type": "code",
   "execution_count": null,
   "metadata": {},
   "outputs": [],
   "source": []
  },
  {
   "cell_type": "code",
   "execution_count": null,
   "metadata": {},
   "outputs": [],
   "source": [
    "\"\"\"\n",
    "Remove outliers\n",
    "Deal with categorical data\n",
    "\"\"\"\n",
    "df_cat = data.select_dtypes(include = ['object'])\n",
    "df_cat['MSSubClass'] = data['MSSubClass']\n",
    "\n",
    "categorical_col = df_cat.columns\n",
    "for col in categorical_col:\n",
    "    data[col] = data[col].astype(\"categorical\")\n"
   ]
  },
  {
   "cell_type": "code",
   "execution_count": null,
   "metadata": {},
   "outputs": [],
   "source": []
  },
  {
   "cell_type": "code",
   "execution_count": null,
   "metadata": {},
   "outputs": [],
   "source": []
  }
 ],
 "metadata": {
  "kernelspec": {
   "name": "python3",
   "language": "python",
   "display_name": "Python 3 (ipykernel)"
  },
  "language_info": {
   "codemirror_mode": {
    "name": "ipython",
    "version": 3
   },
   "file_extension": ".py",
   "mimetype": "text/x-python",
   "name": "python",
   "nbconvert_exporter": "python",
   "pygments_lexer": "ipython3",
   "version": "3.6.13"
  }
 },
 "nbformat": 4,
 "nbformat_minor": 1
}
